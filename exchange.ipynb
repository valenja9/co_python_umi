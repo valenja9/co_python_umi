{
  "nbformat": 4,
  "nbformat_minor": 0,
  "metadata": {
    "colab": {
      "name": "exchange.ipynb",
      "provenance": [],
      "collapsed_sections": [],
      "include_colab_link": true
    },
    "kernelspec": {
      "name": "python3",
      "display_name": "Python 3"
    }
  },
  "cells": [
    {
      "cell_type": "markdown",
      "metadata": {
        "id": "view-in-github",
        "colab_type": "text"
      },
      "source": [
        "<a href=\"https://colab.research.google.com/github/valenja9/co_python_umi/blob/main/exchange.ipynb\" target=\"_parent\"><img src=\"https://colab.research.google.com/assets/colab-badge.svg\" alt=\"Open In Colab\"/></a>"
      ]
    },
    {
      "cell_type": "markdown",
      "metadata": {
        "id": "POlumat6-bac"
      },
      "source": [
        "# Devizové kurzy\n",
        "\n",
        "* ČNB denně vyhlašuje [kurzy různých měn](https://www.cnb.cz/cs/financni-trhy/devizovy-trh/kurzy-devizoveho-trhu/kurzy-devizoveho-trhu/). Data nabízí i v jednoduchém textovém formátu.\n",
        "* Chceme umět přepočítávat částky v různých měnách na koruny."
      ]
    },
    {
      "cell_type": "markdown",
      "metadata": {
        "id": "WQUNilna-5iW"
      },
      "source": [
        "## Získání dat\n",
        "Nástrojem pro stahování dat z internetu je knihovna `urllib`. S otevřeným síťovým spojením lze zacházet jako se souborem, ze kterého přečteme binární data a zavřeme jej. Převod bajtů na text se nazývá dekódování."
      ]
    },
    {
      "cell_type": "code",
      "metadata": {
        "id": "cjh26wpuwlNW"
      },
      "source": [
        "# download the data and decode the text\n",
        "\n",
        "from urllib.request import urlopen\n",
        "\n",
        "url = 'https://www.cnb.cz/cs/financni-trhy/devizovy-trh/kurzy-devizoveho-trhu/kurzy-devizoveho-trhu/denni_kurz.txt'\n",
        "\n",
        "with urlopen(url) as response: # open the network connection\n",
        "    text = response.read().decode('utf-8') # receive the binary data, then decode"
      ],
      "execution_count": null,
      "outputs": []
    },
    {
      "cell_type": "markdown",
      "metadata": {
        "id": "6Gq_HvD__YqW"
      },
      "source": [
        "## Zpracování dat\n",
        "Další kód píšeme do další buňky, abychom při jeho ladění nezatěžovali server stahováním dat při každém spuštění. Text potřebujeme rozdělit na řádky, ignorovat začáteční a koncové řádky bez dat. Každou řádku pak rozdělíme podle oddělovače na datová pole. Některá pole obsahující čísla ještě samostatně zpracujeme, abychom převedli string na číselná data. Z užitečných polí stavíme slovník postupným vkládáním položek. Klíčem slovníku je kód měny a hodnotou je jednotková cena. Takový slovník už lze snadno používat k výpočtům."
      ]
    },
    {
      "cell_type": "code",
      "metadata": {
        "id": "EBY3CcAsyDiO",
        "colab": {
          "base_uri": "https://localhost:8080/"
        },
        "outputId": "e5c9e2e3-625f-423b-8e49-5e3ffca3fd7c"
      },
      "source": [
        "# parse the text and make a useful dictionary\n",
        "\n",
        "exchange = dict() # start with an empty dictionary\n",
        "for line in text.split('\\n')[2:-1]: # split the text to lines, ignore the first 2 and last 1\n",
        "    country, currency, amount, code, rate = line.strip().split('|') # split each line into fields\n",
        "    amount = int(amount) # convert string to integer\n",
        "    rate = float(rate.replace(',', '.')) # Python needs a decimal point, not a decimal comma\n",
        "    exchange[code] = rate/amount # add a new currency to our dictionary\n",
        "\n",
        "#from pprint import pprint\n",
        "#pprint(exchange) # pretty print the whole database\n",
        "\n",
        "print(24.5 * exchange['EUR'], 'CZK') # convert a given amount to Czech crowns"
      ],
      "execution_count": null,
      "outputs": [
        {
          "output_type": "stream",
          "text": [
            "667.625 CZK\n"
          ],
          "name": "stdout"
        }
      ]
    },
    {
      "cell_type": "markdown",
      "metadata": {
        "id": "miCGlvwXB2uw"
      },
      "source": [
        "## Možná vylepšení\n",
        "\n",
        "* Přidejte [Bitcoin](https://www.bitstamp.net/api/), kód BTC.\n",
        "* Ošetřete chybové stavy, které mohou nastat při síťové komunikaci."
      ]
    }
  ]
}