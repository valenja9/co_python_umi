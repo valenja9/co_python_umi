{
  "nbformat": 4,
  "nbformat_minor": 0,
  "metadata": {
    "colab": {
      "name": "google search.ipynb",
      "provenance": [],
      "authorship_tag": "ABX9TyP31f3dVjcagisUmTQ8UjPc",
      "include_colab_link": true
    },
    "kernelspec": {
      "name": "python3",
      "display_name": "Python 3"
    }
  },
  "cells": [
    {
      "cell_type": "markdown",
      "metadata": {
        "id": "view-in-github",
        "colab_type": "text"
      },
      "source": [
        "<a href=\"https://colab.research.google.com/github/valenja9/co_python_umi/blob/main/google_search.ipynb\" target=\"_parent\"><img src=\"https://colab.research.google.com/assets/colab-badge.svg\" alt=\"Open In Colab\"/></a>"
      ]
    },
    {
      "cell_type": "code",
      "metadata": {
        "id": "At-f0RFmzICZ",
        "colab": {
          "base_uri": "https://localhost:8080/",
          "height": 34
        },
        "outputId": "3e25d30e-8c2e-4eda-fe84-533fa285712f"
      },
      "source": [
        "\n",
        "import requests\n",
        "\n",
        "query={\n",
        "\t\"q\": \"Avengers%2BEndgame\",\n",
        "\t\"hl\": \"en\",\n",
        "\t\"gl\": \"us\"\n",
        "}\n",
        "\n",
        "headers={\n",
        "\t\"x-rapidapi-host\": \"google-search1.p.rapidapi.com\",\n",
        "\t\"x-rapidapi-key\": \"d33441e95dmsh7dd5b9b7a5050b9p1ff79fjsn408fd7bc552d\"\n",
        "}\n",
        "\n",
        "r = requests.get(\"https://google-search1.p.rapidapi.com/google-search\",headers=headers)\n",
        "r.content"
      ],
      "execution_count": null,
      "outputs": [
        {
          "output_type": "execute_result",
          "data": {
            "text/plain": [
              "b'{\"message\":\"You are not subscribed to this API.\"}'"
            ]
          },
          "metadata": {
            "tags": []
          },
          "execution_count": 6
        }
      ]
    },
    {
      "cell_type": "code",
      "metadata": {
        "id": "g9ooF5cH1hNY",
        "colab": {
          "base_uri": "https://localhost:8080/",
          "height": 170
        },
        "outputId": "be92d364-e8ef-4481-ff16-900230cdc765"
      },
      "source": [
        "!pip install google-search-results-serpwow"
      ],
      "execution_count": null,
      "outputs": [
        {
          "output_type": "stream",
          "text": [
            "Collecting google-search-results-serpwow\n",
            "  Downloading https://files.pythonhosted.org/packages/ad/90/c3acc02eb6d47baf4974a7b807682edefb4eb840de028c12d69367c71365/google_search_results_serpwow-1.1.9-py3-none-any.whl\n",
            "Requirement already satisfied: requests in /usr/local/lib/python3.6/dist-packages (from google-search-results-serpwow) (2.21.0)\n",
            "Requirement already satisfied: idna<2.9,>=2.5 in /usr/local/lib/python3.6/dist-packages (from requests->google-search-results-serpwow) (2.8)\n",
            "Requirement already satisfied: urllib3<1.25,>=1.21.1 in /usr/local/lib/python3.6/dist-packages (from requests->google-search-results-serpwow) (1.24.3)\n",
            "Requirement already satisfied: certifi>=2017.4.17 in /usr/local/lib/python3.6/dist-packages (from requests->google-search-results-serpwow) (2019.11.28)\n",
            "Requirement already satisfied: chardet<3.1.0,>=3.0.2 in /usr/local/lib/python3.6/dist-packages (from requests->google-search-results-serpwow) (3.0.4)\n",
            "Installing collected packages: google-search-results-serpwow\n",
            "Successfully installed google-search-results-serpwow-1.1.9\n"
          ],
          "name": "stdout"
        }
      ]
    },
    {
      "cell_type": "code",
      "metadata": {
        "id": "ldsjvJi91esD",
        "colab": {
          "base_uri": "https://localhost:8080/",
          "height": 119
        },
        "outputId": "eb3011f9-84df-4b94-bb06-43281a61f1b0"
      },
      "source": [
        "from serpwow.google_search_results import GoogleSearchResults\n",
        "import json\n",
        "\n",
        "# create the serpwow object, passing in our API key\n",
        "serpwow = GoogleSearchResults(\"demo\")\n",
        "\n",
        "# set up a dict for the search parameters\n",
        "params = {\n",
        "  \"q\" : \"Bitcoin\",\n",
        "  \"engine\" : \"google\",\n",
        "  \"search_type\" : \"news\",\n",
        "  \"gl\" : \"cz\",\n",
        "  \"hl\" : \"cs\"\n",
        "}\n",
        "\n",
        "# retrieve the search results as JSON\n",
        "result = serpwow.get_json(params)\n",
        "\n",
        "# pretty-print the result\n",
        "print(json.dumps(result, indent=2, sort_keys=True))"
      ],
      "execution_count": null,
      "outputs": [
        {
          "output_type": "stream",
          "text": [
            "{\n",
            "  \"request_info\": {\n",
            "    \"message\": \"Thank you for your interest in our service. Please sign up for a Plan or Free Trial (p.s. we'd love to welcome you as a customer!).\",\n",
            "    \"success\": false\n",
            "  }\n",
            "}\n"
          ],
          "name": "stdout"
        }
      ]
    },
    {
      "cell_type": "code",
      "metadata": {
        "id": "WigYQoDk4O1D",
        "colab": {
          "base_uri": "https://localhost:8080/",
          "height": 204
        },
        "outputId": "b1d79e7f-ba1f-4a44-f00e-bf800a324c0b"
      },
      "source": [
        "!pip install google-api-python-client"
      ],
      "execution_count": null,
      "outputs": [
        {
          "output_type": "stream",
          "text": [
            "Requirement already satisfied: google-api-python-client in /usr/local/lib/python3.6/dist-packages (1.7.12)\n",
            "Requirement already satisfied: six<2dev,>=1.6.1 in /usr/local/lib/python3.6/dist-packages (from google-api-python-client) (1.12.0)\n",
            "Requirement already satisfied: httplib2<1dev,>=0.17.0 in /usr/local/lib/python3.6/dist-packages (from google-api-python-client) (0.17.0)\n",
            "Requirement already satisfied: google-auth-httplib2>=0.0.3 in /usr/local/lib/python3.6/dist-packages (from google-api-python-client) (0.0.3)\n",
            "Requirement already satisfied: google-auth>=1.4.1 in /usr/local/lib/python3.6/dist-packages (from google-api-python-client) (1.7.2)\n",
            "Requirement already satisfied: uritemplate<4dev,>=3.0.0 in /usr/local/lib/python3.6/dist-packages (from google-api-python-client) (3.0.1)\n",
            "Requirement already satisfied: cachetools<3.2,>=2.0.0 in /usr/local/lib/python3.6/dist-packages (from google-auth>=1.4.1->google-api-python-client) (3.1.1)\n",
            "Requirement already satisfied: setuptools>=40.3.0 in /usr/local/lib/python3.6/dist-packages (from google-auth>=1.4.1->google-api-python-client) (46.1.3)\n",
            "Requirement already satisfied: pyasn1-modules>=0.2.1 in /usr/local/lib/python3.6/dist-packages (from google-auth>=1.4.1->google-api-python-client) (0.2.8)\n",
            "Requirement already satisfied: rsa<4.1,>=3.1.4 in /usr/local/lib/python3.6/dist-packages (from google-auth>=1.4.1->google-api-python-client) (4.0)\n",
            "Requirement already satisfied: pyasn1<0.5.0,>=0.4.6 in /usr/local/lib/python3.6/dist-packages (from pyasn1-modules>=0.2.1->google-auth>=1.4.1->google-api-python-client) (0.4.8)\n"
          ],
          "name": "stdout"
        }
      ]
    },
    {
      "cell_type": "code",
      "metadata": {
        "id": "ZTmnkwRv4onH",
        "colab": {
          "base_uri": "https://localhost:8080/",
          "height": 51
        },
        "outputId": "c024cfc0-ca88-4565-d59f-e39b6b334430"
      },
      "source": [
        "!pip install google"
      ],
      "execution_count": null,
      "outputs": [
        {
          "output_type": "stream",
          "text": [
            "Requirement already satisfied: google in /usr/local/lib/python3.6/dist-packages (2.0.3)\n",
            "Requirement already satisfied: beautifulsoup4 in /usr/local/lib/python3.6/dist-packages (from google) (4.6.3)\n"
          ],
          "name": "stdout"
        }
      ]
    },
    {
      "cell_type": "code",
      "metadata": {
        "id": "7y-PVGhN45ju",
        "colab": {
          "base_uri": "https://localhost:8080/",
          "height": 1000
        },
        "outputId": "6a08edf8-5cf2-4b2a-836f-ba86a3300a1a"
      },
      "source": [
        "\n",
        "try: \n",
        "    from googlesearch import search\n",
        "    import re\n",
        "except ImportError:  \n",
        "    print(\"No module named 'google' found\") \n",
        "  \n",
        "# to search \n",
        "query = \"Elektromobil tesla\"\n",
        "\n",
        "# print(search())\n",
        "print(len('https://www.dictionary.com/browse/hybrid'))\n",
        "\n",
        "for i,j in enumerate(search(query, tld=\"co.in\",tbs=\"qdr:m\",num=10,start=0 ,stop=100, pause=2,country=\"cz\",domains=[\"https://www.teslamagazin.sk/\",])):\n",
        "  if len(j) > 60:\n",
        "    print(j)\n",
        "  \n",
        "# my_list = { i:j for i,j in enumerate(search(query, tld=\"co.in\", num=10,start=0 ,stop=100, pause=2,country=\"cz\"))}"
      ],
      "execution_count": null,
      "outputs": [
        {
          "output_type": "stream",
          "text": [
            "40\n",
            "https://www.teslamagazin.sk/category/elektromobilita/elektromobily/\n",
            "https://www.teslamagazin.sk/elektromobil-vybitie-baterie-nula/\n",
            "https://www.teslamagazin.sk/tesla-vyroba-elektromobil-milion/\n",
            "https://www.teslamagazin.sk/elektromobily-dojazd-zima-test-nef/\n",
            "https://www.teslamagazin.sk/tesla-model-y-vs-tesla-model-3-porovnanie-rozdiely/\n",
            "https://www.teslamagazin.sk/wuling-e5c-elektromobil/wuling-e5c-elektromobil-2/\n",
            "https://www.teslamagazin.sk/tesla-model-3-dojazd-spotreba-vykurovanie/\n",
            "https://www.teslamagazin.sk/category/tesla-motors/tesla-model-y-novinky/\n",
            "https://www.teslamagazin.sk/tesla-tovarne-koronavirus-odstavky-vyroba-upgrade/\n",
            "https://www.teslamagazin.sk/tesla-model-y-rozmery-hmotnost-kufor-off-road-asistent/\n",
            "https://www.teslamagazin.sk/tesla-model-y-svetla-vyska-razvor/\n",
            "https://www.teslamagazin.sk/tesla-cybertruck-rezervacie-europa/\n",
            "https://www.teslamagazin.sk/obytny-elektromobil-tuk-tuk-xinge/\n",
            "https://www.teslamagazin.sk/elektromobily-dan-z-motorovych-vozidiel-britania/\n",
            "https://www.teslamagazin.sk/category/elektromobilita/elektromobily/page/3/\n",
            "https://www.teslamagazin.sk/volkswagen-id-1-mestsky-elektromobil/\n",
            "https://www.teslamagazin.sk/elektromobily-rychlost-nabijania-zima-test/\n",
            "https://www.teslamagazin.sk/volkswagen-bateriove-clanky-elektromobily/\n",
            "https://www.teslamagazin.sk/hongqi-e115-elektromobil-cina/hongqi-e115-2/\n",
            "https://www.teslamagazin.sk/tesla-model-y-tepelne-cerpadlo-2/\n",
            "https://www.teslamagazin.sk/melex-elektromobil-vyuzitie/melex-elektromobil/\n",
            "https://www.teslamagazin.sk/xpeng-p7-dojazd-elektromobil/xpeng-p7-6/\n",
            "https://www.teslamagazin.sk/elektromobily-volkswagen-id-dojazd-zima-leto/\n",
            "https://www.teslamagazin.sk/tesla-mobilny-servis-odovzdavanie-aut-no-touch-bezdotykovo/\n",
            "https://www.teslamagazin.sk/tesla-ventilator-koronavirus-model-3-suciastky/tesla-ventilator-koronavirus/\n",
            "https://www.teslamagazin.sk/tesla-plaid-pohonny-system-zjednodusenie/\n",
            "https://www.teslamagazin.sk/tesla-solarna-strecha-vyroba-plan-naplnenie/\n",
            "https://www.teslamagazin.sk/tag/elektromobilita-na-slovensku/\n",
            "https://www.teslamagazin.sk/tesla-model-c-hatchback-koronavirus/\n",
            "https://www.teslamagazin.sk/elektromobily-bez-dph-velka-britania/\n",
            "https://www.teslamagazin.sk/solid-state-bateria-samsung-elektromobily/\n",
            "https://www.teslamagazin.sk/tesla-koronavirus-vyroba-hospodarska-kriza/\n",
            "https://www.teslamagazin.sk/tesla-koronavirus-ventilatory-vyroba/\n",
            "https://www.teslamagazin.sk/mercedes-benz-eeconic-smetiarsky-elektromobil/\n",
            "https://www.teslamagazin.sk/obytny-elektromobil-tuk-tuk-xinge/obytny-elektromobil-tuk-tuk-xinge-3/\n",
            "https://www.teslamagazin.sk/volkswagen-id-3-vs-golf-naklady-na-vlastnictvo/\n",
            "https://www.teslamagazin.sk/tesla-model-3-standard-range-35000/\n",
            "https://www.teslamagazin.sk/jet-motor-company-afrika-tesla-elektromobily/\n",
            "https://www.teslamagazin.sk/tesla-model-y-camp-mode-test/tesla-model-y-camp-mode/\n",
            "https://www.teslamagazin.sk/hongqi-e115-elektromobil-cina/hongqi-e115-3/\n",
            "https://www.teslamagazin.sk/skoda-elektromobilita-plany-2020/\n",
            "https://www.teslamagazin.sk/tesla-koronavirus-elon-musk-mail/\n",
            "https://www.teslamagazin.sk/nabijanie-elektromobilov-byty-sidliska/\n",
            "https://www.teslamagazin.sk/tesla-model-y-vzduchove-pruzenie/\n",
            "https://www.teslamagazin.sk/koenigsegg-gemera/koenigsegg-gemera-interier-2/\n",
            "https://www.teslamagazin.sk/index-nabijania-elektromobilov-rychlost-p3/\n",
            "https://www.teslamagazin.sk/hongqi-e115-elektromobil-cina/hongqi-e115-1/\n",
            "https://www.teslamagazin.sk/tesla-elektromobily-americka-armada-prinosy/\n",
            "https://www.teslamagazin.sk/koenigsegg-gemera/koenigsegg-gemera-interier-3/\n",
            "https://www.teslamagazin.sk/tesla-ventilator-koronavirus-model-3-suciastky/\n",
            "https://www.teslamagazin.sk/e-go-life-cross-sport/e-go-life-cross-3/\n",
            "https://www.teslamagazin.sk/tesla-model-y-kvalita-spracovania/\n",
            "https://www.teslamagazin.sk/solarna-autoplachta-elektromobily-armor-asca/\n",
            "https://www.teslamagazin.sk/volkswagen-v2g-elektromobily-energetika-podnikanie/\n",
            "https://www.teslamagazin.sk/baterie-elektromobily-recyklacia-renault/\n",
            "https://www.teslamagazin.sk/tesla-model-y-kabelaz-automatizacia-vyroby/\n",
            "https://www.teslamagazin.sk/tesla-model-y-vs-tesla-model-3-porovnanie-rozdiely/tesla-model-y-4-3/\n",
            "https://www.teslamagazin.sk/skoda-enyaq-teaser-bok/skoda-enyaq-3/\n",
            "https://www.teslamagazin.sk/tesla-model-y-vylepsenia-reverzne-inzinierstvo/\n",
            "https://www.teslamagazin.sk/jazdene-elektromobily-predaj-porovnanie/\n"
          ],
          "name": "stdout"
        }
      ]
    },
    {
      "cell_type": "code",
      "metadata": {
        "id": "jpp0CwNlCkf_"
      },
      "source": [
        "# Tahle nacpat do gekodriveru! a napisu jednoduchy scraper!"
      ],
      "execution_count": null,
      "outputs": []
    },
    {
      "cell_type": "code",
      "metadata": {
        "id": "YATqvOSHFLwx",
        "colab": {
          "base_uri": "https://localhost:8080/",
          "height": 34
        },
        "outputId": "8179ba9c-1f86-4e5d-8240-54e2ad3e1cc8"
      },
      "source": [
        "%%writefile zdroje.txt\n",
        "e15.cz\n",
        "cryptosvet.cz\n",
        "kurzy.cz"
      ],
      "execution_count": null,
      "outputs": [
        {
          "output_type": "stream",
          "text": [
            "Writing zdroje.txt\n"
          ],
          "name": "stdout"
        }
      ]
    },
    {
      "cell_type": "code",
      "metadata": {
        "id": "-t4In2rrFFOn",
        "colab": {
          "base_uri": "https://localhost:8080/",
          "height": 200
        },
        "outputId": "ad02c3d8-3502-476d-abfe-81dfcc0ca0a7"
      },
      "source": [
        "\n",
        "import webbrowser\n",
        "# od = input(\"Od roku? \")\n",
        "# do = input(\"Do roku? \")\n",
        "slovo = input(\"Zadej token: \")\n",
        "\n",
        "\n",
        "\n",
        "\n",
        "with open(\"zdroje.txt\") as file:\n",
        "    vyhledavat_na = \"+OR+site%3A\".join([ zdroj for zdroj in file.readlines() if not zdroj.startswith(\"r/\") and not zdroj.startswith(\"@\") ])\n",
        "\n",
        "strany = [\"&lr=&hl=cs&tbs=qdr:d&sxsrf=ALeKk00oUJzKwEMzETl6CB3B5Uelbd2UIQ:1593771105031&source=lnt&sa=X&ved=2ahUKEwjh68WE7LDqAhUs5uAKHXtqCiIQpwV6BAgLEB4&biw=1536&bih=674\",\n",
        "          \"&lr=&hl=cs&tbs=qdr:d&sxsrf=ALeKk02rjmtJ5aGAVRBBkYEbHdemOJLDOw:1593771300561&ei=JAX_XubZIb2cjLsPuqqTyAI&start=10&sa=N&ved=2ahUKEwjm--Ph7LDqAhU9DmMBHTrVBCkQ8tMDegQICxAw&biw=1536&bih=674\",\n",
        "          \"&lr=&hl=cs&tbs=qdr:d&sxsrf=ALeKk01O0CcyVs4aLel4g1ub5Mrr54CSjA:1593771310386&ei=LgX_XvKQF7HkgwfrjpRg&start=20&sa=N&ved=2ahUKEwjy37vm7LDqAhUx8uAKHWsHBQw4ChDy0wN6BAgLEDI&biw=1536&bih=674\",\n",
        "          \"&lr=&hl=cs&tbs=qdr:d&sxsrf=ALeKk02irNpSRaapCK4s9LPP6NNcC9a8-A:1593771362697&ei=YgX_Xsv_KbSr1fAPyoyCyAI&start=30&sa=N&ved=2ahUKEwjLuLT_7LDqAhW0VRUIHUqGACk4FBDy0wN6BAgLEDQ&biw=1536&bih=674\"]\n",
        "\n",
        "#uprava\n",
        "od = \"+\".join(od.split())\n",
        "do = \"+\".join(do.split())\n",
        "youtube_search =f\"\"\"https://www.google.com/search?q={slovo}+site%3A{vyhledavat_na}&lr=&hl=cs&tbs=qdr:d&sxsrf=ALeKk00oUJzKwEMzETl6CB3B5Uelbd2UIQ:1593771105031&source=lnt&sa=X&ved=2ahUKEwjh68WE7LDqAhUs5uAKHXtqCiIQpwV6BAgLEB4&biw=1536&bih=674\"\"\"\n",
        "print(youtube_search)\n",
        "webbrowser.open_new(youtube_search)\n",
        "\n"
      ],
      "execution_count": null,
      "outputs": [
        {
          "output_type": "stream",
          "text": [
            "Zadej token: zlato\n",
            "https://www.google.com/search?q=zlato+site%3AFeedit.cz\n",
            "+OR+site%3ABlesk.cz\n",
            "+OR+site%3AFood.cz\n",
            "+OR+site%3AHRmag.cz\n",
            "+OR+site%3AAutomakers.cz\n",
            "+OR+site%3ANovinky.cz\n",
            "+OR+site%3Ae-litomerice.cz\n",
            "+OR+site%3ACzc.cz&lr=&hl=cs&tbs=qdr:d&sxsrf=ALeKk00oUJzKwEMzETl6CB3B5Uelbd2UIQ:1593771105031&source=lnt&sa=X&ved=2ahUKEwjh68WE7LDqAhUs5uAKHXtqCiIQpwV6BAgLEB4&biw=1536&bih=674\n"
          ],
          "name": "stdout"
        },
        {
          "output_type": "execute_result",
          "data": {
            "text/plain": [
              "False"
            ]
          },
          "metadata": {
            "tags": []
          },
          "execution_count": 25
        }
      ]
    },
    {
      "cell_type": "code",
      "metadata": {
        "id": "RM529EeJFrqo"
      },
      "source": [
        "import requests\n",
        "r=requests.get(youtube_search)"
      ],
      "execution_count": null,
      "outputs": []
    },
    {
      "cell_type": "code",
      "metadata": {
        "id": "8LP10gEAF5zx",
        "colab": {
          "base_uri": "https://localhost:8080/",
          "height": 1000
        },
        "outputId": "bcf32624-b23a-4bdf-b60f-b69f2401ec3f"
      },
      "source": [
        "r.text"
      ],
      "execution_count": null,
      "outputs": [
        {
          "output_type": "execute_result",
          "data": {
            "application/vnd.google.colaboratory.intrinsic": {
              "type": "string"
            },
            "text/plain": [
              "'<!doctype html><html lang=\"cs-US\"><head><meta charset=\"UTF-8\"><meta content=\"/images/branding/googleg/1x/googleg_standard_color_128dp.png\" itemprop=\"image\"><title>zeman site:Feedit.cz\\n OR site:Blesk.cz\\n OR site:Food.cz\\n OR site:HRmag.cz\\n OR site:Automakers.cz\\n OR site:Novinky.cz\\n OR site:e-litomerice.cz\\n OR site:Czc.cz - Hledat Googlem</title><script nonce=\"L5zq4xU4PhU2C+gt2Y3Xow==\">(function(){\\ndocument.documentElement.addEventListener(\"submit\",function(b){var a;if(a=b.target){var c=a.getAttribute(\"data-submitfalse\");a=\"1\"==c||\"q\"==c&&!a.elements.q.value?!0:!1}else a=!1;a&&(b.preventDefault(),b.stopPropagation())},!0);document.documentElement.addEventListener(\"click\",function(b){var a;a:{for(a=b.target;a&&a!=document.documentElement;a=a.parentElement)if(\"A\"==a.tagName){a=\"1\"==a.getAttribute(\"data-nohref\");break a}a=!1}a&&b.preventDefault()},!0);}).call(this);(function(){\\nvar a=window.performance;window.start=Date.now();a:{var b=window;if(a){var c=a.timing;if(c){var d=c.navigationStart,f=c.responseStart;if(f>d&&f<=window.start){window.start=f;b.wsrt=f-d;break a}}a.now&&(b.wsrt=Math.floor(a.now()))}}window.google=window.google||{};var h=function(g){g&&g.target.setAttribute(\"data-iml\",Date.now())};document.documentElement.addEventListener(\"load\",h,!0);google.rglh=function(){document.documentElement.removeEventListener(\"load\",h,!0)};}).call(this);(function(){\\nvar c=[],e=0;window.ping=function(b){-1==b.indexOf(\"&zx\")&&(b+=\"&zx=\"+Date.now());var a=new Image,d=e++;c[d]=a;a.onerror=a.onload=a.onabort=function(){delete c[d]};a.src=b};}).call(this);</script><style>body{margin:0 auto;max-width:736px;padding:0 8px}a{color:#1967D2;text-decoration:none;tap-highlight-color:rgba(0,0,0,.1)}a:visited{color:#4B11A8}a:hover{text-decoration:underline}img{border:0}html{font-family:Roboto,HelveticaNeue,Arial,sans-serif;font-size:14px;line-height:20px;text-size-adjust:100%;color:#3C4043;word-wrap:break-word;background-color:#fff}.bRsWnc{background-color:#fff;border-top:1px solid #e0e0e0;height:39px;overflow:hidden}.N6RWV{height:51px;overflow-scrolling:touch;overflow-x:auto;overflow-y:hidden}.Uv67qb{box-pack:justify;font-size:12px;line-height:37px;justify-content:space-between;justify-content:space-between}.Uv67qb a,.Uv67qb span{color:#757575;display:block;flex:none;padding:0 16px;text-align:center;text-transform:uppercase;}span.OXXup{border-bottom:2px solid #4285f4;color:#4285f4;font-weight:bold}a.eZt8xd:visited{color:#757575}.FElbsf{border-left:1px solid rgba(0,0,0,.12)}header article{overflow:visible}.Pg70bf{height:39px;display:box;display:flex;display:flex;width:100%}.H0PQec{position:relative;flex:1}.sbc{display:flex;width:100%}.Pg70bf input{margin:2px 4px 2px 8px;}.x{width:26px;color:#757575;font:27px/38px arial, sans-serif;line-height:40px;}#qdClwb{flex:0 0 auto;width:39px;height:39px;border-bottom:0;padding:0;border-top-right-radius:8px;background-color:#3b78e7;border:1px solid #3367d6;background-image:url(data:image/gif;base64,R0lGODdhJAAjAPIHAODr/nCk+MPZ/FmV96zK+/7+/5K5+kqL9iwAAAAAJAAjAEADani63P4wykmbKcQRXDscQAEMXmmeaLQVLCukzyC09AjfeK7v/MAajACLhPMVAgwjsUcEiZa8xgAYrVqv2Kx2iwsIAAABknfBBAKrTE4IcMyot8ur8datqIbQfJdnAfo2WE6BV05wXIiJigkAOw==);}.sc{font-size:;position:absolute;top:39px;left:0;right:0;box-shadow:0px 2px 5px rgba(0,0,0,.2);z-index:2;background-color:#fff}.sc>div{padding:10px 10px;padding-left:16px;padding-left:14px;border-top:1px solid #DFE1E5}.scs{background-color:#f5f5f5;}.noHIxc{display:block;font-size:16px;padding:0 0 0 8px;flex:1;height:35px;outline:none;border:none;width:100%;-webkit-tap-highlight-color:rgba(0,0,0,0);overflow:hidden;}.sbc input[type=text]{background:none}.sml .cOl4Id{display:none}.l{display:none}.sml header{background:none}.sml .l{display:block;padding:0 8px}.sml .l{letter-spacing:-1px;text-align:center;border-radius:2px 0 0 0;font:22px/36px Futura, Arial, sans-serif;font-smoothing:antialiased}.bz1lBb{background:#fff;border-radius:8px 8px 0 0;box-shadow:0 1px 6px rgba(32, 33, 36, 0.18);margin-top:10px}.KP7LCb{border-radius:0 0 8px 8px;box-shadow:0 2px 3px rgba(32, 33, 36, 0.18);margin-bottom:10px;overflow:hidden}.cOl4Id{letter-spacing:-1px;text-align:center;font:22pt Futura, Arial, sans-serif;padding:10px 0 5px 0;height:37px;font-smoothing:antialiased}.cOl4Id span{display:inline-block}.S591j{height:100%}.V6gwVd{color:#4285f4}.iWkuvd{color:#ea4335}.cDrQ7{color:#fbcc05}.ntlR9{color:#34a853}.tJ3Myc{-webkit-transform:rotate(-20deg);position:relative;left:-1px;display:inline-block}footer{text-align:center;margin-top:18px}footer a,footer a:visited,.smiUbb{color:#5f6368}.ksTU4c{margin:0 13px}#mCljob{margin-top:36px}#mCljob>div{margin:20px}</style></head><body jsmodel=\" TvHxbe\"><header id=\"hdr\"><script nonce=\"L5zq4xU4PhU2C+gt2Y3Xow==\">(function(){\\nvar h=this||self,l=function(){},aa=function(a){var b=typeof a;return\"object\"!=b?b:a?Array.isArray(a)?\"array\":b:\"null\"},m=function(a){var b=typeof a;return\"object\"==b&&null!=a||\"function\"==b},ba=function(a,b){function c(){}c.prototype=b.prototype;a.l=b.prototype;a.prototype=new c;a.prototype.constructor=a};var n=Array.prototype.indexOf?function(a,b){return Array.prototype.indexOf.call(a,b,void 0)}:function(a,b){if(\"string\"===typeof a)return\"string\"!==typeof b||1!=b.length?-1:a.indexOf(b,0);for(var c=0;c<a.length;c++)if(c in a&&a[c]===b)return c;return-1},ca=Array.prototype.filter?function(a,b){return Array.prototype.filter.call(a,b,void 0)}:function(a,b){for(var c=a.length,d=[],e=0,f=\"string\"===typeof a?a.split(\"\"):a,g=0;g<c;g++)if(g in f){var k=f[g];b.call(void 0,k,g,a)&&(d[e++]=k)}return d};var p=function(a){return\"string\"==typeof a.className?a.className:a.getAttribute&&a.getAttribute(\"class\")||\"\"},q=function(a,b){\"string\"==typeof a.className?a.className=b:a.setAttribute&&a.setAttribute(\"class\",b)},r=function(a,b){a.classList?b=a.classList.contains(b):(a=a.classList?a.classList:p(a).match(/\\\\S+/g)||[],b=0<=n(a,b));return b},da=function(){var a=t,b=u;a.classList?a.classList.remove(b):r(a,b)&&q(a,ca(a.classList?a.classList:p(a).match(/\\\\S+/g)||[],function(c){return c!=b}).join(\" \"))};var v=String.prototype.trim?function(a){return a.trim()}:function(a){return/^[\\\\s\\\\xa0]*([\\\\s\\\\S]*?)[\\\\s\\\\xa0]*$/.exec(a)[1]},w=function(a,b){return a<b?-1:a>b?1:0};var x;a:{var y=h.navigator;if(y){var z=y.userAgent;if(z){x=z;break a}}x=\"\"};var A=function(a){A[\" \"](a);return a};A[\" \"]=l;var ea=-1!=x.indexOf(\"Opera\"),B=-1!=x.indexOf(\"Trident\")||-1!=x.indexOf(\"MSIE\"),fa=-1!=x.indexOf(\"Edge\"),C=-1!=x.indexOf(\"Gecko\")&&!(-1!=x.toLowerCase().indexOf(\"webkit\")&&-1==x.indexOf(\"Edge\"))&&!(-1!=x.indexOf(\"Trident\")||-1!=x.indexOf(\"MSIE\"))&&-1==x.indexOf(\"Edge\"),ha=-1!=x.toLowerCase().indexOf(\"webkit\")&&-1==x.indexOf(\"Edge\"),ia=function(){var a=h.document;return a?a.documentMode:void 0},D;a:{var E=\"\",F=function(){var a=x;if(C)return/rv:([^\\\\);]+)(\\\\)|;)/.exec(a);if(fa)return/Edge\\\\/([\\\\d\\\\.]+)/.exec(a);if(B)return/\\\\b(?:MSIE|rv)[:]([^\\\\);]+)(\\\\)|;)/.exec(a);if(ha)return/WebKit\\\\/(\\\\S+)/.exec(a);if(ea)return/(?:Version)[ \\\\/]?(\\\\S+)/.exec(a)}();F&&(E=F?F[1]:\"\");if(B){var G=ia();if(null!=G&&G>parseFloat(E)){D=String(G);break a}}D=E}var ja=D,H={},I;if(h.document&&B){var ka=ia();I=ka?ka:parseInt(ja,10)||void 0}else I=void 0;var la=I;var J;(J=!B)||(J=9<=Number(la));var ma=J,K;if(K=B){var L;if(Object.prototype.hasOwnProperty.call(H,\"9\"))L=H[\"9\"];else{for(var M=0,na=v(String(ja)).split(\".\"),oa=v(\"9\").split(\".\"),pa=Math.max(na.length,oa.length),N=0;0==M&&N<pa;N++){var qa=na[N]||\"\",ra=oa[N]||\"\";do{var O=/(\\\\d*)(\\\\D*)(.*)/.exec(qa)||[\"\",\"\",\"\",\"\"],P=/(\\\\d*)(\\\\D*)(.*)/.exec(ra)||[\"\",\"\",\"\",\"\"];if(0==O[0].length&&0==P[0].length)break;M=w(0==O[1].length?0:parseInt(O[1],10),0==P[1].length?0:parseInt(P[1],10))||w(0==O[2].length,0==P[2].length)||w(O[2],P[2]);qa=O[3];ra=P[3]}while(0==M)}L=\\nH[\"9\"]=0<=M}K=!L}var sa=K,ta=function(){if(!h.addEventListener||!Object.defineProperty)return!1;var a=!1,b=Object.defineProperty({},\"passive\",{get:function(){a=!0}});try{h.addEventListener(\"test\",l,b),h.removeEventListener(\"test\",l,b)}catch(c){}return a}();var Q=function(a,b){this.type=a;this.a=this.target=b};Q.prototype.g=function(){};var R=function(a,b){Q.call(this,a?a.type:\"\");this.relatedTarget=this.a=this.target=null;this.button=this.screenY=this.screenX=this.clientY=this.clientX=0;this.key=\"\";this.keyCode=0;this.metaKey=this.shiftKey=this.altKey=this.ctrlKey=!1;this.pointerId=0;this.pointerType=\"\";this.j=null;if(a){var c=this.type=a.type,d=a.changedTouches&&a.changedTouches.length?a.changedTouches[0]:null;this.target=a.target||a.srcElement;this.a=b;if(b=a.relatedTarget){if(C){a:{try{A(b.nodeName);var e=!0;break a}catch(f){}e=\\n!1}e||(b=null)}}else\"mouseover\"==c?b=a.fromElement:\"mouseout\"==c&&(b=a.toElement);this.relatedTarget=b;d?(this.clientX=void 0!==d.clientX?d.clientX:d.pageX,this.clientY=void 0!==d.clientY?d.clientY:d.pageY,this.screenX=d.screenX||0,this.screenY=d.screenY||0):(this.clientX=void 0!==a.clientX?a.clientX:a.pageX,this.clientY=void 0!==a.clientY?a.clientY:a.pageY,this.screenX=a.screenX||0,this.screenY=a.screenY||0);this.button=a.button;this.keyCode=a.keyCode||0;this.key=a.key||\"\";this.ctrlKey=a.ctrlKey;this.altKey=a.altKey;this.shiftKey=a.shiftKey;this.metaKey=a.metaKey;this.pointerId=a.pointerId||0;this.pointerType=\"string\"===typeof a.pointerType?a.pointerType:ua[a.pointerType]||\"\";this.j=a;a.defaultPrevented&&this.g()}};ba(R,Q);var ua={2:\"touch\",3:\"pen\",4:\"mouse\"};R.prototype.g=function(){R.l.g.call(this);var a=this.j;if(a.preventDefault)a.preventDefault();else if(a.returnValue=!1,sa)try{if(a.ctrlKey||112<=a.keyCode&&123>=a.keyCode)a.keyCode=-1}catch(b){}};var S=\"closure_listenable_\"+(1E6*Math.random()|0),va=0;var wa=function(a,b,c,d,e){this.listener=a;this.a=null;this.src=b;this.type=c;this.capture=!!d;this.g=e;this.key=++va;this.h=this.i=!1},xa=function(a){a.h=!0;a.listener=null;a.a=null;a.src=null;a.g=null};var T=function(a){this.src=a;this.a={};this.g=0};T.prototype.add=function(a,b,c,d,e){var f=a.toString();a=this.a[f];a||(a=this.a[f]=[],this.g++);var g;a:{for(g=0;g<a.length;++g){var k=a[g];if(!k.h&&k.listener==b&&k.capture==!!d&&k.g==e)break a}g=-1}-1<g?(b=a[g],c||(b.i=!1)):(b=new wa(b,this.src,f,!!d,e),b.i=c,a.push(b));return b};var U=\"closure_lm_\"+(1E6*Math.random()|0),V={},ya=0,za=function(a,b,c,d,e){if(d&&d.once)return W(a,b,c,d,e);if(Array.isArray(b)){for(var f=0;f<b.length;f++)za(a,b[f],c,d,e);return null}c=Aa(c);return a&&a[S]?a.a(b,c,m(d)?!!d.capture:!!d,e):Ba(a,b,c,!1,d,e)},Ba=function(a,b,c,d,e,f){if(!b)throw Error(\"a\");var g=m(e)?!!e.capture:!!e,k=X(a);k||(a[U]=k=new T(a));c=k.add(b,c,d,g,f);if(c.a)return c;d=Ca();c.a=d;d.src=a;d.listener=c;if(a.addEventListener)ta||(e=g),void 0===e&&(e=!1),a.addEventListener(b.toString(),d,e);else if(a.attachEvent)a.attachEvent(Da(b.toString()),d);else if(a.addListener&&a.removeListener)a.addListener(d);else throw Error(\"b\");ya++;return c},Ca=function(){var a=Ea,b=ma?function(c){return a.call(b.src,b.listener,c)}:function(c){c=a.call(b.src,b.listener,c);if(!c)return c};return b},W=function(a,b,c,d,e){if(Array.isArray(b)){for(var f=0;f<b.length;f++)W(a,b[f],c,d,e);return null}c=Aa(c);return a&&a[S]?a.g(b,c,m(d)?!!d.capture:!!d,e):Ba(a,b,c,!0,d,e)},Fa=function(a){if(\"number\"!==typeof a&&\\na&&!a.h){var b=a.src;if(b&&b[S])b.j(a);else{var c=a.type,d=a.a;b.removeEventListener?b.removeEventListener(c,d,a.capture):b.detachEvent?b.detachEvent(Da(c),d):b.addListener&&b.removeListener&&b.removeListener(d);ya--;if(c=X(b)){d=a.type;if(d in c.a){var e=c.a[d],f=n(e,a),g;(g=0<=f)&&Array.prototype.splice.call(e,f,1);g&&(xa(a),0==c.a[d].length&&(delete c.a[d],c.g--))}0==c.g&&(c.src=null,b[U]=null)}else xa(a)}}},Da=function(a){return a in V?V[a]:V[a]=\"on\"+a},Ha=function(a,b,c,d){var e=!0;if(a=X(a))if(b=\\na.a[b.toString()])for(b=b.concat(),a=0;a<b.length;a++){var f=b[a];f&&f.capture==c&&!f.h&&(f=Ga(f,d),e=e&&!1!==f)}return e},Ga=function(a,b){var c=a.listener,d=a.g||a.src;a.i&&Fa(a);return c.call(d,b)},Ea=function(a,b){if(a.h)return!0;if(!ma){if(!b)a:{b=[\"window\",\"event\"];for(var c=h,d=0;d<b.length;d++)if(c=c[b[d]],null==c){b=null;break a}b=c}d=b;b=new R(d,this);c=!0;if(!(0>d.keyCode||void 0!=d.returnValue)){a:{var e=!1;if(0==d.keyCode)try{d.keyCode=-1;break a}catch(g){e=!0}if(e||void 0==d.returnValue)d.returnValue=\\n!0}d=[];for(e=b.a;e;e=e.parentNode)d.push(e);a=a.type;for(e=d.length-1;0<=e;e--){b.a=d[e];var f=Ha(d[e],a,!0,b);c=c&&f}for(e=0;e<d.length;e++)b.a=d[e],f=Ha(d[e],a,!1,b),c=c&&f}return c}return Ga(a,new R(b,this))},X=function(a){a=a[U];return a instanceof T?a:null},Y=\"__closure_events_fn_\"+(1E9*Math.random()>>>0),Aa=function(a){if(\"function\"==aa(a))return a;a[Y]||(a[Y]=function(b){return a.handleEvent(b)});return a[Y]};var u,t=document.documentElement,Z;function Ia(){Z=W(t,\"mousedown\",function(){da();Ja()},{capture:!0})}function Ja(){Z=za(t,\"keydown\",function(a){if(9==a.keyCode){Fa(Z);a=t;var b=u;if(a.classList)a.classList.add(b);else if(!r(a,b)){var c=p(a);q(a,c+(0<c.length?\" \"+b:b))}Ia()}})};u=\"zAoYTe\";Ja();}).call(this);(function(){var c=500;(function(){window.screen&&window.screen.width<=c&&window.screen.height<=c&&document.getElementById(\"hdr\").classList.add(\"sml\");}).call(this);})();</script><div class=\"cOl4Id\"><a href=\"/?sa=X&amp;ved=0ahUKEwiZ-obf57DqAhUiyzgGHVtcAKEQOwgC\"><span class=\"V6gwVd\">G</span><span class=\"iWkuvd\">o</span><span class=\"cDrQ7\">o</span><span class=\"V6gwVd\">g</span><span class=\"ntlR9\">l</span><span class=\"iWkuvd tJ3Myc\">e</span></a></div><div class=\"bz1lBb\"><form class=\"Pg70bf\" id=\"sf\"><a class=\"l\" href=\"/?lr=&amp;hl=cs&amp;as_qdr=all&amp;output=search&amp;ie=UTF-8&amp;sa=X&amp;ved=0ahUKEwiZ-obf57DqAhUiyzgGHVtcAKEQPAgE\"><span class=\"V6gwVd\">G</span><span class=\"iWkuvd\">o</span><span class=\"cDrQ7\">o</span><span class=\"V6gwVd\">g</span><span class=\"ntlR9\">l</span><span class=\"iWkuvd tJ3Myc\">e</span></a><input name=\"lr\" value=\"\" type=\"hidden\"><input name=\"hl\" value=\"cs\" type=\"hidden\"><input name=\"as_qdr\" value=\"all\" type=\"hidden\"><input name=\"ie\" value=\"ISO-8859-2\" type=\"hidden\"><div class=\"H0PQec\"><div class=\"sbc esbc\"><input class=\"noHIxc\" value=\"zeman site:Feedit.cz&#10; OR site:Blesk.cz&#10; OR site:Food.cz&#10; OR site:HRmag.cz&#10; OR site:Automakers.cz&#10; OR site:Novinky.cz&#10; OR site:e-litomerice.cz&#10; OR site:Czc.cz\" autocapitalize=\"none\" autocomplete=\"off\" name=\"q\" spellcheck=\"false\" type=\"text\"><input name=\"oq\" type=\"hidden\"><input name=\"aqs\" type=\"hidden\"><div class=\"x\">×</div><div class=\"sc\"></div></div></div><button id=\"qdClwb\" type=\"submit\"></button></form></div><noscript><meta content=\"0;url=/search?q=zeman+site:Feedit.cz%0A+OR+site:Blesk.cz%0A+OR+site:Food.cz%0A+OR+site:HRmag.cz%0A+OR+site:Automakers.cz%0A+OR+site:Novinky.cz%0A+OR+site:e-litomerice.cz%0A+OR+site:Czc.cz&amp;tbm=&amp;tbs=cdr:1,cd_min:2020,cd_max:2020&amp;lr=&amp;hl=cs&amp;as_qdr=all&amp;ie=UTF-8&amp;gbv=1&amp;sei=4P_-XpmKKKKW4-EP27iBiAo\" http-equiv=\"refresh\"><style>table,div,span,p{display:none}</style><div style=\"display:block\">Pokud nebude během pár sekund přesměrováni, klikněte prosím <a href=\"/search?q=zeman+site:Feedit.cz%0A+OR+site:Blesk.cz%0A+OR+site:Food.cz%0A+OR+site:HRmag.cz%0A+OR+site:Automakers.cz%0A+OR+site:Novinky.cz%0A+OR+site:e-litomerice.cz%0A+OR+site:Czc.cz&amp;tbm=&amp;tbs=cdr:1,cd_min:2020,cd_max:2020&amp;lr=&amp;hl=cs&amp;as_qdr=all&amp;ie=UTF-8&amp;gbv=1&amp;sei=4P_-XpmKKKKW4-EP27iBiAo\">zde</a>.</div></noscript></header><div id=\"main\"><div><div class=\"KP7LCb\"> <div class=\"bRsWnc\"> <div class=\"N6RWV\"> <div class=\"Pg70bf Uv67qb\"> <span class=\"OXXup\">Vše</span><a class=\"eZt8xd\" href=\"/search?q=zeman+site:Feedit.cz%0A+OR+site:Blesk.cz%0A+OR+site:Food.cz%0A+OR+site:HRmag.cz%0A+OR+site:Automakers.cz%0A+OR+site:Novinky.cz%0A+OR+site:e-litomerice.cz%0A+OR+site:Czc.cz&amp;lr=&amp;hl=cs&amp;ie=UTF-8&amp;source=lnms&amp;tbm=isch&amp;sa=X&amp;ved=0ahUKEwiZ-obf57DqAhUiyzgGHVtcAKEQ_AUICCgB\">Obrázky</a><a class=\"eZt8xd\" href=\"/search?q=zeman+site:Feedit.cz%0A+OR+site:Blesk.cz%0A+OR+site:Food.cz%0A+OR+site:HRmag.cz%0A+OR+site:Automakers.cz%0A+OR+site:Novinky.cz%0A+OR+site:e-litomerice.cz%0A+OR+site:Czc.cz&amp;lr=&amp;hl=cs&amp;ie=UTF-8&amp;source=lnms&amp;tbm=nws&amp;sa=X&amp;ved=0ahUKEwiZ-obf57DqAhUiyzgGHVtcAKEQ_AUICSgC\">Zprávy</a><a class=\"eZt8xd\" href=\"/search?q=zeman+site:Feedit.cz%0A+OR+site:Blesk.cz%0A+OR+site:Food.cz%0A+OR+site:HRmag.cz%0A+OR+site:Automakers.cz%0A+OR+site:Novinky.cz%0A+OR+site:e-litomerice.cz%0A+OR+site:Czc.cz&amp;lr=&amp;hl=cs&amp;ie=UTF-8&amp;source=lnms&amp;tbm=vid&amp;sa=X&amp;ved=0ahUKEwiZ-obf57DqAhUiyzgGHVtcAKEQ_AUICigD\">Videa</a>  <a href=\"https://maps.google.com/maps?q=zeman+site:Feedit.cz%0A+OR+site:Blesk.cz%0A+OR+site:Food.cz%0A+OR+site:HRmag.cz%0A+OR+site:Automakers.cz%0A+OR+site:Novinky.cz%0A+OR+site:e-litomerice.cz%0A+OR+site:Czc.cz&amp;lr=&amp;hl=cs&amp;as_qdr=all&amp;sxsrf=ALeKk024xBTZ8E86nc8IPADMFb5I0DJ_HA:1593684989187&amp;um=1&amp;ie=UTF-8&amp;sa=X&amp;ved=0ahUKEwiZ-obf57DqAhUiyzgGHVtcAKEQ_AUICygE\">Mapy</a>  <a href=\"/search?q=zeman+site:Feedit.cz%0A+OR+site:Blesk.cz%0A+OR+site:Food.cz%0A+OR+site:HRmag.cz%0A+OR+site:Automakers.cz%0A+OR+site:Novinky.cz%0A+OR+site:e-litomerice.cz%0A+OR+site:Czc.cz&amp;lr=&amp;hl=cs&amp;ie=UTF-8&amp;source=lnms&amp;tbm=shop&amp;sa=X&amp;ved=0ahUKEwiZ-obf57DqAhUiyzgGHVtcAKEQ_AUIDCgF\">Nákupy</a>  <a href=\"/search?q=zeman+site:Feedit.cz%0A+OR+site:Blesk.cz%0A+OR+site:Food.cz%0A+OR+site:HRmag.cz%0A+OR+site:Automakers.cz%0A+OR+site:Novinky.cz%0A+OR+site:e-litomerice.cz%0A+OR+site:Czc.cz&amp;lr=&amp;hl=cs&amp;ie=UTF-8&amp;source=lnms&amp;tbm=bks&amp;sa=X&amp;ved=0ahUKEwiZ-obf57DqAhUiyzgGHVtcAKEQ_AUIDSgG\">Knihy</a>  <div class=\"FElbsf\"><a href=\"/advanced_search\" style=\"white-space:nowrap\" id=\"st-toggle\" role=\"button\">Vyhledávací nástroje</a></div> </div> </div> </div> </div><div class=\"Pg70bf wEsjbd ZINbbc xpd O9g5cc uUPGi\" style=\"display:none\" id=\"st-card\"><style>.wEsjbd{background-color:#fff;height:44px;white-space:nowrap}.coPU8c{height:60px;overflow-scrolling:touch;overflow-x:auto;overflow-y:hidden}.Xj2aue{height:44px;overflow:hidden}.RnNGze{margin:11px 16px}.wEsjbd div,.wEsjbd a,.wEsjbd li{outline-width:0;outline:none}</style><div class=\"Xj2aue\"><div class=\"coPU8c\"><div class=\"RnNGze\"><style>.PA9J5{display:inline-block}.RXaOfd{display:inline-block;height:22px;position:relative;padding-top:0;padding-bottom:0;padding-right:16px;padding-left:0;line-height:22px;cursor:pointer;text-transform:uppercase;font-size:12px;color:#757575}.sa1toc{display:none;position:absolute;background:#fff;border:1px solid #d6d6d6;box-shadow:0 2px 4px rgba(0,0,0,0.3);margin:0;white-space:nowrap;z-index:103;line-height:17px;padding-top:5px;padding-bottom:5px;padding-left:0px}.PA9J5:hover .sa1toc{display:block}.mGSy8d a:active,.RXaOfd:active{color:#4285f4}</style><div class=\"PA9J5\"><div class=\"RXaOfd\" role=\"button\" tabindex=\"0\"><style>.TWMOUc{display:inline-block;padding-right:14px;white-space:nowrap}.vQYuGf{font-weight:bold}.OmTIzf{border-color:#909090 transparent;border-style:solid;border-width:4px 4px 0 4px;width:0;height:0;margin-left:-10px;top:50%;margin-top:-2px;position:absolute}.RXaOfd:active .OmTIzf{border-color:#4285f4 transparent}</style><div class=\"TWMOUc\">Jakýkoli jazyk</div><span class=\"OmTIzf\"></span></div><ul class=\"sa1toc ozatM\"><style>.ozatM{font-size:12px;text-transform:uppercase}.ozatM .yNFsl,.ozatM li{list-style-type:none;list-style-position:outside;list-style-image:none}.yNFsl.SkUj4c,.yNFsl a{color:rgba(0,0,0,0.54);text-decoration:none;padding:6px 44px 6px 14px;line-height:17px;display:block}.SkUj4c{background-image:url(//ssl.gstatic.com/ui/v1/menu/checkmark2.png);background-position:right center;background-repeat:no-repeat}.SkUj4c:active{background-color:#f5f5f5}</style><li class=\"yNFsl SkUj4c\">Jakýkoli jazyk</li><li class=\"yNFsl\"><a href=\"/search?q=zeman+site:Feedit.cz%0A+OR+site:Blesk.cz%0A+OR+site:Food.cz%0A+OR+site:HRmag.cz%0A+OR+site:Automakers.cz%0A+OR+site:Novinky.cz%0A+OR+site:e-litomerice.cz%0A+OR+site:Czc.cz&amp;lr=lang_cs&amp;hl=cs&amp;as_qdr=all&amp;ie=UTF-8&amp;source=lnt&amp;tbs=lr:lang_1cs&amp;sa=X&amp;ved=0ahUKEwiZ-obf57DqAhUiyzgGHVtcAKEQpwUIDw\">Stránky pouze česky</a></li></ul></div><div class=\"PA9J5\"><div class=\"RXaOfd\" role=\"button\" tabindex=\"0\"><div class=\"TWMOUc\">Bez časového omezení</div><span class=\"OmTIzf\"></span></div><ul class=\"sa1toc ozatM\"><li class=\"yNFsl SkUj4c\">Bez časového omezení</li><li class=\"yNFsl\"><a href=\"/search?q=zeman+site:Feedit.cz%0A+OR+site:Blesk.cz%0A+OR+site:Food.cz%0A+OR+site:HRmag.cz%0A+OR+site:Automakers.cz%0A+OR+site:Novinky.cz%0A+OR+site:e-litomerice.cz%0A+OR+site:Czc.cz&amp;lr=&amp;hl=cs&amp;ie=UTF-8&amp;source=lnt&amp;tbs=qdr:h&amp;sa=X&amp;ved=0ahUKEwiZ-obf57DqAhUiyzgGHVtcAKEQpwUIEQ\"> Za poslední hodinu</a></li><li class=\"yNFsl\"><a href=\"/search?q=zeman+site:Feedit.cz%0A+OR+site:Blesk.cz%0A+OR+site:Food.cz%0A+OR+site:HRmag.cz%0A+OR+site:Automakers.cz%0A+OR+site:Novinky.cz%0A+OR+site:e-litomerice.cz%0A+OR+site:Czc.cz&amp;lr=&amp;hl=cs&amp;ie=UTF-8&amp;source=lnt&amp;tbs=qdr:d&amp;sa=X&amp;ved=0ahUKEwiZ-obf57DqAhUiyzgGHVtcAKEQpwUIEg\"> Posledních 24 hodin</a></li><li class=\"yNFsl\"><a href=\"/search?q=zeman+site:Feedit.cz%0A+OR+site:Blesk.cz%0A+OR+site:Food.cz%0A+OR+site:HRmag.cz%0A+OR+site:Automakers.cz%0A+OR+site:Novinky.cz%0A+OR+site:e-litomerice.cz%0A+OR+site:Czc.cz&amp;lr=&amp;hl=cs&amp;ie=UTF-8&amp;source=lnt&amp;tbs=qdr:w&amp;sa=X&amp;ved=0ahUKEwiZ-obf57DqAhUiyzgGHVtcAKEQpwUIEw\"> Poslední týden</a></li><li class=\"yNFsl\"><a href=\"/search?q=zeman+site:Feedit.cz%0A+OR+site:Blesk.cz%0A+OR+site:Food.cz%0A+OR+site:HRmag.cz%0A+OR+site:Automakers.cz%0A+OR+site:Novinky.cz%0A+OR+site:e-litomerice.cz%0A+OR+site:Czc.cz&amp;lr=&amp;hl=cs&amp;ie=UTF-8&amp;source=lnt&amp;tbs=qdr:m&amp;sa=X&amp;ved=0ahUKEwiZ-obf57DqAhUiyzgGHVtcAKEQpwUIFA\"> Poslední měsíc</a></li><li class=\"yNFsl\"><a href=\"/search?q=zeman+site:Feedit.cz%0A+OR+site:Blesk.cz%0A+OR+site:Food.cz%0A+OR+site:HRmag.cz%0A+OR+site:Automakers.cz%0A+OR+site:Novinky.cz%0A+OR+site:e-litomerice.cz%0A+OR+site:Czc.cz&amp;lr=&amp;hl=cs&amp;ie=UTF-8&amp;source=lnt&amp;tbs=qdr:y&amp;sa=X&amp;ved=0ahUKEwiZ-obf57DqAhUiyzgGHVtcAKEQpwUIFQ\"> Poslední rok</a></li></ul></div><div class=\"PA9J5\"><div class=\"RXaOfd\" role=\"button\" tabindex=\"0\"><div class=\"TWMOUc\">Všechny výsledky</div><span class=\"OmTIzf\"></span></div><ul class=\"sa1toc ozatM\"><li class=\"yNFsl SkUj4c\">Všechny výsledky</li><li class=\"yNFsl\"><a href=\"/search?q=zeman+site:Feedit.cz%0A+OR+site:Blesk.cz%0A+OR+site:Food.cz%0A+OR+site:HRmag.cz%0A+OR+site:Automakers.cz%0A+OR+site:Novinky.cz%0A+OR+site:e-litomerice.cz%0A+OR+site:Czc.cz&amp;lr=&amp;hl=cs&amp;as_qdr=all&amp;ie=UTF-8&amp;source=lnt&amp;tbs=li:1&amp;sa=X&amp;ved=0ahUKEwiZ-obf57DqAhUiyzgGHVtcAKEQpwUIFw\">Přesná shoda</a></li></ul></div></div></div></div><script nonce=\"L5zq4xU4PhU2C+gt2Y3Xow==\">(function(){\\nvar a=document.getElementById(\"st-toggle\"),b=document.getElementById(\"st-card\");a&&b&&a.addEventListener(\"click\",function(c){b.style.display=b.style.display?\"\":\"none\";c.preventDefault()},!1);}).call(this);</script></div></div><style>.ZINbbc{background-color:#fff;margin-bottom:10px;box-shadow:0 1px 6px rgba(32, 33, 36, 0.28);border-radius:8px}.uUPGi{font-size:14px;line-height:20px;}.O9g5cc>*:first-child{border-top-left-radius:8px;border-top-right-radius:8px}.O9g5cc>*:last-child{border-bottom-left-radius:8px;border-bottom-right-radius:8px}.O9g5cc>.qxDOhb>*:first-child{border-top-left-radius:8px;border-top-right-radius:8px}.O9g5cc>.qxDOhb>*:last-child{border-bottom-left-radius:8px;border-bottom-right-radius:8px}.rl7ilb{display:block;clear:both}.kCrYT{padding:12px 16px 12px}a.fdYsqf{color:#4B11A8}.zBAuLc{font-weight:normal;line-height:normal;margin:0;padding:0}.BNeawe{white-space:pre-line;word-wrap:break-word}.vvjwJb{color:#1967D2;font-size:16px;line-height:20px}a:visited .vvjwJb,.vvjwJb a:visited{color:#4B11A8}.vvjwJb.HrGdeb{color:rgba(255,255,255,1)}a:visited .vvjwJb.HrGdeb,.vvjwJb.HrGdeb a:visited{color:rgba(255,255,255,.7)}.UPmit{font-size:14px;line-height:20px}.UPmit.HrGdeb{color:rgba(255,255,255,.7)}.UPmit.AP7Wnd{color:rgba(0,102,33,1)}.x54gtf{height:1px;background-color:#dfe1e5;margin:0 16px}.Q0HXG{height:1px;background-color:#dfe1e5}.Ap5OSd{padding-bottom:12px}.s3v9rd{font-size:14px;line-height:20px}.s3v9rd.HrGdeb{color:rgba(255,255,255,1)}.s3v9rd.AP7Wnd{color:#202124}.mSx1Ee{padding-left:48px;margin:0}.v9i61e{padding-bottom:8px}.r0bn4c.tr0dw{color:rgba(255,255,255,.7)}.r0bn4c.rQMQod{color:#70757A}.lcJF1d{border-radius:8px;margin-left:16px;float:right;}.EYOsld{display:inline-block;position:relative}.SXn0g{overflow:hidden}.GXKcHe{display:inline-block}.p1CInd{position:relative}.HMoqlc{background-color:rgba(0,0,0,.12)}.qW7zYd{bottom:0;left:0;margin:auto;position:absolute;right:0;top:0}.X8r0X{background-image:url(data:image/png;base64,iVBORw0KGgoAAAANSUhEUgAAADAAAAAwCAQAAAD9CzEMAAABl0lEQVR4Ae2XveraUBiHY4xD3URx8F+9gHZW9EKEOgi9Cz8uQFtXiwRsobvgIoLXIfYCKrqoaadCk+Xp4HiSc15PQkvB512FB37xvB/Ok/8BXDqMWXMgICIi4MCaEW1cHFOZftBgxpkkTnygbi+osiTCRIhPxUbQ5wdSAnqPCQp84VF8PKmgyA4bthQlggI7bNnimQWfSYNvEvRJyzudoMpP0nKjnCxYkgWLJEFD+6ze8wsZIS/xghk6HN7wDRnTOIHLGR33F/IVCUdyqqCDHudewqhaqmAsEwijGqqCtUwgjGqlCg4ygTCqvSoIZAJhVFdVEMkEwqjCvyiwj+gt8oiy/8j/4G86QosSjZ6BKmhn2iqaqsDllFmz+x7X7Bw+ouMejYxJ/DyoZzRwflNLGpk+WTBPnskVAtJyoaRbW3qkpWtavHzS8Mm82XlssWVDXrb82ik2vJKu7x6+RTj5xw6QHjekXOjanFBlFoSCZzWnZH8EvmbKUdNzJtQER6ChXFoMWbHnSkjIlT0rBjTJyc/Y7OspkNYf1H6eRU02jH0AAAAASUVORK5CYII=);background-repeat:no-repeat;background-position:center}.SiONwe{background:rgba(32, 33, 36, 0.5);position:absolute;border-radius:4px;padding:2px 6px}.rLshyf,.BmP5tf{padding-top:12px;padding-bottom:12px}.YOx3Ab{padding-left:16px;}.w1C3Le,.BmP5tf,.G5NbBd{padding-left:16px;padding-right:16px;}.G5NbBd{padding-bottom:12px}.nMymef{display:flex}.G5eFlf{flex:1;display:block}.nMymef span{text-align:center}</style><div><!--SW_C_X--></div><div><div class=\"ZINbbc xpd O9g5cc uUPGi\"><div class=\"kCrYT\"><a href=\"/url?q=https://www.novinky.cz/domaci/clanek/zeman-oznacil-heslo-black-lives-matter-za-rasisticke-40329307&amp;sa=U&amp;ved=2ahUKEwiZ-obf57DqAhUiyzgGHVtcAKEQFjAAegQICBAB&amp;usg=AOvVaw3A9GbyUhsEfJwa75ldBwif\"><h3 class=\"zBAuLc\"><div class=\"BNeawe vvjwJb AP7Wnd\">Zeman označil heslo Black Lives Matter za rasistické - Novinky.cz</div></h3><div class=\"BNeawe UPmit AP7Wnd\">https://www.novinky.cz &#8250; Domácí</div></a></div><div class=\"x54gtf\"></div><div class=\"kCrYT\"><div><div class=\"BNeawe s3v9rd AP7Wnd\"><div><div><div class=\"BNeawe s3v9rd AP7Wnd\"><span class=\"r0bn4c rQMQod\">před 3 dny</span><span class=\"r0bn4c rQMQod\"> &#183; </span>Heslo amerických protestů Black Lives Matter (Na černošských životech záleží) je podle českého prezidenta Miloše Zemana rasistické. Zeman\\xa0...</div></div></div></div></div></div></div></div><div><div class=\"ZINbbc xpd O9g5cc uUPGi\"><div class=\"kCrYT\"><a href=\"/url?q=https://www.novinky.cz/domaci/clanek/zeman-podal-kasacni-stiznost-kvuli-jmenovani-ostadala-profesorem-40329538&amp;sa=U&amp;ved=2ahUKEwiZ-obf57DqAhUiyzgGHVtcAKEQFjABegQIBhAB&amp;usg=AOvVaw2gT1dwndzms0-JTrPqJ16e\"><h3 class=\"zBAuLc\"><div class=\"BNeawe vvjwJb AP7Wnd\">Zeman podal kasační stížnost kvůli jmenování Ošťádala profesorem ...</div></h3><div class=\"BNeawe UPmit AP7Wnd\">https://www.novinky.cz &#8250; Domácí</div></a></div><div class=\"x54gtf\"></div><div class=\"kCrYT\"><div><div class=\"BNeawe s3v9rd AP7Wnd\"><div><div><div class=\"BNeawe s3v9rd AP7Wnd\"><span class=\"r0bn4c rQMQod\">před 14 hodinami</span><span class=\"r0bn4c rQMQod\"> &#183; </span>Prezident Miloš Zeman podal kasační stížnost k Nejvyššímu správnímu soudu ( NSS) kvůli rozsudku, podle kterého jeho rozhodnutí o nejmenování fyzika Ivana\\xa0...</div></div></div></div></div></div></div></div><div><div class=\"ZINbbc xpd O9g5cc uUPGi\"><div class=\"kCrYT\"><a href=\"/url?q=https://www.novinky.cz/krimi/clanek/stat-se-musi-omluvit-za-zemanovy-vyroky-o-peroutkovi-rozhodl-soud-40329491&amp;sa=U&amp;ved=2ahUKEwiZ-obf57DqAhUiyzgGHVtcAKEQFjACegQICRAB&amp;usg=AOvVaw3bI75qftJUw3_TCe4yO_3n\"><h3 class=\"zBAuLc\"><div class=\"BNeawe vvjwJb AP7Wnd\">Stát se musí omluvit za Zemanovy výroky o Peroutkovi, rozhodl soud ...</div></h3><div class=\"BNeawe UPmit AP7Wnd\">https://www.novinky.cz &#8250; Krimi</div></a></div><div class=\"x54gtf\"></div><div class=\"kCrYT\"><div><div class=\"BNeawe s3v9rd AP7Wnd\"><div><div><div class=\"BNeawe s3v9rd AP7Wnd\"><span class=\"r0bn4c rQMQod\">před 22 hodinami</span><span class=\"r0bn4c rQMQod\"> &#183; </span>Stát se musí prostřednictvím ministerstva financí omluvit za výroky, které pronesl prezident Miloš Zeman o novináři Ferdinandu Peroutkovi,\\xa0...</div></div></div></div></div></div></div></div><div><div class=\"ZINbbc xpd O9g5cc uUPGi\"><div class=\"kCrYT\"><a href=\"/url?q=https://www.novinky.cz/domaci/clanek/projev-prezidenta-milose-zemana-40320240&amp;sa=U&amp;ved=2ahUKEwiZ-obf57DqAhUiyzgGHVtcAKEQFjADegQIAxAB&amp;usg=AOvVaw2h6-Gvov9xofLcn1wuLNRB\"><h3 class=\"zBAuLc\"><div class=\"BNeawe vvjwJb AP7Wnd\">Zeman na ČT popřál lidem víru, naději a lásku - Novinky.cz</div></h3><div class=\"BNeawe UPmit AP7Wnd\">https://www.novinky.cz &#8250; Domácí</div></a></div><div class=\"x54gtf\"></div><div class=\"kCrYT\"><div><div class=\"BNeawe s3v9rd AP7Wnd\"><div><div><div class=\"BNeawe s3v9rd AP7Wnd\"><span class=\"r0bn4c rQMQod\">12. 4. 2020</span><span class=\"r0bn4c rQMQod\"> &#183; </span>Prezident Miloš Zeman v neděli ve stručném velikonočním proslovu vysílaném v České televizi popřál lidem víru, naději a lásku. Zemanův\\xa0...</div></div></div></div></div></div></div></div><div><div class=\"ZINbbc xpd O9g5cc uUPGi\"><div class=\"kCrYT\"><a href=\"/url?q=https://www.novinky.cz/komentare/clanek/komentar-milos-zeman-aktiviste-rasismus-a-zivoty-na-kterych-zalezi-thomas-kulidakis-40329339&amp;sa=U&amp;ved=2ahUKEwiZ-obf57DqAhUiyzgGHVtcAKEQFjAEegQIBRAB&amp;usg=AOvVaw1yey26vb36bJ6Bitxkq3BZ\"><h3 class=\"zBAuLc\"><div class=\"BNeawe vvjwJb AP7Wnd\">KOMENTÁŘ: Miloš Zeman, aktivisté, rasismus a životy, na kterých ...</div></h3><div class=\"BNeawe UPmit AP7Wnd\">https://www.novinky.cz &#8250; Komentáře</div></a></div><div class=\"x54gtf\"></div><div class=\"kCrYT\"><div><div class=\"BNeawe s3v9rd AP7Wnd\"><div><div><div class=\"BNeawe s3v9rd AP7Wnd\"><span class=\"r0bn4c rQMQod\">před 7 hodinami</span><span class=\"r0bn4c rQMQod\"> &#183; </span>Český prezident Miloš Zeman se při příležitosti oslavy na ambasádě Spojených států amerických vyjádřil k hnutí Black Lives Matter neboli Na černošských\\xa0...</div></div></div></div></div></div></div></div><div><div class=\"ZINbbc xpd O9g5cc uUPGi\"><div class=\"kCrYT\"><a href=\"/url?q=https://www.blesk.cz/clanek/zpravy-politika/648346/zeman-palil-na-svatku-usa-zminil-blbecky-utok-na-nezavislost-i-rasisticky-slogan.html&amp;sa=U&amp;ved=2ahUKEwiZ-obf57DqAhUiyzgGHVtcAKEQFjAFegQIBBAB&amp;usg=AOvVaw2JRpDLBX57f_hJTH3Xaagw\"><h3 class=\"zBAuLc\"><div class=\"BNeawe vvjwJb AP7Wnd\">Zeman pálil na svátku USA. Zmínil blbečky, útok na nezávislost i ...</div></h3><div class=\"BNeawe UPmit AP7Wnd\">https://www.blesk.cz &#8250; Zprávy &#8250; Politika</div></a></div><div class=\"x54gtf\"></div><div class=\"kCrYT\"><div><div class=\"BNeawe s3v9rd AP7Wnd\"><div><div><div class=\"BNeawe s3v9rd AP7Wnd\"><span class=\"r0bn4c rQMQod\">před 3 dny</span><span class=\"r0bn4c rQMQod\"> &#183; </span>Prezident Miloš Zeman přišel v úterý na oslavy Dne nezávislosti USA. A na zahradě rezidence amerického velvyslance si v projevu nebral\\xa0...</div></div></div></div></div></div></div></div><div><div class=\"ZINbbc xpd O9g5cc uUPGi\"><div class=\"kCrYT\"><a href=\"/url?q=https://www.novinky.cz/domaci/clanek/zeman-si-u-cechu-pohorsil-podle-vetsiny-nedba-na-dustojnost-uradu-40313723&amp;sa=U&amp;ved=2ahUKEwiZ-obf57DqAhUiyzgGHVtcAKEQFjAGegQIAhAB&amp;usg=AOvVaw0c5PH18dND_xW2biIc8-Fu\"><h3 class=\"zBAuLc\"><div class=\"BNeawe vvjwJb AP7Wnd\">Zeman si u Čechů pohoršil, podle většiny nedbá na důstojnost ...</div></h3><div class=\"BNeawe UPmit AP7Wnd\">https://www.novinky.cz &#8250; Domácí</div></a></div><div class=\"x54gtf\"></div><div class=\"kCrYT\"><div><div class=\"BNeawe s3v9rd AP7Wnd\"><div><div><div class=\"BNeawe s3v9rd AP7Wnd\"><span class=\"r0bn4c rQMQod\">17. 2. 2020</span><span class=\"r0bn4c rQMQod\"> &#183; </span>Na prezidentovi Miloši Zemanovi lidé nejvíce oceňují jeho kontakt s občany a znalost toho, co je trápí. Kritika na prezidenta směřuje především\\xa0...</div></div></div></div></div></div></div></div><div><div class=\"ZINbbc xpd O9g5cc uUPGi\"><div class=\"kCrYT\"><a href=\"/url?q=https://celebwiki.blesk.cz/osobnost/2262/milos-zeman/&amp;sa=U&amp;ved=2ahUKEwiZ-obf57DqAhUiyzgGHVtcAKEQFjAHegQIABAB&amp;usg=AOvVaw0jPz1S7fuZOX_FhJ-iVSH9\"><h3 class=\"zBAuLc\"><div class=\"BNeawe vvjwJb AP7Wnd\">Miloš Zeman | Celebwiki.cz</div></h3><div class=\"BNeawe UPmit AP7Wnd\">https://celebwiki.blesk.cz &#8250; osobnost &#8250; milos-zeman</div></a></div><div class=\"x54gtf\"></div><div class=\"kCrYT\"><div><div class=\"BNeawe s3v9rd AP7Wnd\"><div><div><div class=\"BNeawe s3v9rd AP7Wnd\">Prezident Miloš Zeman vystudoval VŠE v Praze a poté zde zůstal jako pedagog. V roce 1968 vstoupil do KSČ. V polistopadové éře se stal nepřehlédnutelnou\\xa0...</div></div></div></div></div></div></div></div><div><div class=\"ZINbbc xpd O9g5cc uUPGi\"><div class=\"kCrYT\"><a href=\"/url?q=https://www.novinky.cz/krimi/clanek/zeman-chce-ve-sporu-kvuli-rakovine-omluvu-dopisem-ne-pres-facebook-40328407&amp;sa=U&amp;ved=2ahUKEwiZ-obf57DqAhUiyzgGHVtcAKEQFjAIegQIARAB&amp;usg=AOvVaw1xjCeOoBkhoyIe4IbN4ZUu\"><h3 class=\"zBAuLc\"><div class=\"BNeawe vvjwJb AP7Wnd\">Zeman chce ve sporu kvůli rakovině stále pět milionů a omluvu ...</div></h3><div class=\"BNeawe UPmit AP7Wnd\">https://www.novinky.cz &#8250; Krimi</div></a></div><div class=\"x54gtf\"></div><div class=\"kCrYT\"><div><div class=\"BNeawe s3v9rd AP7Wnd\"><div><div><div class=\"BNeawe s3v9rd AP7Wnd\"><span class=\"r0bn4c rQMQod\">22. 6. 2020</span><span class=\"r0bn4c rQMQod\"> &#183; </span>... pěti milionech korun odškodného. Kancelář prezidenta republiky Bartíka zažalovala kvůli jeho tvrzení, že prezident Miloš Zeman má rakovinu.</div></div></div></div></div></div></div></div><div><div class=\"ZINbbc xpd O9g5cc uUPGi\"><div class=\"kCrYT\"><a href=\"/url?q=https://tv.blesk.cz/video/6420064/zeman-na-americke-oslave-zminil-rasisticke-heslo-a-odmitl-velke-bratry.html&amp;sa=U&amp;ved=2ahUKEwiZ-obf57DqAhUiyzgGHVtcAKEQtwIwCXoECAcQAQ&amp;usg=AOvVaw2swU3v8YolVtNEuiqECvfw\"><h3 class=\"zBAuLc\"><div class=\"BNeawe vvjwJb AP7Wnd\">Zeman na americké oslavě zmínil &#8222;rasistické&#8220; heslo. A odmítl velké ...</div></h3><div class=\"BNeawe UPmit AP7Wnd\">https://tv.blesk.cz &#8250; video &#8250; zeman-na-americke-oslave-zminil-rasisticke-he...</div></a></div><div class=\"x54gtf\"></div><div class=\"kCrYT\"><a href=\"/url?q=https://tv.blesk.cz/video/6420064/zeman-na-americke-oslave-zminil-rasisticke-heslo-a-odmitl-velke-bratry.html&amp;sa=U&amp;ved=2ahUKEwiZ-obf57DqAhUiyzgGHVtcAKEQuAIwCXoECAcQAg&amp;usg=AOvVaw1F5RLmhhywWDKvzCdUW8kp\"><div class=\"lcJF1d SXn0g GXKcHe p1CInd\"><div style=\"width:120px;height:67px\"><img class=\"EYOsld\" alt=\"Video pro dotaz zeman site:Feedit.cz&#10; OR site:Blesk.cz&#10; OR site:Food.cz&#10; OR site:HRmag.cz&#10; OR site:Automakers.cz&#10; OR site:Novinky.cz&#10; OR site:e-litomerice.cz&#10; OR site:Czc.cz\" src=\"data:image/gif;base64,R0lGODlhAQABAIAAAP///////yH5BAEKAAEALAAAAAABAAEAAAICTAEAOw==\" style=\"width:120px;height:67px\" id=\"dimg_1\" data-deferred=\"1\"></div><div class=\"qW7zYd HMoqlc\"></div><div class=\"qW7zYd X8r0X\" style=\"background-size:36px\"></div></div></a><div><div class=\"BNeawe s3v9rd AP7Wnd\"><div><div><div class=\"BNeawe s3v9rd AP7Wnd\"><span class=\"r0bn4c rQMQod\">před 3 dny</span><span class=\"r0bn4c rQMQod\"> &#183; </span>Zeman to uvedl při své návštěvě v rezidenci amerického velvyslance při příležitosti oslav 244 ...Trvání: 7:50\\nZveřejněno: před 3 dny</div></div></div></div></div><div class=\"rl7ilb\"></div></div></div></div><footer> <div>  <div class=\"ZINbbc xpd O9g5cc uUPGi BmP5tf\"><div class=\"nMymef MUxGbd lyLwlc\"><a class=\"nBDE1b G5eFlf\" href=\"/search?q=zeman+site:Feedit.cz%0A+OR+site:Blesk.cz%0A+OR+site:Food.cz%0A+OR+site:HRmag.cz%0A+OR+site:Automakers.cz%0A+OR+site:Novinky.cz%0A+OR+site:e-litomerice.cz%0A+OR+site:Czc.cz&amp;lr=&amp;hl=cs&amp;as_qdr=all&amp;ie=UTF-8&amp;ei=4P_-XpmKKKKW4-EP27iBiAo&amp;start=10&amp;sa=N\" aria-label=\"Další stránka\">Další &gt;</a></div></div> </div>  <div id=\"mCljob\"><div><a href=\"/url?q=https://accounts.google.com/ServiceLogin%3Fcontinue%3Dhttps://www.google.com/search%253Fq%253Dzeman%252Bsite:Feedit.cz%25250A%252BOR%252Bsite:Blesk.cz%25250A%252BOR%252Bsite:Food.cz%25250A%252BOR%252Bsite:HRmag.cz%25250A%252BOR%252Bsite:Automakers.cz%25250A%252BOR%252Bsite:Novinky.cz%25250A%252BOR%252Bsite:e-litomerice.cz%25250A%252BOR%252Bsite:Czc.cz%2526lr%253D%2526hl%253Dcs%2526as_qdr%253Dall%2526sxsrf%253DALeKk024xBTZ8E86nc8IPADMFb5I0DJ_HA:1593684989187%2526source%253Dlnt%2526tbs%253Dcdr:1,cd_min:2020,cd_max:2020%2526tbm%253D%26hl%3Dcs&amp;sa=U&amp;ved=0ahUKEwiZ-obf57DqAhUiyzgGHVtcAKEQxs8CCDg&amp;usg=AOvVaw2LBKFsY3yiQ2cNtSxGJJcd\">Přihlásit se</a></div><div><a class=\"ksTU4c\" href=\"https://www.google.com/preferences?hl=cs-US&amp;fg=1&amp;sa=X&amp;ved=0ahUKEwiZ-obf57DqAhUiyzgGHVtcAKEQ5fUCCDk\">Nastavení</a><a class=\"ksTU4c\" href=\"https://policies.google.com/privacy?fg=1\">Ochrana soukromí</a><a class=\"ksTU4c\" href=\"https://policies.google.com/terms?fg=1\">Smluvní podmínky</a></div></div> </footer><script nonce=\"L5zq4xU4PhU2C+gt2Y3Xow==\">(function(){var hl=\\'cs-US\\';(function(){\\nvar b=this||self,d=/^[\\\\w+/_-]+[=]{0,2}$/,e=null;var f=document.querySelector(\".l\"),g=document.querySelector(\"#sf\"),k=g.querySelector(\".sbc\"),l=g.querySelector(\"[type=text]\"),m=g.querySelector(\"[type=submit]\"),n=g.querySelector(\".sc\"),p=g.querySelector(\".x\"),q=l.value,r=[],t=-1,u=q,w,x,y;q||(p&&(p.style.display=\"none\"),z(!1));function z(a){if(k.classList.contains(\"esbc\")){var c=k.classList.contains(\"chsbc\"),h=k.classList.contains(\"rtlsbc\");a&&(n.style.display=\"block\",c?(g.style.borderRadius=\"20px 20px 0 0\",n.style.borderBottom=\"1px solid #DFE1E5\",m.style.borderRadius=h?\"20px 0 0 0\":\"0 20px 0 0\"):k.style.borderRadius=h?\"0 8px 0 0\":\"8px 0 0 0\");a||(n.style.display=\"none\",c?(g.style.borderRadius=\"20px\",n.style.borderBottom=\"none\",m.style.borderRadius=h?\"20px 0 0 20px\":\"0 20px 20px 0\"):k.style.borderRadius=h?\"0 8px 8px 0\":\"8px 0 0 8px\")}}function A(){g.querySelector(\"[name=oq]\").value=u;g.querySelector(\"[name=aqs]\").value=\"heirloom-srp.\"+(0<=t?t:\"\")+\".\"+(0<r.length?\"0l\"+r.length:\"\")}\\nfunction C(){w=null;if(x){var a=\"/complete/search?client=heirloom-srp&hl=\"+hl+\"&json=t&callback=hS&q=\"+encodeURIComponent(x);\"undefined\"!==typeof ds&&ds&&(a+=\"&ds=\"+ds);var c=document.createElement(\"script\");c.src=a;if(null===e)a:{a=b.document;if((a=a.querySelector&&a.querySelector(\"script[nonce]\"))&&(a=a.nonce||a.getAttribute(\"nonce\"))&&d.test(a)){e=a;break a}e=\"\"}(a=e)&&c.setAttribute(\"nonce\",a);document.body.appendChild(c);x=null;w=setTimeout(C,500)}}\\nfunction D(){for(;n.firstChild;)n.removeChild(n.firstChild);r=[];t=-1;z(!1)}function E(){var a=n.querySelector(\".scs\");a&&(a.className=\"\");0<=t?(a=n.childNodes[t],a.className=\"scs\",q=a.textContent):q=u;l.value=q}l.addEventListener(\"focus\",function(){f&&(f.style.display=\"none\")},!1);l.addEventListener(\"blur\",function(){D();f&&(f.style.display=\"\")},!1);l.addEventListener(\"keyup\",function(a){q=l.value;y=!1;13==a.which?A():27==a.which?(D(),f&&(f.style.display=\"\"),q=u,l.value=q):40==a.which?(t++,t>=r.length&&(t=-1),E()):38==a.which?(t--,-1>t&&(t=r.length-1),E()):(a=q)?(p&&(p.style.display=\"\"),x=a,w||C(),u=a):(p&&(p.style.display=\"none\"),z(!1),D(),u=\"\",y=!0)},!1);m.addEventListener(\"click\",A,!1);p.addEventListener(\"click\",function(){l.value=\"\";p.style.display=\"none\";z(!1)},!1);k.addEventListener(\"click\",function(){l.focus()},!1);window.hS=function(a){if(!y){D();0==a[1].length&&z(!1);for(var c=0;c<a[1].length;c++){var h=a[1][c][0],v=document.createElement(\"div\");v.innerHTML=h;v.addEventListener(\"mousedown\",function(B){B.preventDefault();return!1},!1);h=h.replace(/<\\\\/?b>/g,\"\");v.addEventListener(\"click\",function(B){return function(){t=B;A();E();D();g.submit()}}(c),!1);n.appendChild(v);z(!0);r.push(h)}}};}).call(this);})();(function(){\\nfunction b(a){for(a=a.target||a.srcElement;a&&\"A\"!=a.nodeName;)a=a.parentElement;a&&(a.href||\"\").match(/\\\\/search.*[?&]tbm=isch/)&&(a.href+=\"&biw=\"+document.documentElement.clientWidth,a.href+=\"&bih=\"+document.documentElement.clientHeight)}document.addEventListener(\"click\",b,!1);document.addEventListener(\"touchStart\",b,!1);}).call(this);</script></div><!-- cctlcm 5 cctlcm --><textarea class=\"csi\" name=\"csi\" style=\"display:none\"></textarea><script nonce=\"L5zq4xU4PhU2C+gt2Y3Xow==\">(function(){var e=\\'4P_-XpmKKKKW4-EP27iBiAo\\';var sn=\\'web\\';(function(){\\nfunction x(a){return!a||y(a)?0:a.getBoundingClientRect?z(a,function(b){return b.getBoundingClientRect()}):1}function y(a){return\"none\"==a.style.display?!0:document.defaultView&&document.defaultView.getComputedStyle?(a=document.defaultView.getComputedStyle(a),!!a&&(\"hidden\"==a.visibility||\"0px\"==a.height&&\"0px\"==a.width)):!1}\\nfunction z(a,b){var c=b(a);a=c.left+window.pageXOffset;b=c.top+window.pageYOffset;var f=c.width;c=c.height;var h=0;if(0>=c&&0>=f)return h;0>b+c?h=2:b>=(window.innerHeight||document.documentElement.clientHeight)&&(h=4);if(0>a+f||a>=(window.innerWidth||document.documentElement.clientWidth))h|=8;return h||1};var H=e,I=sn,J=[];function K(a,b,c){a=\"/gen_204?atyp=csi&s=\"+(I||\"web\")+\"&t=\"+a+(\"&lite=1&ei=\"+H+\"&conn=\"+(window.navigator&&window.navigator.connection?window.navigator.connection.type:-1)+b);b=\"&rt=\";for(var f in c)a+=b+f+\".\"+c[f],b=\",\";return a}function L(a){a={prt:a};window.wsrt&&(a.wsrt=window.wsrt);return a}function M(a){window.ping?window.ping(a):(new Image).src=a}\\n(function(){for(var a=(new Date).getTime()-window.start,b=L(a),c=0,f=0,h=0,A=document.getElementsByTagName(\"img\"),n=\"&imn=\"+A.length+\"&biw=\"+window.innerWidth+\"&bih=\"+window.innerHeight,N=function(g,p){g.onload=function(){f=(new Date).getTime()-window.start;p&&++t==h&&(c=f,B());g.onload=null}},B=function(){n+=\"&ima=\"+h;b.aft=c;M(K(\"aft\",n,b))},t=0,O=0,d=void 0;d=A[O++];){var q=x(d),r=1==q;r&&++h;var m=d.hasAttribute(\"data-ilite\"),u=d.hasAttribute(\"data-deferred\")||m,C=d.getAttribute(\"data-src\")||\\nd.getAttribute(\"data-lzysrc\");J.push([q,u,!u&&C,google.ldi&&d.id&&google.ldi[d.id]||m&&C]);m=(q=d.complete&&!u)&&Number(d.getAttribute(\"data-iml\"))||0;q&&m?(r&&++t,m&&(d=m-window.start,r&&(c=Math.max(c,d)),f=Math.max(f,d))):N(d,r)}c||(c=a);f||(f=c);t==h&&B();google.rglh&&google.rglh();window.addEventListener(\"load\",function(){window.setTimeout(function(){b.ol=(new Date).getTime()-window.start;b.iml=f;var g=window.performance&&window.performance.timing;g&&(b.rqst=g.responseEnd-g.requestStart,b.rspt=\\ng.responseEnd-g.responseStart);for(var p=g=0,D=0,E=0,F=0,P=0,k;k=J[P++];){var l=k[0],v=k[1],Q=k[2];k=k[3];var R=0==l,w=l&8,G=l&4;l=1==l||2==l||w&&!G;!l||w||v&&!k||++D;v&&(l&&k&&++g,G&&!k&&++p);R||w?Q||++F:v||++E}n+=\"&ime=\"+D+(\"&imex=\"+E+\"&imeh=\"+F)+(\"&imea=\"+g+\"&imeb=\"+p);M(K(\"all\",n,b))},0)},!1)})();}).call(this);})();</script><script nonce=\"L5zq4xU4PhU2C+gt2Y3Xow==\">function _setImagesSrc(e,c){function f(b){b.onerror=function(){b.style.display=\"none\"};b.src=c}for(var g=0,a=void 0;a=e[g++];){var d=document.getElementById(a)||document.querySelector(\\'img[data-iid=\"\\'+a+\\'\"]\\');d?f(d):(window.google=window.google||{},google.iir=google.iir||{},google.iir[a]=c)}};</script><script nonce=\"L5zq4xU4PhU2C+gt2Y3Xow==\">(function(){var s=\\'data:image/jpeg;base64,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\\\\x3d\\';var i=[\\'dimg_1\\'];_setImagesSrc(i,s);})();</script><script nonce=\"L5zq4xU4PhU2C+gt2Y3Xow==\">(function(){var e=\\'4P_-XpmKKKKW4-EP27iBiAo\\';(function(){\\nvar a=e;2==(window.performance&&window.performance.navigation&&window.performance.navigation.type)&&window.ping(\"/gen_204?ct=backbutton&ei=\"+a);}).call(this);})();(function(){\\nvar b=[function(){google.tick&&google.tick(\"load\",\"dcl\")}];google.dclc=function(a){b.length?b.push(a):a()};function c(){for(var a;a=b.shift();)a()}window.addEventListener?(document.addEventListener(\"DOMContentLoaded\",c,!1),window.addEventListener(\"load\",c,!1)):window.attachEvent&&window.attachEvent(\"onload\",c);}).call(this);(function(){(function(){google.csct={};google.csct.ps=\\'AOvVaw0RDSTGEoMu64t8xycuUhS_\\\\x26ust\\\\x3d1593856352689289\\';})();})();(function(){(function(){google.csct.rd=true;})();})();google.drty&&google.drty();</script></body></html>'"
            ]
          },
          "metadata": {
            "tags": []
          },
          "execution_count": 4
        }
      ]
    },
    {
      "cell_type": "code",
      "metadata": {
        "id": "mY6w8hYUebTk"
      },
      "source": [
        ""
      ],
      "execution_count": null,
      "outputs": []
    },
    {
      "cell_type": "code",
      "metadata": {
        "id": "zFQf65VTGxtY",
        "colab": {
          "base_uri": "https://localhost:8080/",
          "height": 245
        },
        "outputId": "c73571ba-bc6f-4b19-8299-96017f4e3767"
      },
      "source": [
        "import requests\n",
        "import os\n",
        "from bs4 import BeautifulSoup\n",
        "from urllib.parse import urljoin\n",
        "import webbrowser\n",
        "slovo = input(\"Zadej token: \")\n",
        "\n",
        "celkovy_list_zprav = []\n",
        "\n",
        "with open(\"zdroje.txt\") as file:\n",
        "    vyhledavat_na = \"+OR+site%3A\".join([ zdroj for zdroj in file.readlines() if not zdroj.startswith(\"r/\") and not zdroj.startswith(\"@\") ])\n",
        "tyden = [\"&lr=&hl=cs&sxsrf=ALeKk01xqxJtp8LVqwVLkFCoFQM1qpKGgw:1593942225849&source=lnt&tbs=qdr:w&sa=X&ved=2ahUKEwjf7afB6bXqAhXIiFwKHScDAY4QpwV6BAgNEB8&biw=1600&bih=737\"]\n",
        "strany = [\"&lr=&hl=cs&tbs=qdr:d&sxsrf=ALeKk00oUJzKwEMzETl6CB3B5Uelbd2UIQ:1593771105031&source=lnt&sa=X&ved=2ahUKEwjh68WE7LDqAhUs5uAKHXtqCiIQpwV6BAgLEB4&biw=1536&bih=674\",\n",
        "          \"&lr=&hl=cs&tbs=qdr:d&sxsrf=ALeKk02rjmtJ5aGAVRBBkYEbHdemOJLDOw:1593771300561&ei=JAX_XubZIb2cjLsPuqqTyAI&start=10&sa=N&ved=2ahUKEwjm--Ph7LDqAhU9DmMBHTrVBCkQ8tMDegQICxAw&biw=1536&bih=674\",\n",
        "          \"&lr=&hl=cs&tbs=qdr:d&sxsrf=ALeKk01O0CcyVs4aLel4g1ub5Mrr54CSjA:1593771310386&ei=LgX_XvKQF7HkgwfrjpRg&start=20&sa=N&ved=2ahUKEwjy37vm7LDqAhUx8uAKHWsHBQw4ChDy0wN6BAgLEDI&biw=1536&bih=674\",\n",
        "          \"&lr=&hl=cs&tbs=qdr:d&sxsrf=ALeKk02irNpSRaapCK4s9LPP6NNcC9a8-A:1593771362697&ei=YgX_Xsv_KbSr1fAPyoyCyAI&start=30&sa=N&ved=2ahUKEwjLuLT_7LDqAhW0VRUIHUqGACk4FBDy0wN6BAgLEDQ&biw=1536&bih=674\"]\n",
        "\n",
        "for strana in tyden:\n",
        "  youtube_search =f\"\"\"https://www.google.com/search?q={slovo}+site%3A{vyhledavat_na}{strana}\"\"\"\n",
        "  # print(youtube_search)\n",
        "  webbrowser.open_new(youtube_search)\n",
        "\n",
        "  r = requests.get(youtube_search)\n",
        "  html = r.text\n",
        "  soup = BeautifulSoup(html, 'html.parser')\n",
        "\n",
        "\n",
        "  for i in soup.find_all(\"a\"):\n",
        "    if i[\"href\"].startswith(\"/url?q=\"):\n",
        "      print(i[\"href\"][7:])\n",
        "      celkovy_list_zprav.append(i[\"href\"][7:])\n",
        "  upravene = [z.split(\"&\")[0] for z in celkovy_list_zprav if not z.startswith(\"https://accounts.google.com\") if len(z.split(\"&\")[0]) < 250 and len(z.split(\"&\")[0]) > 60 ]\n"
      ],
      "execution_count": null,
      "outputs": [
        {
          "output_type": "stream",
          "text": [
            "Zadej token: bitcoin\n",
            "https://www.e15.cz/kryptomeny-dane&sa=U&ved=2ahUKEwiJxPbhrrbqAhX773MBHTljARAQFjAAegQIBBAB&usg=AOvVaw23kmY-lmmISQI3BoEa8Z8K\n",
            "https://cryptosvet.cz/&sa=U&ved=2ahUKEwiJxPbhrrbqAhX773MBHTljARAQFjABegQIChAB&usg=AOvVaw2LHmj5QzYJs9gyfCYi2eOF\n",
            "https://www.e15.cz/kryptomeny/krypto-graf-tydne-jistota-deseti-procent-virtualni-mena-laka-na-slusny-urok-a-jeji-kurz-sili-1371251&sa=U&ved=2ahUKEwiJxPbhrrbqAhX773MBHTljARAQFjACegQICBAB&usg=AOvVaw3TD7mwCZfBLDKrZFF-hFwK\n",
            "https://www.e15.cz/byznys/tezari-z-bridlice-krachuji-boeing-737-max-zacina-letat-a-bitcoin-bojuje-o-devet-tisic-dolaru-1371076&sa=U&ved=2ahUKEwiJxPbhrrbqAhX773MBHTljARAQFjADegQICRAB&usg=AOvVaw1S24XzWFXRhsRRjxvYK81v\n",
            "https://www.e15.cz/kryptomeny/k-ranni-kave-i-stokoruna-navic-platit-bitcoinem-je-drazsi-nez-pred-krizi-1371036&sa=U&ved=2ahUKEwiJxPbhrrbqAhX773MBHTljARAQFjAEegQIBxAB&usg=AOvVaw1zdXCb1tBWJl8m8_Dg8hT5\n",
            "https://www.e15.cz/finexpert/investujeme/cesi-v-pololeti-koupili-kryptomeny-za-1-8-miliardy-vic-nez-loni-1371113&sa=U&ved=2ahUKEwiJxPbhrrbqAhX773MBHTljARAQFjAFegQIBhAB&usg=AOvVaw3qosGORb01R_QOBuXx2JI2\n",
            "https://www.e15.cz/finexpert/investujeme/cesi-v-pololeti-koupili-kryptomeny-za-1-8-mld-vic-nez-loni-1371113&sa=U&ved=2ahUKEwiJxPbhrrbqAhX773MBHTljARAQFjAGegQIAxAB&usg=AOvVaw0m2NA4balAwYmts527Im2B\n",
            "https://cryptosvet.cz/hodl-bitcoin-od-brezna-vyrostl-o-78-pocet-pozic-se-ale-snizil-o-28/&sa=U&ved=2ahUKEwiJxPbhrrbqAhX773MBHTljARAQFjAHegQIAhAB&usg=AOvVaw1eqMGHrL1cVhr5yQ_hkXzO\n",
            "https://www.kurzy.cz/zpravy/%3FWriter%3D106933&sa=U&ved=2ahUKEwiJxPbhrrbqAhX773MBHTljARAQFjAIegQIARAB&usg=AOvVaw3ddHXPzfjUifZXAarKk5VN\n",
            "https://cryptosvet.cz/kryptomena/BTC/bitcoin/&sa=U&ved=2ahUKEwiJxPbhrrbqAhX773MBHTljARAQFjAJegQIBRAB&usg=AOvVaw1KCVKWcMzYtQHKpyw9kOdC\n",
            "https://accounts.google.com/ServiceLogin%3Fcontinue%3Dhttps://www.google.com/search%253Fq%253Dbitcoin%252Bsite:e15.cz%25250A%252BOR%252Bsite:cryptosvet.cz%25250A%252BOR%252Bsite:kurzy.cz%2526lr%253D%2526hl%253Dcs%2526sxsrf%253DALeKk01xqxJtp8LVqwVLkFCoFQM1qpKGgw:1593942225849%2526source%253Dlnt%2526tbs%253Dqdr:w%2526sa%253DX%2526ved%253D2ahUKEwjf7afB6bXqAhXIiFwKHScDAY4QpwV6BAgNEB8%2526biw%253D1600%2526bih%253D737%26hl%3Dcs&sa=U&ved=0ahUKEwiJxPbhrrbqAhX773MBHTljARAQxs8CCEA&usg=AOvVaw3iCIMS--vH-a9GWmODaAIB\n"
          ],
          "name": "stdout"
        }
      ]
    },
    {
      "cell_type": "code",
      "metadata": {
        "id": "2MM18xuWkU8k"
      },
      "source": [
        "text = \"\"\"https://www.czechcrunch.cz/2020/07/aby-male-e-shopy-mohly-diky-predikci-prodeju-konkurovat-amazonu-ceske-inventoro-ziskalo-20-milionu-korun/&sa=U&ved=2ahUKEwjGoM6Yw7HqAhUMZt4KHTfwCUEQFjABegQIABAB&usg=AOvVaw3Q4WexxiDH-sD0larr742U\"\"\""
      ],
      "execution_count": null,
      "outputs": []
    },
    {
      "cell_type": "code",
      "metadata": {
        "id": "O6JZQALKkdBS",
        "colab": {
          "base_uri": "https://localhost:8080/",
          "height": 50
        },
        "outputId": "647a881b-b331-4bbe-e899-af3aba56da1b"
      },
      "source": [
        "text.split(\"/&\")"
      ],
      "execution_count": null,
      "outputs": [
        {
          "output_type": "execute_result",
          "data": {
            "text/plain": [
              "['https://www.czechcrunch.cz/2020/07/aby-male-e-shopy-mohly-diky-predikci-prodeju-konkurovat-amazonu-ceske-inventoro-ziskalo-20-milionu-korun',\n",
              " 'sa=U&ved=2ahUKEwjGoM6Yw7HqAhUMZt4KHTfwCUEQFjABegQIABAB&usg=AOvVaw3Q4WexxiDH-sD0larr742U']"
            ]
          },
          "metadata": {
            "tags": []
          },
          "execution_count": 31
        }
      ]
    },
    {
      "cell_type": "code",
      "metadata": {
        "id": "KyFc8aHpeeaZ",
        "colab": {
          "base_uri": "https://localhost:8080/",
          "height": 153
        },
        "outputId": "e0fdc1e3-f7fd-41c3-9d77-30be8ce2c192"
      },
      "source": [
        "for i in soup.find_all('span', class_ = \"r0bn4c rQMQod\"):\n",
        "  if \"hodinami\" in i.text:\n",
        "    print(i.text)"
      ],
      "execution_count": null,
      "outputs": [
        {
          "output_type": "stream",
          "text": [
            "před 9 hodinami\n",
            "před 7 hodinami\n",
            "před 5 hodinami\n",
            "před 7 hodinami\n",
            "před 2 hodinami\n",
            "před 8 hodinami\n",
            "před 22 hodinami\n",
            "před 7 hodinami\n"
          ],
          "name": "stdout"
        }
      ]
    },
    {
      "cell_type": "code",
      "metadata": {
        "id": "Gtv1Io-qZSVq"
      },
      "source": [
        "celkovy_list_zprav= []"
      ],
      "execution_count": null,
      "outputs": []
    },
    {
      "cell_type": "code",
      "metadata": {
        "id": "hcYIi7XyNhUf"
      },
      "source": [
        "upravene = [z.split(\"&\")[0] for z in celkovy_list_zprav if not z.startswith(\"https://accounts.google.com\") if len(z.split(\"&\")[0]) < 250 and len(z.split(\"&\")[0]) > 60 ]"
      ],
      "execution_count": null,
      "outputs": []
    },
    {
      "cell_type": "code",
      "metadata": {
        "id": "GpYILFjqq08X"
      },
      "source": [
        ""
      ],
      "execution_count": null,
      "outputs": []
    },
    {
      "cell_type": "code",
      "metadata": {
        "id": "tyglRyMCO7yR",
        "colab": {
          "base_uri": "https://localhost:8080/",
          "height": 121
        },
        "outputId": "33e3040e-b099-4c66-d41c-2deba846599d"
      },
      "source": [
        "upravene"
      ],
      "execution_count": null,
      "outputs": [
        {
          "output_type": "execute_result",
          "data": {
            "text/plain": [
              "['https://www.e15.cz/kryptomeny/krypto-graf-tydne-jistota-deseti-procent-virtualni-mena-laka-na-slusny-urok-a-jeji-kurz-sili-1371251',\n",
              " 'https://www.e15.cz/byznys/tezari-z-bridlice-krachuji-boeing-737-max-zacina-letat-a-bitcoin-bojuje-o-devet-tisic-dolaru-1371076',\n",
              " 'https://www.e15.cz/kryptomeny/k-ranni-kave-i-stokoruna-navic-platit-bitcoinem-je-drazsi-nez-pred-krizi-1371036',\n",
              " 'https://www.e15.cz/finexpert/investujeme/cesi-v-pololeti-koupili-kryptomeny-za-1-8-miliardy-vic-nez-loni-1371113',\n",
              " 'https://www.e15.cz/finexpert/investujeme/cesi-v-pololeti-koupili-kryptomeny-za-1-8-mld-vic-nez-loni-1371113',\n",
              " 'https://cryptosvet.cz/hodl-bitcoin-od-brezna-vyrostl-o-78-pocet-pozic-se-ale-snizil-o-28/']"
            ]
          },
          "metadata": {
            "tags": []
          },
          "execution_count": 5
        }
      ]
    },
    {
      "cell_type": "code",
      "metadata": {
        "id": "66UJ7Gg0eqz3",
        "colab": {
          "base_uri": "https://localhost:8080/",
          "height": 141
        },
        "outputId": "bf47ba60-6c51-4696-91d8-2fbfb4db2dbb"
      },
      "source": [
        "!pip install jusText"
      ],
      "execution_count": null,
      "outputs": [
        {
          "output_type": "stream",
          "text": [
            "Collecting jusText\n",
            "\u001b[?25l  Downloading https://files.pythonhosted.org/packages/6c/5f/c7b909b4b864ebcacfac23ce2f6f01a50c53628787cc14b3c06f79464cab/jusText-2.2.0-py2.py3-none-any.whl (860kB)\n",
            "\u001b[K     |████████████████████████████████| 870kB 2.8MB/s \n",
            "\u001b[?25hRequirement already satisfied: lxml>=2.2.4 in /usr/local/lib/python3.6/dist-packages (from jusText) (4.2.6)\n",
            "Installing collected packages: jusText\n",
            "Successfully installed jusText-2.2.0\n"
          ],
          "name": "stdout"
        }
      ]
    },
    {
      "cell_type": "code",
      "metadata": {
        "id": "hZhLaWPLe3H_",
        "colab": {
          "base_uri": "https://localhost:8080/",
          "height": 141
        },
        "outputId": "66e91172-c04c-4156-b3a9-1ea28e964900"
      },
      "source": [
        "!pip install  selenium"
      ],
      "execution_count": null,
      "outputs": [
        {
          "output_type": "stream",
          "text": [
            "Collecting selenium\n",
            "\u001b[?25l  Downloading https://files.pythonhosted.org/packages/80/d6/4294f0b4bce4de0abf13e17190289f9d0613b0a44e5dd6a7f5ca98459853/selenium-3.141.0-py2.py3-none-any.whl (904kB)\n",
            "\r\u001b[K     |▍                               | 10kB 15.7MB/s eta 0:00:01\r\u001b[K     |▊                               | 20kB 1.5MB/s eta 0:00:01\r\u001b[K     |█                               | 30kB 2.1MB/s eta 0:00:01\r\u001b[K     |█▌                              | 40kB 1.6MB/s eta 0:00:01\r\u001b[K     |█▉                              | 51kB 1.9MB/s eta 0:00:01\r\u001b[K     |██▏                             | 61kB 2.2MB/s eta 0:00:01\r\u001b[K     |██▌                             | 71kB 2.3MB/s eta 0:00:01\r\u001b[K     |███                             | 81kB 2.6MB/s eta 0:00:01\r\u001b[K     |███▎                            | 92kB 2.8MB/s eta 0:00:01\r\u001b[K     |███▋                            | 102kB 2.7MB/s eta 0:00:01\r\u001b[K     |████                            | 112kB 2.7MB/s eta 0:00:01\r\u001b[K     |████▍                           | 122kB 2.7MB/s eta 0:00:01\r\u001b[K     |████▊                           | 133kB 2.7MB/s eta 0:00:01\r\u001b[K     |█████                           | 143kB 2.7MB/s eta 0:00:01\r\u001b[K     |█████▍                          | 153kB 2.7MB/s eta 0:00:01\r\u001b[K     |█████▉                          | 163kB 2.7MB/s eta 0:00:01\r\u001b[K     |██████▏                         | 174kB 2.7MB/s eta 0:00:01\r\u001b[K     |██████▌                         | 184kB 2.7MB/s eta 0:00:01\r\u001b[K     |██████▉                         | 194kB 2.7MB/s eta 0:00:01\r\u001b[K     |███████▎                        | 204kB 2.7MB/s eta 0:00:01\r\u001b[K     |███████▋                        | 215kB 2.7MB/s eta 0:00:01\r\u001b[K     |████████                        | 225kB 2.7MB/s eta 0:00:01\r\u001b[K     |████████▎                       | 235kB 2.7MB/s eta 0:00:01\r\u001b[K     |████████▊                       | 245kB 2.7MB/s eta 0:00:01\r\u001b[K     |█████████                       | 256kB 2.7MB/s eta 0:00:01\r\u001b[K     |█████████▍                      | 266kB 2.7MB/s eta 0:00:01\r\u001b[K     |█████████▉                      | 276kB 2.7MB/s eta 0:00:01\r\u001b[K     |██████████▏                     | 286kB 2.7MB/s eta 0:00:01\r\u001b[K     |██████████▌                     | 296kB 2.7MB/s eta 0:00:01\r\u001b[K     |██████████▉                     | 307kB 2.7MB/s eta 0:00:01\r\u001b[K     |███████████▎                    | 317kB 2.7MB/s eta 0:00:01\r\u001b[K     |███████████▋                    | 327kB 2.7MB/s eta 0:00:01\r\u001b[K     |████████████                    | 337kB 2.7MB/s eta 0:00:01\r\u001b[K     |████████████▎                   | 348kB 2.7MB/s eta 0:00:01\r\u001b[K     |████████████▊                   | 358kB 2.7MB/s eta 0:00:01\r\u001b[K     |█████████████                   | 368kB 2.7MB/s eta 0:00:01\r\u001b[K     |█████████████▍                  | 378kB 2.7MB/s eta 0:00:01\r\u001b[K     |█████████████▊                  | 389kB 2.7MB/s eta 0:00:01\r\u001b[K     |██████████████▏                 | 399kB 2.7MB/s eta 0:00:01\r\u001b[K     |██████████████▌                 | 409kB 2.7MB/s eta 0:00:01\r\u001b[K     |██████████████▉                 | 419kB 2.7MB/s eta 0:00:01\r\u001b[K     |███████████████▏                | 430kB 2.7MB/s eta 0:00:01\r\u001b[K     |███████████████▋                | 440kB 2.7MB/s eta 0:00:01\r\u001b[K     |████████████████                | 450kB 2.7MB/s eta 0:00:01\r\u001b[K     |████████████████▎               | 460kB 2.7MB/s eta 0:00:01\r\u001b[K     |████████████████▋               | 471kB 2.7MB/s eta 0:00:01\r\u001b[K     |█████████████████               | 481kB 2.7MB/s eta 0:00:01\r\u001b[K     |█████████████████▍              | 491kB 2.7MB/s eta 0:00:01\r\u001b[K     |█████████████████▊              | 501kB 2.7MB/s eta 0:00:01\r\u001b[K     |██████████████████▏             | 512kB 2.7MB/s eta 0:00:01\r\u001b[K     |██████████████████▌             | 522kB 2.7MB/s eta 0:00:01\r\u001b[K     |██████████████████▉             | 532kB 2.7MB/s eta 0:00:01\r\u001b[K     |███████████████████▏            | 542kB 2.7MB/s eta 0:00:01\r\u001b[K     |███████████████████▋            | 552kB 2.7MB/s eta 0:00:01\r\u001b[K     |████████████████████            | 563kB 2.7MB/s eta 0:00:01\r\u001b[K     |████████████████████▎           | 573kB 2.7MB/s eta 0:00:01\r\u001b[K     |████████████████████▋           | 583kB 2.7MB/s eta 0:00:01\r\u001b[K     |█████████████████████           | 593kB 2.7MB/s eta 0:00:01\r\u001b[K     |█████████████████████▍          | 604kB 2.7MB/s eta 0:00:01\r\u001b[K     |█████████████████████▊          | 614kB 2.7MB/s eta 0:00:01\r\u001b[K     |██████████████████████          | 624kB 2.7MB/s eta 0:00:01\r\u001b[K     |██████████████████████▌         | 634kB 2.7MB/s eta 0:00:01\r\u001b[K     |██████████████████████▉         | 645kB 2.7MB/s eta 0:00:01\r\u001b[K     |███████████████████████▏        | 655kB 2.7MB/s eta 0:00:01\r\u001b[K     |███████████████████████▌        | 665kB 2.7MB/s eta 0:00:01\r\u001b[K     |████████████████████████        | 675kB 2.7MB/s eta 0:00:01\r\u001b[K     |████████████████████████▎       | 686kB 2.7MB/s eta 0:00:01\r\u001b[K     |████████████████████████▋       | 696kB 2.7MB/s eta 0:00:01\r\u001b[K     |█████████████████████████       | 706kB 2.7MB/s eta 0:00:01\r\u001b[K     |█████████████████████████▍      | 716kB 2.7MB/s eta 0:00:01\r\u001b[K     |█████████████████████████▊      | 727kB 2.7MB/s eta 0:00:01\r\u001b[K     |██████████████████████████      | 737kB 2.7MB/s eta 0:00:01\r\u001b[K     |██████████████████████████▍     | 747kB 2.7MB/s eta 0:00:01\r\u001b[K     |██████████████████████████▉     | 757kB 2.7MB/s eta 0:00:01\r\u001b[K     |███████████████████████████▏    | 768kB 2.7MB/s eta 0:00:01\r\u001b[K     |███████████████████████████▌    | 778kB 2.7MB/s eta 0:00:01\r\u001b[K     |████████████████████████████    | 788kB 2.7MB/s eta 0:00:01\r\u001b[K     |████████████████████████████▎   | 798kB 2.7MB/s eta 0:00:01\r\u001b[K     |████████████████████████████▋   | 808kB 2.7MB/s eta 0:00:01\r\u001b[K     |█████████████████████████████   | 819kB 2.7MB/s eta 0:00:01\r\u001b[K     |█████████████████████████████▍  | 829kB 2.7MB/s eta 0:00:01\r\u001b[K     |█████████████████████████████▊  | 839kB 2.7MB/s eta 0:00:01\r\u001b[K     |██████████████████████████████  | 849kB 2.7MB/s eta 0:00:01\r\u001b[K     |██████████████████████████████▍ | 860kB 2.7MB/s eta 0:00:01\r\u001b[K     |██████████████████████████████▉ | 870kB 2.7MB/s eta 0:00:01\r\u001b[K     |███████████████████████████████▏| 880kB 2.7MB/s eta 0:00:01\r\u001b[K     |███████████████████████████████▌| 890kB 2.7MB/s eta 0:00:01\r\u001b[K     |███████████████████████████████▉| 901kB 2.7MB/s eta 0:00:01\r\u001b[K     |████████████████████████████████| 911kB 2.7MB/s \n",
            "\u001b[?25hRequirement already satisfied: urllib3 in /usr/local/lib/python3.6/dist-packages (from selenium) (1.24.3)\n",
            "Installing collected packages: selenium\n",
            "Successfully installed selenium-3.141.0\n"
          ],
          "name": "stdout"
        }
      ]
    },
    {
      "cell_type": "code",
      "metadata": {
        "id": "4JpXd2mPe7nm",
        "colab": {
          "base_uri": "https://localhost:8080/",
          "height": 69
        },
        "outputId": "a1d36162-c5e7-40ba-ef9e-eccbdc60de2f"
      },
      "source": [
        "!pip install textblob"
      ],
      "execution_count": null,
      "outputs": [
        {
          "output_type": "stream",
          "text": [
            "Requirement already satisfied: textblob in /usr/local/lib/python3.6/dist-packages (0.15.3)\n",
            "Requirement already satisfied: nltk>=3.1 in /usr/local/lib/python3.6/dist-packages (from textblob) (3.2.5)\n",
            "Requirement already satisfied: six in /usr/local/lib/python3.6/dist-packages (from nltk>=3.1->textblob) (1.12.0)\n"
          ],
          "name": "stdout"
        }
      ]
    },
    {
      "cell_type": "code",
      "metadata": {
        "id": "VqtTTFMleJR4",
        "colab": {
          "base_uri": "https://localhost:8080/",
          "height": 375
        },
        "outputId": "b2431833-cf9b-47d8-f8bf-4d4aaeb90c97"
      },
      "source": [
        "\"\"\"\n",
        "Module for fulltext extraction from websites\n",
        "\n",
        "Example:\n",
        "    >>> extractor = ReademodeFulltextExtractor()\n",
        "    >>> fulltext = extractor.extract_fulltext(\"http://example.com/article\")\n",
        "\n",
        "Two extractors are provided.\n",
        "\n",
        "- ReademodeFulltextExtractor - uses Firefox reader mode - generally best results, but sometimes fails\n",
        "- JusttextFulltextExtractor - uses justtext library - not as good results, but works every time\n",
        "\n",
        "\"\"\"\n",
        "import psutil\n",
        "import time\n",
        "import os.path as op\n",
        "import os\n",
        "import justext\n",
        "from selenium.webdriver.firefox.options import Options\n",
        "from textblob import TextBlob\n",
        "import requests\n",
        "from bs4 import BeautifulSoup\n",
        "from selenium import webdriver\n",
        "from pprint import pprint\n",
        "\n",
        "\n",
        "class FulltextExtractor:\n",
        "    \"\"\"\n",
        "    Base class for website fulltext extractors\n",
        "\n",
        "    In your class, you must implement extract_fulltext() method.\n",
        "\n",
        "    \"\"\"\n",
        "\n",
        "    def extract_fulltext(self, url):\n",
        "        \"\"\"\n",
        "        Extract fulltext from given website\n",
        "\n",
        "        Args:\n",
        "            url (str): website url\n",
        "\n",
        "        Returns:\n",
        "            either website fulltext (str) or None if fulltext extraction failed\n",
        "        \"\"\"\n",
        "        raise NotImplementedError\n",
        "\n",
        "\n",
        "    def detect_language(self, fulltext):\n",
        "        \"\"\"Tato funkce vrací ISO jazyka článku.\n",
        "        Pokud Readmod nenačelt text s hodnotou NONE, tak také vrátí hodnotu jazya NONE\"\"\"\n",
        "        try: #xxx vyřešit tuto chybu raise TranslatorError('Must provide a string with at least 3 characters.')\n",
        "            if fulltext != None:\n",
        "                detect = TextBlob(fulltext)\n",
        "                detection = detect.detect_language()\n",
        "            else:\n",
        "                detection = None\n",
        "        except UnicodeTranslateError as e:\n",
        "          print('Must provide a string with at least 3 characters.', e)\n",
        "        return detection\n",
        "\n",
        "\n",
        "class ReademodeFulltextExtractor(FulltextExtractor):\n",
        "\n",
        "    \"\"\"\n",
        "    Tato třída spustí firefox v headless modu a připojí k zadané urladrese url díky kterému je aktivován readmode článuku\n",
        "\n",
        "    \"\"\"\n",
        "    #extract_fulltext\n",
        "\n",
        "    #fulltext_maker\n",
        "    # =========================================================================\n",
        "    def __init__(self):\n",
        "        options = Options()\n",
        "        options.headless = True\n",
        "        geckodriver_path = op.join(op.dirname(__file__), \"/home/jakub.valenta/Desktop/geckodriver_0.21.0\")\n",
        "        # XXX use older geckodriver due to boken pipe, https://github.com/mozilla/geckodriver/issues/1321\n",
        "        self.extractor = webdriver.Firefox(firefox_options=options, executable_path=geckodriver_path)\n",
        "\n",
        "    # =========================================================================\n",
        "    def extractsource_code(self, url):\n",
        "        \"\"\"Tato metoda vytvoří firefox extractor... headless.\n",
        "            Načte stránku, počká 5 sekud a následně vrátí zdrojový kod v html.\n",
        "        \"\"\"\n",
        "\n",
        "        # get firefox readermode output\n",
        "\n",
        "        self.extractor.get(\"about:reader?url={}\".format(url))\n",
        "        time.sleep(5)  # xxx počká 5 sekund a nasledně načte html\n",
        "        # TODO should this delay be configurable?\n",
        "        html = self.extractor.page_source\n",
        "        return html\n",
        "\n",
        "        # parse fulltext from readermode output\n",
        "\n",
        "    def extract_fulltext(self, html):\n",
        "        soup = BeautifulSoup(html, 'html.parser')\n",
        "        nalezene_texty = []\n",
        "\n",
        "\n",
        "        fulltext_divs = soup.findAll(\"h1\", {\"class\": \"reader-title\"})\n",
        "\n",
        "        if not fulltext_divs:\n",
        "            return None  # failed to extract fulltext\n",
        "\n",
        "        for element in fulltext_divs:\n",
        "            text = element.text\n",
        "            nalezene_texty.append(text)\n",
        "\n",
        "        fulltext = \"\\n\".join(nalezene_texty)\n",
        "        fulltext = fulltext.strip()\n",
        "        pprint(fulltext)\n",
        "        return fulltext\n",
        "\n",
        "    def extract_title(self, html):\n",
        "        \"\"\"Tato metoda vrrati nadpis clanku\"\"\"\n",
        "        soup = BeautifulSoup(html, 'html.parser')\n",
        "\n",
        "        nalezene_title = []\n",
        "\n",
        "        titletext_divs = soup.findAll(\"h1\", {\"class\": \"reader-title\"})\n",
        "\n",
        "        if not titletext_divs:\n",
        "            return None  # failed to extract fulltext\n",
        "\n",
        "        for element in titletext_divs:\n",
        "            text = element.text\n",
        "            nalezene_title.append(text)\n",
        "\n",
        "        title = \"\\n\".join(nalezene_title)\n",
        "        return title.strip()\n",
        "\n",
        "    def pertext(self,fulltext):\n",
        "        pertext = fulltext[:200] +\"...\"\n",
        "        return pertext\n",
        "\n",
        "    def kill_headlessbrowser(self):\n",
        "        pid = os.getpid()\n",
        "        p = psutil.Process(pid)\n",
        "        time.sleep(1)\n",
        "        children = p.children(recursive=True)\n",
        "\n",
        "        # print(\"this process is\", p)\n",
        "        # print(\"children are\", children)\n",
        "        l = []\n",
        "        for i in children:\n",
        "            l.append(i.pid)\n",
        "\n",
        "\n",
        "\n",
        "        parent = psutil.Process(l[0])\n",
        "        print(parent)\n",
        "        # parent = children[0]\n",
        "        for child in parent.children(recursive=True):  # or parent.children() for recursive=False\n",
        "            child.kill()\n",
        "        parent.kill()\n",
        "        print(\"Kill everything\")\n",
        "\n",
        "    # def extract_fulltext(self, url):\n",
        "    #     \"\"\"Tato metoda vytvoří firefox extractor... headless.\n",
        "    #         Načte stránku, počká 5 sekud a následně vrátí zdrojový kod v html.\n",
        "    #     \"\"\"\n",
        "    #\n",
        "    #     # get firefox readermode output\n",
        "    #\n",
        "    #     self.extractor.get(\"about:reader?url={}\".format(url))\n",
        "    #     time.sleep(5)  # xxx počká 5 sekund a nasledně načte html\n",
        "    #     # TODO should this delay be configurable?\n",
        "    #     html = self.extractor.page_source\n",
        "    #\n",
        "    #     # parse fulltext from readermode output\n",
        "    #\n",
        "    #     soup = BeautifulSoup(html, 'html.parser')\n",
        "    #     nalezene_texty = []\n",
        "    #\n",
        "    #     fulltext_divs = soup.findAll(\"div\", {\"id\": \"readability-page-1\"})\n",
        "    #\n",
        "    #     if not fulltext_divs:\n",
        "    #         return None  # failed to extract fulltext\n",
        "    #\n",
        "    #     for element in fulltext_divs:\n",
        "    #         text = element.text\n",
        "    #         nalezene_texty.append(text)\n",
        "    #\n",
        "    #     fulltext = \"\\n\".join(nalezene_texty)\n",
        "    #     return fulltext.strip()\n",
        "\n",
        "\n",
        "\n",
        "    def quit(self):\n",
        "        \"\"\"Ukonci bezici firefox\"\"\"\n",
        "        self.extractor.quit()\n",
        "\n",
        "#===================================================================\n",
        "\n",
        "class JusttextFulltextExtractor(FulltextExtractor):\n",
        "    def extract_fulltext(self, url, justext_language=None):\n",
        "        \"\"\"\n",
        "        Extract fulltext from given website\n",
        "\n",
        "        Args:\n",
        "            url (str): website url\n",
        "            justext_language (str, optional): If specified, use given language for stopwords in justext library\n",
        "                (for example, \"Czech\" or \"English\"). Default is None, language is autodetected.\n",
        "\n",
        "        Returns:\n",
        "            website fulltext (str), the function never fails\n",
        "        \"\"\"\n",
        "        # get page\n",
        "        response = requests.get(url)\n",
        "        html = response.text\n",
        "\n",
        "        # detect language\n",
        "        if not justext_language:\n",
        "            language = self.detect_language(html)\n",
        "            # TODO how to get language if we do not know fulltext yet? extract all <p> or something?\n",
        "\n",
        "            if language == \"cs\":\n",
        "                justext_language = \"Czech\"\n",
        "            elif language == \"en\":\n",
        "                justext_language = \"English\"\n",
        "            else:\n",
        "                # TODO should we proceed in this case?\n",
        "                print(\"Warning - detected language\", language, \"but I do not know justext stoplist for that!\")\n",
        "                justext_language = \"English\"\n",
        "\n",
        "        # extract fulltext using justext\n",
        "        paragraphs = justext.justext(html, justext.get_stoplist(justext_language))\n",
        "\n",
        "        nalezene_texty = []\n",
        "\n",
        "        for paragraph in paragraphs:\n",
        "            if not paragraph.is_boilerplate:\n",
        "                nalezene_texty.append(paragraph.text)\n",
        "\n",
        "        fulltext = \"\\n\".join(nalezene_texty)\n",
        "        return fulltext.strip()"
      ],
      "execution_count": null,
      "outputs": [
        {
          "output_type": "error",
          "ename": "ModuleNotFoundError",
          "evalue": "ignored",
          "traceback": [
            "\u001b[0;31m---------------------------------------------------------------------------\u001b[0m",
            "\u001b[0;31mModuleNotFoundError\u001b[0m                       Traceback (most recent call last)",
            "\u001b[0;32m<ipython-input-6-51d55df348ba>\u001b[0m in \u001b[0;36m<module>\u001b[0;34m()\u001b[0m\n\u001b[1;32m     16\u001b[0m \u001b[0;32mimport\u001b[0m \u001b[0mos\u001b[0m\u001b[0;34m.\u001b[0m\u001b[0mpath\u001b[0m \u001b[0;32mas\u001b[0m \u001b[0mop\u001b[0m\u001b[0;34m\u001b[0m\u001b[0;34m\u001b[0m\u001b[0m\n\u001b[1;32m     17\u001b[0m \u001b[0;32mimport\u001b[0m \u001b[0mos\u001b[0m\u001b[0;34m\u001b[0m\u001b[0;34m\u001b[0m\u001b[0m\n\u001b[0;32m---> 18\u001b[0;31m \u001b[0;32mimport\u001b[0m \u001b[0mjustext\u001b[0m\u001b[0;34m\u001b[0m\u001b[0;34m\u001b[0m\u001b[0m\n\u001b[0m\u001b[1;32m     19\u001b[0m \u001b[0;32mfrom\u001b[0m \u001b[0mselenium\u001b[0m\u001b[0;34m.\u001b[0m\u001b[0mwebdriver\u001b[0m\u001b[0;34m.\u001b[0m\u001b[0mfirefox\u001b[0m\u001b[0;34m.\u001b[0m\u001b[0moptions\u001b[0m \u001b[0;32mimport\u001b[0m \u001b[0mOptions\u001b[0m\u001b[0;34m\u001b[0m\u001b[0;34m\u001b[0m\u001b[0m\n\u001b[1;32m     20\u001b[0m \u001b[0;32mfrom\u001b[0m \u001b[0mtextblob\u001b[0m \u001b[0;32mimport\u001b[0m \u001b[0mTextBlob\u001b[0m\u001b[0;34m\u001b[0m\u001b[0;34m\u001b[0m\u001b[0m\n",
            "\u001b[0;31mModuleNotFoundError\u001b[0m: No module named 'justext'",
            "",
            "\u001b[0;31m---------------------------------------------------------------------------\u001b[0;32m\nNOTE: If your import is failing due to a missing package, you can\nmanually install dependencies using either !pip or !apt.\n\nTo view examples of installing some common dependencies, click the\n\"Open Examples\" button below.\n\u001b[0;31m---------------------------------------------------------------------------\u001b[0m\n"
          ]
        }
      ]
    },
    {
      "cell_type": "code",
      "metadata": {
        "id": "nSQk4kFkeUU1"
      },
      "source": [
        "#!/usr/bin/env python3\n",
        "\"\"\"\n",
        "# -----------------------------------------------------------------------------\n",
        "# NADPIS: ReadermodeFulltextextractor\n",
        "# -----------------------------------------------------------------------------\n",
        "\n",
        "Tohle je skript pro stahovani fulltextu z článku otevřených v readermodu\n",
        "\n",
        "Autor: J.Valenta\n",
        "\n",
        "Priklad pouziti:\n",
        "    ./fulltext_extractor_cli.py --output novy.csv \"http://smartcityvpraxi.cz/rozhovory_komentare_36.php\" \"http://smartcityvpraxi.cz/rozhovory_komentare_37.php\"\n",
        "\n",
        "Proverene zdroje:\n",
        "    AUTOcz\n",
        "    Automotoveworld\n",
        "\n",
        "\"\"\"\n",
        "\n",
        "#=========================================================================\n",
        "#Použité knihovny\n",
        "#=========================================================================\n",
        "\n",
        "import csv\n",
        "import argparse\n",
        "from docx import Document\n",
        "from datetime import datetime\n",
        "import requests\n",
        "import os\n",
        "from bs4 import BeautifulSoup\n",
        "from urllib.parse import urljoin\n",
        "import webbrowser\n",
        "\n",
        "#=========================================================================\n",
        "# Zadavání pomocí příkazové řádky(argparse)\n",
        "#=========================================================================\n",
        "\n",
        "# def make_parser():\n",
        "#     parser = argparse.ArgumentParser(description=__doc__, formatter_class=argparse.RawDescriptionHelpFormatter)\n",
        "#     parser.add_argument(\"url\", type=str, nargs='+', help=\"Zadej url, ze které tento skript stáhne fulltext\")#zde vznikne seznam url adres\n",
        "#     parser.add_argument(\"--output\", type=str, help=\"Zadej cestu k CSV souboru s vysledky\")\n",
        "#     return parser\n",
        "# #=========================================================================\n",
        "\n",
        "\n",
        "def main():\n",
        "    # parser = make_parser()\n",
        "    # args = parser.parse_args()\n",
        "\n",
        "    slovo = input(\"Zadej token: \")\n",
        "\n",
        "    celkovy_list_zprav = []\n",
        "\n",
        "    with open(\"/home/jakub.valenta/muj_projekt/zdroje.txt\") as file:\n",
        "        vyhledavat_na = \"+OR+site%3A\".join(\n",
        "            [zdroj for zdroj in file.readlines() if not zdroj.startswith(\"r/\") and not zdroj.startswith(\"@\")])\n",
        "\n",
        "    tyden = [\"&lr=&hl=cs&sxsrf=ALeKk01xqxJtp8LVqwVLkFCoFQM1qpKGgw:1593942225849&source=lnt&tbs=qdr:w&sa=X&ved=2ahUKEwjf7afB6bXqAhXIiFwKHScDAY4QpwV6BAgNEB8&biw=1600&bih=737\"]\n",
        "\n",
        "    strany = [\n",
        "        \"&lr=&hl=cs&tbs=qdr:d&sxsrf=ALeKk00oUJzKwEMzETl6CB3B5Uelbd2UIQ:1593771105031&source=lnt&sa=X&ved=2ahUKEwjh68WE7LDqAhUs5uAKHXtqCiIQpwV6BAgLEB4&biw=1536&bih=674\",\n",
        "        \"&lr=&hl=cs&tbs=qdr:d&sxsrf=ALeKk02rjmtJ5aGAVRBBkYEbHdemOJLDOw:1593771300561&ei=JAX_XubZIb2cjLsPuqqTyAI&start=10&sa=N&ved=2ahUKEwjm--Ph7LDqAhU9DmMBHTrVBCkQ8tMDegQICxAw&biw=1536&bih=674\",\n",
        "        \"&lr=&hl=cs&tbs=qdr:d&sxsrf=ALeKk01O0CcyVs4aLel4g1ub5Mrr54CSjA:1593771310386&ei=LgX_XvKQF7HkgwfrjpRg&start=20&sa=N&ved=2ahUKEwjy37vm7LDqAhUx8uAKHWsHBQw4ChDy0wN6BAgLEDI&biw=1536&bih=674\",\n",
        "        \"&lr=&hl=cs&tbs=qdr:d&sxsrf=ALeKk02irNpSRaapCK4s9LPP6NNcC9a8-A:1593771362697&ei=YgX_Xsv_KbSr1fAPyoyCyAI&start=30&sa=N&ved=2ahUKEwjLuLT_7LDqAhW0VRUIHUqGACk4FBDy0wN6BAgLEDQ&biw=1536&bih=674\"]\n",
        "\n",
        "    for strana in tyden:\n",
        "        youtube_search = f\"\"\"https://www.google.com/search?q={slovo}+site%3A{vyhledavat_na}{strana}\"\"\"\n",
        "        # print(youtube_search)\n",
        "        # webbrowser.open_new(youtube_search)\n",
        "\n",
        "        r = requests.get(youtube_search)\n",
        "        html = r.text\n",
        "        soup = BeautifulSoup(html, 'html.parser')\n",
        "\n",
        "        for i in soup.find_all(\"a\"):\n",
        "            if i[\"href\"].startswith(\"/url?q=\"):\n",
        "                print(i[\"href\"][7:])\n",
        "                celkovy_list_zprav.append(i[\"href\"][7:])\n",
        "    myurllist = [z.split(\"&\")[0] for z in celkovy_list_zprav if not z.startswith(\"https://accounts.google.com\") if\n",
        "                    len(z.split(\"&\")[0]) < 250 and len(z.split(\"&\")[0]) > 60]\n",
        "\n",
        "    output_csv_path = f\"{str(datetime.now())[:16]}_{slovo}\"\n",
        "    extractor = ReademodeFulltextExtractor()\n",
        "    output = []\n",
        "    for url in myurllist:\n",
        "        print(\"Downloading\", url)\n",
        "\n",
        "        try:\n",
        "            fulltext = extractor.extract_fulltext(url)\n",
        "            if fulltext is None:\n",
        "                jextractor = JusttextFulltextExtractor()\n",
        "                fulltext = jextractor.extract_fulltext(url)\n",
        "\n",
        "            # detection = extractor.detect_language(fulltext)\n",
        "            output.append((url, fulltext.split(\".\")[0], fulltext))\n",
        "        except ConnectionError as e:\n",
        "            print(\"Raise error {}\".format(e))\n",
        "\n",
        "    # create_file(output, output_csv_path)\n",
        "    create_word_file(output, output_csv_path)\n",
        "    print(\"Hotovo\")\n",
        "    return 0\n",
        "\n",
        "#=========================================================================\n",
        "\n",
        "def create_file(output, output_csv_path):\n",
        "    \"\"\"Zapise rows (seznam tuples) do CSV souboru, prvni radek bude header (list stringu)\"\"\"\n",
        "    header = [\"url\", \"title\", \"fulltext\"]\n",
        "\n",
        "    print(\"zapisuji do souboru {}\".format(output_csv_path))\n",
        "    with open(output_csv_path, 'w', encoding=\"utf-8\") as file:\n",
        "        writer = csv.writer(file)\n",
        "        writer.writerow(header)\n",
        "        for row in output:\n",
        "            if len(row[2]) != 0:\n",
        "                writer.writerow(row)\n",
        "\n",
        "def create_word_file(output, output_csv_path):\n",
        "    document = Document()\n",
        "    document.add_heading(f'články pro dnešní analýzu{str(datetime.now())[:16]}', 0)\n",
        "    count = 0\n",
        "    for url, title, fulltext in output:\n",
        "        if len(fulltext) != 0:\n",
        "          document.add_heading(title, level=1)\n",
        "          document.add_paragraph(fulltext).italic = True\n",
        "          document.add_paragraph(url).italic = True\n",
        "          count +=1\n",
        "    if count != 0:\n",
        "        document.save(f'{output_csv_path}.docx')\n",
        "    else:\n",
        "        print(\"Nic jsem nenasel.\")\n",
        "#\n",
        "\n",
        "if __name__ == \"__main__\":\n",
        "    exit(main())"
      ],
      "execution_count": null,
      "outputs": []
    },
    {
      "cell_type": "code",
      "metadata": {
        "id": "Ifuj0-dvBZZ_",
        "colab": {
          "base_uri": "https://localhost:8080/",
          "height": 349
        },
        "outputId": "c9c10383-2912-4538-e5b0-3fecc92f8a3a"
      },
      "source": [
        "# print(upravene[0])\n",
        "requests.get(\"about:reader?url=https://isport.blesk.cz/galerie/vip-sport/418492/online-pohreb-mariana-cisovskeho-louci-se-rodina-pratele-i-fanousci%3Ffoto%3D15\")"
      ],
      "execution_count": null,
      "outputs": [
        {
          "output_type": "error",
          "ename": "InvalidSchema",
          "evalue": "ignored",
          "traceback": [
            "\u001b[0;31m---------------------------------------------------------------------------\u001b[0m",
            "\u001b[0;31mInvalidSchema\u001b[0m                             Traceback (most recent call last)",
            "\u001b[0;32m<ipython-input-11-66fb269178d4>\u001b[0m in \u001b[0;36m<module>\u001b[0;34m()\u001b[0m\n\u001b[1;32m      1\u001b[0m \u001b[0;31m# print(upravene[0])\u001b[0m\u001b[0;34m\u001b[0m\u001b[0;34m\u001b[0m\u001b[0;34m\u001b[0m\u001b[0m\n\u001b[0;32m----> 2\u001b[0;31m \u001b[0mrequests\u001b[0m\u001b[0;34m.\u001b[0m\u001b[0mget\u001b[0m\u001b[0;34m(\u001b[0m\u001b[0;34m\"about:reader?url=https://isport.blesk.cz/galerie/vip-sport/418492/online-pohreb-mariana-cisovskeho-louci-se-rodina-pratele-i-fanousci%3Ffoto%3D15\"\u001b[0m\u001b[0;34m)\u001b[0m\u001b[0;34m\u001b[0m\u001b[0;34m\u001b[0m\u001b[0m\n\u001b[0m",
            "\u001b[0;32m/usr/local/lib/python3.6/dist-packages/requests/api.py\u001b[0m in \u001b[0;36mget\u001b[0;34m(url, params, **kwargs)\u001b[0m\n\u001b[1;32m     74\u001b[0m \u001b[0;34m\u001b[0m\u001b[0m\n\u001b[1;32m     75\u001b[0m     \u001b[0mkwargs\u001b[0m\u001b[0;34m.\u001b[0m\u001b[0msetdefault\u001b[0m\u001b[0;34m(\u001b[0m\u001b[0;34m'allow_redirects'\u001b[0m\u001b[0;34m,\u001b[0m \u001b[0;32mTrue\u001b[0m\u001b[0;34m)\u001b[0m\u001b[0;34m\u001b[0m\u001b[0;34m\u001b[0m\u001b[0m\n\u001b[0;32m---> 76\u001b[0;31m     \u001b[0;32mreturn\u001b[0m \u001b[0mrequest\u001b[0m\u001b[0;34m(\u001b[0m\u001b[0;34m'get'\u001b[0m\u001b[0;34m,\u001b[0m \u001b[0murl\u001b[0m\u001b[0;34m,\u001b[0m \u001b[0mparams\u001b[0m\u001b[0;34m=\u001b[0m\u001b[0mparams\u001b[0m\u001b[0;34m,\u001b[0m \u001b[0;34m**\u001b[0m\u001b[0mkwargs\u001b[0m\u001b[0;34m)\u001b[0m\u001b[0;34m\u001b[0m\u001b[0;34m\u001b[0m\u001b[0m\n\u001b[0m\u001b[1;32m     77\u001b[0m \u001b[0;34m\u001b[0m\u001b[0m\n\u001b[1;32m     78\u001b[0m \u001b[0;34m\u001b[0m\u001b[0m\n",
            "\u001b[0;32m/usr/local/lib/python3.6/dist-packages/requests/api.py\u001b[0m in \u001b[0;36mrequest\u001b[0;34m(method, url, **kwargs)\u001b[0m\n\u001b[1;32m     59\u001b[0m     \u001b[0;31m# cases, and look like a memory leak in others.\u001b[0m\u001b[0;34m\u001b[0m\u001b[0;34m\u001b[0m\u001b[0;34m\u001b[0m\u001b[0m\n\u001b[1;32m     60\u001b[0m     \u001b[0;32mwith\u001b[0m \u001b[0msessions\u001b[0m\u001b[0;34m.\u001b[0m\u001b[0mSession\u001b[0m\u001b[0;34m(\u001b[0m\u001b[0;34m)\u001b[0m \u001b[0;32mas\u001b[0m \u001b[0msession\u001b[0m\u001b[0;34m:\u001b[0m\u001b[0;34m\u001b[0m\u001b[0;34m\u001b[0m\u001b[0m\n\u001b[0;32m---> 61\u001b[0;31m         \u001b[0;32mreturn\u001b[0m \u001b[0msession\u001b[0m\u001b[0;34m.\u001b[0m\u001b[0mrequest\u001b[0m\u001b[0;34m(\u001b[0m\u001b[0mmethod\u001b[0m\u001b[0;34m=\u001b[0m\u001b[0mmethod\u001b[0m\u001b[0;34m,\u001b[0m \u001b[0murl\u001b[0m\u001b[0;34m=\u001b[0m\u001b[0murl\u001b[0m\u001b[0;34m,\u001b[0m \u001b[0;34m**\u001b[0m\u001b[0mkwargs\u001b[0m\u001b[0;34m)\u001b[0m\u001b[0;34m\u001b[0m\u001b[0;34m\u001b[0m\u001b[0m\n\u001b[0m\u001b[1;32m     62\u001b[0m \u001b[0;34m\u001b[0m\u001b[0m\n\u001b[1;32m     63\u001b[0m \u001b[0;34m\u001b[0m\u001b[0m\n",
            "\u001b[0;32m/usr/local/lib/python3.6/dist-packages/requests/sessions.py\u001b[0m in \u001b[0;36mrequest\u001b[0;34m(self, method, url, params, data, headers, cookies, files, auth, timeout, allow_redirects, proxies, hooks, stream, verify, cert, json)\u001b[0m\n\u001b[1;32m    528\u001b[0m         }\n\u001b[1;32m    529\u001b[0m         \u001b[0msend_kwargs\u001b[0m\u001b[0;34m.\u001b[0m\u001b[0mupdate\u001b[0m\u001b[0;34m(\u001b[0m\u001b[0msettings\u001b[0m\u001b[0;34m)\u001b[0m\u001b[0;34m\u001b[0m\u001b[0;34m\u001b[0m\u001b[0m\n\u001b[0;32m--> 530\u001b[0;31m         \u001b[0mresp\u001b[0m \u001b[0;34m=\u001b[0m \u001b[0mself\u001b[0m\u001b[0;34m.\u001b[0m\u001b[0msend\u001b[0m\u001b[0;34m(\u001b[0m\u001b[0mprep\u001b[0m\u001b[0;34m,\u001b[0m \u001b[0;34m**\u001b[0m\u001b[0msend_kwargs\u001b[0m\u001b[0;34m)\u001b[0m\u001b[0;34m\u001b[0m\u001b[0;34m\u001b[0m\u001b[0m\n\u001b[0m\u001b[1;32m    531\u001b[0m \u001b[0;34m\u001b[0m\u001b[0m\n\u001b[1;32m    532\u001b[0m         \u001b[0;32mreturn\u001b[0m \u001b[0mresp\u001b[0m\u001b[0;34m\u001b[0m\u001b[0;34m\u001b[0m\u001b[0m\n",
            "\u001b[0;32m/usr/local/lib/python3.6/dist-packages/requests/sessions.py\u001b[0m in \u001b[0;36msend\u001b[0;34m(self, request, **kwargs)\u001b[0m\n\u001b[1;32m    635\u001b[0m \u001b[0;34m\u001b[0m\u001b[0m\n\u001b[1;32m    636\u001b[0m         \u001b[0;31m# Get the appropriate adapter to use\u001b[0m\u001b[0;34m\u001b[0m\u001b[0;34m\u001b[0m\u001b[0;34m\u001b[0m\u001b[0m\n\u001b[0;32m--> 637\u001b[0;31m         \u001b[0madapter\u001b[0m \u001b[0;34m=\u001b[0m \u001b[0mself\u001b[0m\u001b[0;34m.\u001b[0m\u001b[0mget_adapter\u001b[0m\u001b[0;34m(\u001b[0m\u001b[0murl\u001b[0m\u001b[0;34m=\u001b[0m\u001b[0mrequest\u001b[0m\u001b[0;34m.\u001b[0m\u001b[0murl\u001b[0m\u001b[0;34m)\u001b[0m\u001b[0;34m\u001b[0m\u001b[0;34m\u001b[0m\u001b[0m\n\u001b[0m\u001b[1;32m    638\u001b[0m \u001b[0;34m\u001b[0m\u001b[0m\n\u001b[1;32m    639\u001b[0m         \u001b[0;31m# Start time (approximately) of the request\u001b[0m\u001b[0;34m\u001b[0m\u001b[0;34m\u001b[0m\u001b[0;34m\u001b[0m\u001b[0m\n",
            "\u001b[0;32m/usr/local/lib/python3.6/dist-packages/requests/sessions.py\u001b[0m in \u001b[0;36mget_adapter\u001b[0;34m(self, url)\u001b[0m\n\u001b[1;32m    726\u001b[0m \u001b[0;34m\u001b[0m\u001b[0m\n\u001b[1;32m    727\u001b[0m         \u001b[0;31m# Nothing matches :-/\u001b[0m\u001b[0;34m\u001b[0m\u001b[0;34m\u001b[0m\u001b[0;34m\u001b[0m\u001b[0m\n\u001b[0;32m--> 728\u001b[0;31m         \u001b[0;32mraise\u001b[0m \u001b[0mInvalidSchema\u001b[0m\u001b[0;34m(\u001b[0m\u001b[0;34m\"No connection adapters were found for {!r}\"\u001b[0m\u001b[0;34m.\u001b[0m\u001b[0mformat\u001b[0m\u001b[0;34m(\u001b[0m\u001b[0murl\u001b[0m\u001b[0;34m)\u001b[0m\u001b[0;34m)\u001b[0m\u001b[0;34m\u001b[0m\u001b[0;34m\u001b[0m\u001b[0m\n\u001b[0m\u001b[1;32m    729\u001b[0m \u001b[0;34m\u001b[0m\u001b[0m\n\u001b[1;32m    730\u001b[0m     \u001b[0;32mdef\u001b[0m \u001b[0mclose\u001b[0m\u001b[0;34m(\u001b[0m\u001b[0mself\u001b[0m\u001b[0;34m)\u001b[0m\u001b[0;34m:\u001b[0m\u001b[0;34m\u001b[0m\u001b[0;34m\u001b[0m\u001b[0m\n",
            "\u001b[0;31mInvalidSchema\u001b[0m: No connection adapters were found for 'about:reader?url=https://isport.blesk.cz/galerie/vip-sport/418492/online-pohreb-mariana-cisovskeho-louci-se-rodina-pratele-i-fanousci%3Ffoto%3D15'"
          ]
        }
      ]
    },
    {
      "cell_type": "code",
      "metadata": {
        "id": "wMGTS2bfPQhf"
      },
      "source": [
        "# reader mode! selenium and gecodriver."
      ],
      "execution_count": null,
      "outputs": []
    },
    {
      "cell_type": "code",
      "metadata": {
        "id": "BV1la1ZSPVN2"
      },
      "source": [
        "#text to pdf"
      ],
      "execution_count": null,
      "outputs": []
    },
    {
      "cell_type": "code",
      "metadata": {
        "id": "97P54sT6eTxY",
        "colab": {
          "base_uri": "https://localhost:8080/",
          "height": 228
        },
        "outputId": "a19009cd-2404-4383-c0af-be6088a6767a"
      },
      "source": [
        "!pip install python-docx"
      ],
      "execution_count": null,
      "outputs": [
        {
          "output_type": "stream",
          "text": [
            "Collecting python-docx\n",
            "\u001b[?25l  Downloading https://files.pythonhosted.org/packages/e4/83/c66a1934ed5ed8ab1dbb9931f1779079f8bca0f6bbc5793c06c4b5e7d671/python-docx-0.8.10.tar.gz (5.5MB)\n",
            "\u001b[K     |████████████████████████████████| 5.5MB 2.8MB/s \n",
            "\u001b[?25hRequirement already satisfied: lxml>=2.3.2 in /usr/local/lib/python3.6/dist-packages (from python-docx) (4.2.6)\n",
            "Building wheels for collected packages: python-docx\n",
            "  Building wheel for python-docx (setup.py) ... \u001b[?25l\u001b[?25hdone\n",
            "  Created wheel for python-docx: filename=python_docx-0.8.10-cp36-none-any.whl size=184491 sha256=b303951e932e069b93e7730c906eae56ba6fa6cef3098c5b8fe01d8660b625db\n",
            "  Stored in directory: /root/.cache/pip/wheels/18/0b/a0/1dd62ff812c857c9e487f27d80d53d2b40531bec1acecfa47b\n",
            "Successfully built python-docx\n",
            "Installing collected packages: python-docx\n",
            "Successfully installed python-docx-0.8.10\n"
          ],
          "name": "stdout"
        }
      ]
    },
    {
      "cell_type": "code",
      "metadata": {
        "id": "cgYM0YOuggEg"
      },
      "source": [
        "#Převod na word"
      ],
      "execution_count": null,
      "outputs": []
    },
    {
      "cell_type": "code",
      "metadata": {
        "id": "9ePi3nczd5kP"
      },
      "source": [
        "from docx import Document\n",
        "document = Document()\n",
        "document.add_heading('články pro dnešní analýzu', 0)\n",
        "for i in range(10):\n",
        "  document.add_heading('Nadpis článku', level=1)\n",
        "  document.add_paragraph('Premiér Andrej Babiš (ANO) se už v lednu přimlouval za aerolinky Smartwings v USA. Napsal tehdy vedení Boeingu, aby uznalo škodu za dva roky uzemněná letadla 737 MAX a dohodlo se na vyrovnání. Upozornila na to televize CNN Prima News. To by ale mohlo zkomplikovat možnost společnosti dosáhnout na státní pomoc, jejíž podmínkou je, že firma nebyla v existenčních problémech před 12. březnem. ', style='Intense Quote')\n",
        "document.save('demoI.docx')"
      ],
      "execution_count": null,
      "outputs": []
    },
    {
      "cell_type": "code",
      "metadata": {
        "id": "KrWpuFLpbbOQ",
        "colab": {
          "base_uri": "https://localhost:8080/",
          "height": 1000
        },
        "outputId": "f78e33dc-0aa7-4632-e5b2-ac9b08a77640"
      },
      "source": [
        "dir(pdf)"
      ],
      "execution_count": null,
      "outputs": [
        {
          "output_type": "execute_result",
          "data": {
            "text/plain": [
              "['__class__',\n",
              " '__delattr__',\n",
              " '__dict__',\n",
              " '__dir__',\n",
              " '__doc__',\n",
              " '__eq__',\n",
              " '__format__',\n",
              " '__ge__',\n",
              " '__getattribute__',\n",
              " '__gt__',\n",
              " '__hash__',\n",
              " '__init__',\n",
              " '__init_subclass__',\n",
              " '__le__',\n",
              " '__lt__',\n",
              " '__module__',\n",
              " '__ne__',\n",
              " '__new__',\n",
              " '__reduce__',\n",
              " '__reduce_ex__',\n",
              " '__repr__',\n",
              " '__setattr__',\n",
              " '__sizeof__',\n",
              " '__str__',\n",
              " '__subclasshook__',\n",
              " '__weakref__',\n",
              " '_beginpage',\n",
              " '_dochecks',\n",
              " '_dounderline',\n",
              " '_enddoc',\n",
              " '_endpage',\n",
              " '_escape',\n",
              " '_freadint',\n",
              " '_getfontpath',\n",
              " '_newobj',\n",
              " '_out',\n",
              " '_parsegif',\n",
              " '_parsejpg',\n",
              " '_parsepng',\n",
              " '_putTTfontwidths',\n",
              " '_putcatalog',\n",
              " '_putfonts',\n",
              " '_putheader',\n",
              " '_putimage',\n",
              " '_putimages',\n",
              " '_putinfo',\n",
              " '_putpages',\n",
              " '_putresourcedict',\n",
              " '_putresources',\n",
              " '_putstream',\n",
              " '_puttrailer',\n",
              " '_putxobjectdict',\n",
              " '_set_dash',\n",
              " '_textstring',\n",
              " 'accept_page_break',\n",
              " 'add_font',\n",
              " 'add_link',\n",
              " 'add_page',\n",
              " 'alias_nb_pages',\n",
              " 'angle',\n",
              " 'auto_page_break',\n",
              " 'b_margin',\n",
              " 'buffer',\n",
              " 'c_margin',\n",
              " 'cell',\n",
              " 'check_page',\n",
              " 'close',\n",
              " 'code39',\n",
              " 'color_flag',\n",
              " 'compress',\n",
              " 'core_fonts',\n",
              " 'cur_orientation',\n",
              " 'dashed_line',\n",
              " 'def_orientation',\n",
              " 'diffs',\n",
              " 'draw_color',\n",
              " 'ellipse',\n",
              " 'error',\n",
              " 'fh',\n",
              " 'fh_pt',\n",
              " 'fill_color',\n",
              " 'font_family',\n",
              " 'font_files',\n",
              " 'font_size_pt',\n",
              " 'font_style',\n",
              " 'fonts',\n",
              " 'footer',\n",
              " 'fw',\n",
              " 'fw_pt',\n",
              " 'get_string_width',\n",
              " 'get_x',\n",
              " 'get_y',\n",
              " 'h',\n",
              " 'h_pt',\n",
              " 'header',\n",
              " 'image',\n",
              " 'images',\n",
              " 'in_footer',\n",
              " 'interleaved2of5',\n",
              " 'k',\n",
              " 'l_margin',\n",
              " 'lasth',\n",
              " 'lastw',\n",
              " 'layout_mode',\n",
              " 'line',\n",
              " 'line_width',\n",
              " 'link',\n",
              " 'links',\n",
              " 'ln',\n",
              " 'multi_cell',\n",
              " 'n',\n",
              " 'normalize_text',\n",
              " 'offsets',\n",
              " 'open',\n",
              " 'orientation_changes',\n",
              " 'output',\n",
              " 'page',\n",
              " 'page_break_trigger',\n",
              " 'page_links',\n",
              " 'page_no',\n",
              " 'pages',\n",
              " 'pdf_version',\n",
              " 'r_margin',\n",
              " 'rect',\n",
              " 'rotate',\n",
              " 'set_author',\n",
              " 'set_auto_page_break',\n",
              " 'set_compression',\n",
              " 'set_creator',\n",
              " 'set_display_mode',\n",
              " 'set_draw_color',\n",
              " 'set_fill_color',\n",
              " 'set_font',\n",
              " 'set_font_size',\n",
              " 'set_keywords',\n",
              " 'set_left_margin',\n",
              " 'set_line_width',\n",
              " 'set_link',\n",
              " 'set_margins',\n",
              " 'set_right_margin',\n",
              " 'set_subject',\n",
              " 'set_text_color',\n",
              " 'set_title',\n",
              " 'set_top_margin',\n",
              " 'set_x',\n",
              " 'set_xy',\n",
              " 'set_y',\n",
              " 'state',\n",
              " 't_margin',\n",
              " 'text',\n",
              " 'text_color',\n",
              " 'underline',\n",
              " 'w',\n",
              " 'w_pt',\n",
              " 'write',\n",
              " 'ws',\n",
              " 'zoom_mode']"
            ]
          },
          "metadata": {
            "tags": []
          },
          "execution_count": 9
        }
      ]
    },
    {
      "cell_type": "code",
      "metadata": {
        "id": "5cvsrJ5KPCBb"
      },
      "source": [
        "from datetime import datetime"
      ],
      "execution_count": null,
      "outputs": []
    },
    {
      "cell_type": "code",
      "metadata": {
        "id": "ARoAkmi9Pr1N",
        "colab": {
          "base_uri": "https://localhost:8080/",
          "height": 35
        },
        "outputId": "b85756c7-8225-478a-f563-a013c1fb0fdb"
      },
      "source": [
        "str(datetime.now())[:16]"
      ],
      "execution_count": null,
      "outputs": [
        {
          "output_type": "execute_result",
          "data": {
            "application/vnd.google.colaboratory.intrinsic": {
              "type": "string"
            },
            "text/plain": [
              "'2020-07-05 09:29'"
            ]
          },
          "metadata": {
            "tags": []
          },
          "execution_count": 21
        }
      ]
    },
    {
      "cell_type": "code",
      "metadata": {
        "id": "yXGQ2b-MPFcq",
        "colab": {
          "base_uri": "https://localhost:8080/",
          "height": 312
        },
        "outputId": "2fe5076e-2005-4f0a-f70d-c62a70e64a3f"
      },
      "source": [
        "datetime.strptime(str(datetime.now()), '%m/%d/%y %H:%M:%S')"
      ],
      "execution_count": null,
      "outputs": [
        {
          "output_type": "error",
          "ename": "ValueError",
          "evalue": "ignored",
          "traceback": [
            "\u001b[0;31m---------------------------------------------------------------------------\u001b[0m",
            "\u001b[0;31mValueError\u001b[0m                                Traceback (most recent call last)",
            "\u001b[0;32m<ipython-input-9-f1d355ac327a>\u001b[0m in \u001b[0;36m<module>\u001b[0;34m()\u001b[0m\n\u001b[0;32m----> 1\u001b[0;31m \u001b[0mdatetime\u001b[0m\u001b[0;34m.\u001b[0m\u001b[0mstrptime\u001b[0m\u001b[0;34m(\u001b[0m\u001b[0mstr\u001b[0m\u001b[0;34m(\u001b[0m\u001b[0mdatetime\u001b[0m\u001b[0;34m.\u001b[0m\u001b[0mnow\u001b[0m\u001b[0;34m(\u001b[0m\u001b[0;34m)\u001b[0m\u001b[0;34m)\u001b[0m\u001b[0;34m,\u001b[0m \u001b[0;34m'%m/%d/%y %H:%M:%S'\u001b[0m\u001b[0;34m)\u001b[0m\u001b[0;34m\u001b[0m\u001b[0;34m\u001b[0m\u001b[0m\n\u001b[0m",
            "\u001b[0;32m/usr/lib/python3.6/_strptime.py\u001b[0m in \u001b[0;36m_strptime_datetime\u001b[0;34m(cls, data_string, format)\u001b[0m\n\u001b[1;32m    563\u001b[0m     \"\"\"Return a class cls instance based on the input string and the\n\u001b[1;32m    564\u001b[0m     format string.\"\"\"\n\u001b[0;32m--> 565\u001b[0;31m     \u001b[0mtt\u001b[0m\u001b[0;34m,\u001b[0m \u001b[0mfraction\u001b[0m \u001b[0;34m=\u001b[0m \u001b[0m_strptime\u001b[0m\u001b[0;34m(\u001b[0m\u001b[0mdata_string\u001b[0m\u001b[0;34m,\u001b[0m \u001b[0mformat\u001b[0m\u001b[0;34m)\u001b[0m\u001b[0;34m\u001b[0m\u001b[0;34m\u001b[0m\u001b[0m\n\u001b[0m\u001b[1;32m    566\u001b[0m     \u001b[0mtzname\u001b[0m\u001b[0;34m,\u001b[0m \u001b[0mgmtoff\u001b[0m \u001b[0;34m=\u001b[0m \u001b[0mtt\u001b[0m\u001b[0;34m[\u001b[0m\u001b[0;34m-\u001b[0m\u001b[0;36m2\u001b[0m\u001b[0;34m:\u001b[0m\u001b[0;34m]\u001b[0m\u001b[0;34m\u001b[0m\u001b[0;34m\u001b[0m\u001b[0m\n\u001b[1;32m    567\u001b[0m     \u001b[0margs\u001b[0m \u001b[0;34m=\u001b[0m \u001b[0mtt\u001b[0m\u001b[0;34m[\u001b[0m\u001b[0;34m:\u001b[0m\u001b[0;36m6\u001b[0m\u001b[0;34m]\u001b[0m \u001b[0;34m+\u001b[0m \u001b[0;34m(\u001b[0m\u001b[0mfraction\u001b[0m\u001b[0;34m,\u001b[0m\u001b[0;34m)\u001b[0m\u001b[0;34m\u001b[0m\u001b[0;34m\u001b[0m\u001b[0m\n",
            "\u001b[0;32m/usr/lib/python3.6/_strptime.py\u001b[0m in \u001b[0;36m_strptime\u001b[0;34m(data_string, format)\u001b[0m\n\u001b[1;32m    360\u001b[0m     \u001b[0;32mif\u001b[0m \u001b[0;32mnot\u001b[0m \u001b[0mfound\u001b[0m\u001b[0;34m:\u001b[0m\u001b[0;34m\u001b[0m\u001b[0;34m\u001b[0m\u001b[0m\n\u001b[1;32m    361\u001b[0m         raise ValueError(\"time data %r does not match format %r\" %\n\u001b[0;32m--> 362\u001b[0;31m                          (data_string, format))\n\u001b[0m\u001b[1;32m    363\u001b[0m     \u001b[0;32mif\u001b[0m \u001b[0mlen\u001b[0m\u001b[0;34m(\u001b[0m\u001b[0mdata_string\u001b[0m\u001b[0;34m)\u001b[0m \u001b[0;34m!=\u001b[0m \u001b[0mfound\u001b[0m\u001b[0;34m.\u001b[0m\u001b[0mend\u001b[0m\u001b[0;34m(\u001b[0m\u001b[0;34m)\u001b[0m\u001b[0;34m:\u001b[0m\u001b[0;34m\u001b[0m\u001b[0;34m\u001b[0m\u001b[0m\n\u001b[1;32m    364\u001b[0m         raise ValueError(\"unconverted data remains: %s\" %\n",
            "\u001b[0;31mValueError\u001b[0m: time data '2020-07-05 09:11:16.622341' does not match format '%m/%d/%y %H:%M:%S'"
          ]
        }
      ]
    },
    {
      "cell_type": "code",
      "metadata": {
        "id": "v8fU6a8QQVrs",
        "colab": {
          "base_uri": "https://localhost:8080/",
          "height": 694
        },
        "outputId": "0d0357b1-c36f-4b24-c96b-3e35c61a7bae"
      },
      "source": [
        "dir(document.add_paragraph())"
      ],
      "execution_count": null,
      "outputs": [
        {
          "output_type": "execute_result",
          "data": {
            "text/plain": [
              "['__class__',\n",
              " '__delattr__',\n",
              " '__dict__',\n",
              " '__dir__',\n",
              " '__doc__',\n",
              " '__eq__',\n",
              " '__format__',\n",
              " '__ge__',\n",
              " '__getattribute__',\n",
              " '__gt__',\n",
              " '__hash__',\n",
              " '__init__',\n",
              " '__init_subclass__',\n",
              " '__le__',\n",
              " '__lt__',\n",
              " '__module__',\n",
              " '__ne__',\n",
              " '__new__',\n",
              " '__reduce__',\n",
              " '__reduce_ex__',\n",
              " '__repr__',\n",
              " '__setattr__',\n",
              " '__sizeof__',\n",
              " '__str__',\n",
              " '__subclasshook__',\n",
              " '__weakref__',\n",
              " '_element',\n",
              " '_insert_paragraph_before',\n",
              " '_p',\n",
              " '_parent',\n",
              " 'add_run',\n",
              " 'alignment',\n",
              " 'clear',\n",
              " 'insert_paragraph_before',\n",
              " 'paragraph_format',\n",
              " 'part',\n",
              " 'runs',\n",
              " 'style',\n",
              " 'text']"
            ]
          },
          "metadata": {
            "tags": []
          },
          "execution_count": 18
        }
      ]
    },
    {
      "cell_type": "code",
      "metadata": {
        "id": "hKLwzGFr-4EN"
      },
      "source": [
        "import pandas as pd\n",
        "data = pd.read_csv(\"/content/2020-07-05 19:08_bitcoin\")"
      ],
      "execution_count": null,
      "outputs": []
    },
    {
      "cell_type": "code",
      "metadata": {
        "id": "xvpo0OV2_FQI",
        "colab": {
          "base_uri": "https://localhost:8080/",
          "height": 332
        },
        "outputId": "b2a0c42f-fc21-4166-8081-195664461847"
      },
      "source": [
        "data.groupby('name').count()"
      ],
      "execution_count": null,
      "outputs": [
        {
          "output_type": "execute_result",
          "data": {
            "text/html": [
              "<div>\n",
              "<style scoped>\n",
              "    .dataframe tbody tr th:only-of-type {\n",
              "        vertical-align: middle;\n",
              "    }\n",
              "\n",
              "    .dataframe tbody tr th {\n",
              "        vertical-align: top;\n",
              "    }\n",
              "\n",
              "    .dataframe thead th {\n",
              "        text-align: right;\n",
              "    }\n",
              "</style>\n",
              "<table border=\"1\" class=\"dataframe\">\n",
              "  <thead>\n",
              "    <tr style=\"text-align: right;\">\n",
              "      <th></th>\n",
              "      <th>url</th>\n",
              "      <th>title</th>\n",
              "      <th>fulltext</th>\n",
              "    </tr>\n",
              "    <tr>\n",
              "      <th>name</th>\n",
              "      <th></th>\n",
              "      <th></th>\n",
              "      <th></th>\n",
              "    </tr>\n",
              "  </thead>\n",
              "  <tbody>\n",
              "    <tr>\n",
              "      <th>btctip.cz</th>\n",
              "      <td>1</td>\n",
              "      <td>1</td>\n",
              "      <td>1</td>\n",
              "    </tr>\n",
              "    <tr>\n",
              "      <th>cryptosvet.cz</th>\n",
              "      <td>41</td>\n",
              "      <td>41</td>\n",
              "      <td>41</td>\n",
              "    </tr>\n",
              "    <tr>\n",
              "      <th>e15.cz</th>\n",
              "      <td>5</td>\n",
              "      <td>5</td>\n",
              "      <td>5</td>\n",
              "    </tr>\n",
              "    <tr>\n",
              "      <th>finex.cz</th>\n",
              "      <td>7</td>\n",
              "      <td>7</td>\n",
              "      <td>7</td>\n",
              "    </tr>\n",
              "    <tr>\n",
              "      <th>kurzy.cz</th>\n",
              "      <td>3</td>\n",
              "      <td>3</td>\n",
              "      <td>3</td>\n",
              "    </tr>\n",
              "    <tr>\n",
              "      <th>lupa.cz</th>\n",
              "      <td>1</td>\n",
              "      <td>1</td>\n",
              "      <td>1</td>\n",
              "    </tr>\n",
              "    <tr>\n",
              "      <th>novinky.cz</th>\n",
              "      <td>1</td>\n",
              "      <td>1</td>\n",
              "      <td>1</td>\n",
              "    </tr>\n",
              "    <tr>\n",
              "      <th>zive.cz</th>\n",
              "      <td>1</td>\n",
              "      <td>1</td>\n",
              "      <td>1</td>\n",
              "    </tr>\n",
              "  </tbody>\n",
              "</table>\n",
              "</div>"
            ],
            "text/plain": [
              "               url  title  fulltext\n",
              "name                               \n",
              "btctip.cz        1      1         1\n",
              "cryptosvet.cz   41     41        41\n",
              "e15.cz           5      5         5\n",
              "finex.cz         7      7         7\n",
              "kurzy.cz         3      3         3\n",
              "lupa.cz          1      1         1\n",
              "novinky.cz       1      1         1\n",
              "zive.cz          1      1         1"
            ]
          },
          "metadata": {
            "tags": []
          },
          "execution_count": 16
        }
      ]
    },
    {
      "cell_type": "markdown",
      "metadata": {
        "id": "nc1whfKqJZEV"
      },
      "source": [
        "#Umim stahovat videa z youtybe jako mp3 a pak je predelat na waw. Nasledne roseka a z jednotlivych casti ziskat text. "
      ]
    },
    {
      "cell_type": "code",
      "metadata": {
        "id": "8q7K8N5FGeFo",
        "colab": {
          "base_uri": "https://localhost:8080/",
          "height": 124
        },
        "outputId": "bfda4294-f085-4386-ea85-4ed4ee9e6f75"
      },
      "source": [
        "!pip install pytube3"
      ],
      "execution_count": null,
      "outputs": [
        {
          "output_type": "stream",
          "text": [
            "Collecting pytube3\n",
            "  Downloading https://files.pythonhosted.org/packages/de/86/198092763646eac7abd2063192ab44ea44ad8fd6d6f3ad8586b38afcd52a/pytube3-9.6.4-py3-none-any.whl\n",
            "Requirement already satisfied: typing-extensions in /usr/local/lib/python3.6/dist-packages (from pytube3) (3.6.6)\n",
            "Installing collected packages: pytube3\n",
            "Successfully installed pytube3-9.6.4\n"
          ],
          "name": "stdout"
        }
      ]
    },
    {
      "cell_type": "code",
      "metadata": {
        "id": "YRasT9snGhJD",
        "colab": {
          "base_uri": "https://localhost:8080/",
          "height": 35
        },
        "outputId": "0e10ed3d-d880-46e7-9b80-68b8432034e7"
      },
      "source": [
        "from pytube import YouTube\n",
        "video = YouTube('https://www.youtube.com/watch?v=E2PX6u4-oZw&t=279s')\n",
        "video.streams.filter(file_extension = \"mp4\").all()\n",
        "video.streams.get_by_itag(18).download()"
      ],
      "execution_count": null,
      "outputs": [
        {
          "output_type": "execute_result",
          "data": {
            "application/vnd.google.colaboratory.intrinsic": {
              "type": "string"
            },
            "text/plain": [
              "'/content/YouTube.mp4'"
            ]
          },
          "metadata": {
            "tags": []
          },
          "execution_count": 39
        }
      ]
    },
    {
      "cell_type": "code",
      "metadata": {
        "id": "FUHapSTsIk3i",
        "colab": {
          "base_uri": "https://localhost:8080/",
          "height": 124
        },
        "outputId": "3fa0825b-cf8c-44b4-fbdf-f3ae659786a9"
      },
      "source": [
        "!pip install youtube_dl"
      ],
      "execution_count": null,
      "outputs": [
        {
          "output_type": "stream",
          "text": [
            "Collecting youtube_dl\n",
            "\u001b[?25l  Downloading https://files.pythonhosted.org/packages/a4/5f/db1fb30596fbfabd3500e741cd9c73d0cb1d25387582fd21289bed05a9c2/youtube_dl-2020.6.16.1-py2.py3-none-any.whl (1.8MB)\n",
            "\u001b[K     |████████████████████████████████| 1.8MB 2.8MB/s \n",
            "\u001b[?25hInstalling collected packages: youtube-dl\n",
            "Successfully installed youtube-dl-2020.6.16.1\n"
          ],
          "name": "stdout"
        }
      ]
    },
    {
      "cell_type": "code",
      "metadata": {
        "id": "PGQ0Tu2vIMzW",
        "colab": {
          "base_uri": "https://localhost:8080/",
          "height": 399
        },
        "outputId": "8e7bf1f7-c4e6-4acd-f013-aaaf847574c7"
      },
      "source": [
        "from __future__ import unicode_literals\n",
        "import youtube_dl\n",
        "\n",
        "\n",
        "ydl_opts = {\n",
        "    'format': 'bestaudio/best',\n",
        "    'postprocessors': [{\n",
        "        'key': 'FFmpegExtractAudio',\n",
        "        'preferredcodec': 'mp3',\n",
        "        'preferredquality': '192',\n",
        "    }],\n",
        "}\n",
        "with youtube_dl.YoutubeDL(ydl_opts) as ydl:\n",
        "    ydl.download(['https://www.youtube.com/watch?v=E2PX6u4-oZw&t=279s'])"
      ],
      "execution_count": null,
      "outputs": [
        {
          "output_type": "stream",
          "text": [
            "[youtube] E2PX6u4-oZw: Downloading webpage\n",
            "[download] Destination: #62 - Co je Chainlink-E2PX6u4-oZw.webm\n",
            "[download] 100% of 16.82MiB in 00:00\n"
          ],
          "name": "stdout"
        },
        {
          "output_type": "error",
          "ename": "KeyError",
          "evalue": "ignored",
          "traceback": [
            "\u001b[0;31m---------------------------------------------------------------------------\u001b[0m",
            "\u001b[0;31mKeyError\u001b[0m                                  Traceback (most recent call last)",
            "\u001b[0;32m<ipython-input-45-b3a89d49ed42>\u001b[0m in \u001b[0;36m<module>\u001b[0;34m()\u001b[0m\n\u001b[1;32m     12\u001b[0m }\n\u001b[1;32m     13\u001b[0m \u001b[0;32mwith\u001b[0m \u001b[0myoutube_dl\u001b[0m\u001b[0;34m.\u001b[0m\u001b[0mYoutubeDL\u001b[0m\u001b[0;34m(\u001b[0m\u001b[0mydl_opts\u001b[0m\u001b[0;34m)\u001b[0m \u001b[0;32mas\u001b[0m \u001b[0mydl\u001b[0m\u001b[0;34m:\u001b[0m\u001b[0;34m\u001b[0m\u001b[0;34m\u001b[0m\u001b[0m\n\u001b[0;32m---> 14\u001b[0;31m     \u001b[0mydl\u001b[0m\u001b[0;34m.\u001b[0m\u001b[0mdownload\u001b[0m\u001b[0;34m(\u001b[0m\u001b[0;34m[\u001b[0m\u001b[0;34m'https://www.youtube.com/watch?v=E2PX6u4-oZw&t=279s'\u001b[0m\u001b[0;34m]\u001b[0m\u001b[0;34m)\u001b[0m\u001b[0;34m\u001b[0m\u001b[0;34m\u001b[0m\u001b[0m\n\u001b[0m",
            "\u001b[0;32m/usr/local/lib/python3.6/dist-packages/youtube_dl/YoutubeDL.py\u001b[0m in \u001b[0;36mdownload\u001b[0;34m(self, url_list)\u001b[0m\n\u001b[1;32m   2017\u001b[0m                 \u001b[0;31m# It also downloads the videos\u001b[0m\u001b[0;34m\u001b[0m\u001b[0;34m\u001b[0m\u001b[0;34m\u001b[0m\u001b[0m\n\u001b[1;32m   2018\u001b[0m                 res = self.extract_info(\n\u001b[0;32m-> 2019\u001b[0;31m                     url, force_generic_extractor=self.params.get('force_generic_extractor', False))\n\u001b[0m\u001b[1;32m   2020\u001b[0m             \u001b[0;32mexcept\u001b[0m \u001b[0mUnavailableVideoError\u001b[0m\u001b[0;34m:\u001b[0m\u001b[0;34m\u001b[0m\u001b[0;34m\u001b[0m\u001b[0m\n\u001b[1;32m   2021\u001b[0m                 \u001b[0mself\u001b[0m\u001b[0;34m.\u001b[0m\u001b[0mreport_error\u001b[0m\u001b[0;34m(\u001b[0m\u001b[0;34m'unable to download video'\u001b[0m\u001b[0;34m)\u001b[0m\u001b[0;34m\u001b[0m\u001b[0;34m\u001b[0m\u001b[0m\n",
            "\u001b[0;32m/usr/local/lib/python3.6/dist-packages/youtube_dl/YoutubeDL.py\u001b[0m in \u001b[0;36mextract_info\u001b[0;34m(self, url, download, ie_key, extra_info, process, force_generic_extractor)\u001b[0m\n\u001b[1;32m    806\u001b[0m                 \u001b[0mself\u001b[0m\u001b[0;34m.\u001b[0m\u001b[0madd_default_extra_info\u001b[0m\u001b[0;34m(\u001b[0m\u001b[0mie_result\u001b[0m\u001b[0;34m,\u001b[0m \u001b[0mie\u001b[0m\u001b[0;34m,\u001b[0m \u001b[0murl\u001b[0m\u001b[0;34m)\u001b[0m\u001b[0;34m\u001b[0m\u001b[0;34m\u001b[0m\u001b[0m\n\u001b[1;32m    807\u001b[0m                 \u001b[0;32mif\u001b[0m \u001b[0mprocess\u001b[0m\u001b[0;34m:\u001b[0m\u001b[0;34m\u001b[0m\u001b[0;34m\u001b[0m\u001b[0m\n\u001b[0;32m--> 808\u001b[0;31m                     \u001b[0;32mreturn\u001b[0m \u001b[0mself\u001b[0m\u001b[0;34m.\u001b[0m\u001b[0mprocess_ie_result\u001b[0m\u001b[0;34m(\u001b[0m\u001b[0mie_result\u001b[0m\u001b[0;34m,\u001b[0m \u001b[0mdownload\u001b[0m\u001b[0;34m,\u001b[0m \u001b[0mextra_info\u001b[0m\u001b[0;34m)\u001b[0m\u001b[0;34m\u001b[0m\u001b[0;34m\u001b[0m\u001b[0m\n\u001b[0m\u001b[1;32m    809\u001b[0m                 \u001b[0;32melse\u001b[0m\u001b[0;34m:\u001b[0m\u001b[0;34m\u001b[0m\u001b[0;34m\u001b[0m\u001b[0m\n\u001b[1;32m    810\u001b[0m                     \u001b[0;32mreturn\u001b[0m \u001b[0mie_result\u001b[0m\u001b[0;34m\u001b[0m\u001b[0;34m\u001b[0m\u001b[0m\n",
            "\u001b[0;32m/usr/local/lib/python3.6/dist-packages/youtube_dl/YoutubeDL.py\u001b[0m in \u001b[0;36mprocess_ie_result\u001b[0;34m(self, ie_result, download, extra_info)\u001b[0m\n\u001b[1;32m    861\u001b[0m         \u001b[0;32mif\u001b[0m \u001b[0mresult_type\u001b[0m \u001b[0;34m==\u001b[0m \u001b[0;34m'video'\u001b[0m\u001b[0;34m:\u001b[0m\u001b[0;34m\u001b[0m\u001b[0;34m\u001b[0m\u001b[0m\n\u001b[1;32m    862\u001b[0m             \u001b[0mself\u001b[0m\u001b[0;34m.\u001b[0m\u001b[0madd_extra_info\u001b[0m\u001b[0;34m(\u001b[0m\u001b[0mie_result\u001b[0m\u001b[0;34m,\u001b[0m \u001b[0mextra_info\u001b[0m\u001b[0;34m)\u001b[0m\u001b[0;34m\u001b[0m\u001b[0;34m\u001b[0m\u001b[0m\n\u001b[0;32m--> 863\u001b[0;31m             \u001b[0;32mreturn\u001b[0m \u001b[0mself\u001b[0m\u001b[0;34m.\u001b[0m\u001b[0mprocess_video_result\u001b[0m\u001b[0;34m(\u001b[0m\u001b[0mie_result\u001b[0m\u001b[0;34m,\u001b[0m \u001b[0mdownload\u001b[0m\u001b[0;34m=\u001b[0m\u001b[0mdownload\u001b[0m\u001b[0;34m)\u001b[0m\u001b[0;34m\u001b[0m\u001b[0;34m\u001b[0m\u001b[0m\n\u001b[0m\u001b[1;32m    864\u001b[0m         \u001b[0;32melif\u001b[0m \u001b[0mresult_type\u001b[0m \u001b[0;34m==\u001b[0m \u001b[0;34m'url'\u001b[0m\u001b[0;34m:\u001b[0m\u001b[0;34m\u001b[0m\u001b[0;34m\u001b[0m\u001b[0m\n\u001b[1;32m    865\u001b[0m             \u001b[0;31m# We have to add extra_info to the results because it may be\u001b[0m\u001b[0;34m\u001b[0m\u001b[0;34m\u001b[0m\u001b[0;34m\u001b[0m\u001b[0m\n",
            "\u001b[0;32m/usr/local/lib/python3.6/dist-packages/youtube_dl/YoutubeDL.py\u001b[0m in \u001b[0;36mprocess_video_result\u001b[0;34m(self, info_dict, download)\u001b[0m\n\u001b[1;32m   1642\u001b[0m                 \u001b[0mnew_info\u001b[0m \u001b[0;34m=\u001b[0m \u001b[0mdict\u001b[0m\u001b[0;34m(\u001b[0m\u001b[0minfo_dict\u001b[0m\u001b[0;34m)\u001b[0m\u001b[0;34m\u001b[0m\u001b[0;34m\u001b[0m\u001b[0m\n\u001b[1;32m   1643\u001b[0m                 \u001b[0mnew_info\u001b[0m\u001b[0;34m.\u001b[0m\u001b[0mupdate\u001b[0m\u001b[0;34m(\u001b[0m\u001b[0mformat\u001b[0m\u001b[0;34m)\u001b[0m\u001b[0;34m\u001b[0m\u001b[0;34m\u001b[0m\u001b[0m\n\u001b[0;32m-> 1644\u001b[0;31m                 \u001b[0mself\u001b[0m\u001b[0;34m.\u001b[0m\u001b[0mprocess_info\u001b[0m\u001b[0;34m(\u001b[0m\u001b[0mnew_info\u001b[0m\u001b[0;34m)\u001b[0m\u001b[0;34m\u001b[0m\u001b[0;34m\u001b[0m\u001b[0m\n\u001b[0m\u001b[1;32m   1645\u001b[0m         \u001b[0;31m# We update the info dict with the best quality format (backwards compatibility)\u001b[0m\u001b[0;34m\u001b[0m\u001b[0;34m\u001b[0m\u001b[0;34m\u001b[0m\u001b[0m\n\u001b[1;32m   1646\u001b[0m         \u001b[0minfo_dict\u001b[0m\u001b[0;34m.\u001b[0m\u001b[0mupdate\u001b[0m\u001b[0;34m(\u001b[0m\u001b[0mformats_to_download\u001b[0m\u001b[0;34m[\u001b[0m\u001b[0;34m-\u001b[0m\u001b[0;36m1\u001b[0m\u001b[0;34m]\u001b[0m\u001b[0;34m)\u001b[0m\u001b[0;34m\u001b[0m\u001b[0;34m\u001b[0m\u001b[0m\n",
            "\u001b[0;32m/usr/local/lib/python3.6/dist-packages/youtube_dl/YoutubeDL.py\u001b[0m in \u001b[0;36mprocess_info\u001b[0;34m(self, info_dict)\u001b[0m\n\u001b[1;32m   1998\u001b[0m \u001b[0;34m\u001b[0m\u001b[0m\n\u001b[1;32m   1999\u001b[0m                 \u001b[0;32mtry\u001b[0m\u001b[0;34m:\u001b[0m\u001b[0;34m\u001b[0m\u001b[0;34m\u001b[0m\u001b[0m\n\u001b[0;32m-> 2000\u001b[0;31m                     \u001b[0mself\u001b[0m\u001b[0;34m.\u001b[0m\u001b[0mpost_process\u001b[0m\u001b[0;34m(\u001b[0m\u001b[0mfilename\u001b[0m\u001b[0;34m,\u001b[0m \u001b[0minfo_dict\u001b[0m\u001b[0;34m)\u001b[0m\u001b[0;34m\u001b[0m\u001b[0;34m\u001b[0m\u001b[0m\n\u001b[0m\u001b[1;32m   2001\u001b[0m                 \u001b[0;32mexcept\u001b[0m \u001b[0;34m(\u001b[0m\u001b[0mPostProcessingError\u001b[0m\u001b[0;34m)\u001b[0m \u001b[0;32mas\u001b[0m \u001b[0merr\u001b[0m\u001b[0;34m:\u001b[0m\u001b[0;34m\u001b[0m\u001b[0;34m\u001b[0m\u001b[0m\n\u001b[1;32m   2002\u001b[0m                     \u001b[0mself\u001b[0m\u001b[0;34m.\u001b[0m\u001b[0mreport_error\u001b[0m\u001b[0;34m(\u001b[0m\u001b[0;34m'postprocessing: %s'\u001b[0m \u001b[0;34m%\u001b[0m \u001b[0mstr\u001b[0m\u001b[0;34m(\u001b[0m\u001b[0merr\u001b[0m\u001b[0;34m)\u001b[0m\u001b[0;34m)\u001b[0m\u001b[0;34m\u001b[0m\u001b[0;34m\u001b[0m\u001b[0m\n",
            "\u001b[0;32m/usr/local/lib/python3.6/dist-packages/youtube_dl/YoutubeDL.py\u001b[0m in \u001b[0;36mpost_process\u001b[0;34m(self, filename, ie_info)\u001b[0m\n\u001b[1;32m   2063\u001b[0m             \u001b[0mfiles_to_delete\u001b[0m \u001b[0;34m=\u001b[0m \u001b[0;34m[\u001b[0m\u001b[0;34m]\u001b[0m\u001b[0;34m\u001b[0m\u001b[0;34m\u001b[0m\u001b[0m\n\u001b[1;32m   2064\u001b[0m             \u001b[0;32mtry\u001b[0m\u001b[0;34m:\u001b[0m\u001b[0;34m\u001b[0m\u001b[0;34m\u001b[0m\u001b[0m\n\u001b[0;32m-> 2065\u001b[0;31m                 \u001b[0mfiles_to_delete\u001b[0m\u001b[0;34m,\u001b[0m \u001b[0minfo\u001b[0m \u001b[0;34m=\u001b[0m \u001b[0mpp\u001b[0m\u001b[0;34m.\u001b[0m\u001b[0mrun\u001b[0m\u001b[0;34m(\u001b[0m\u001b[0minfo\u001b[0m\u001b[0;34m)\u001b[0m\u001b[0;34m\u001b[0m\u001b[0;34m\u001b[0m\u001b[0m\n\u001b[0m\u001b[1;32m   2066\u001b[0m             \u001b[0;32mexcept\u001b[0m \u001b[0mPostProcessingError\u001b[0m \u001b[0;32mas\u001b[0m \u001b[0me\u001b[0m\u001b[0;34m:\u001b[0m\u001b[0;34m\u001b[0m\u001b[0;34m\u001b[0m\u001b[0m\n\u001b[1;32m   2067\u001b[0m                 \u001b[0mself\u001b[0m\u001b[0;34m.\u001b[0m\u001b[0mreport_error\u001b[0m\u001b[0;34m(\u001b[0m\u001b[0me\u001b[0m\u001b[0;34m.\u001b[0m\u001b[0mmsg\u001b[0m\u001b[0;34m)\u001b[0m\u001b[0;34m\u001b[0m\u001b[0;34m\u001b[0m\u001b[0m\n",
            "\u001b[0;32m/usr/local/lib/python3.6/dist-packages/youtube_dl/postprocessor/ffmpeg.py\u001b[0m in \u001b[0;36mrun\u001b[0;34m(self, information)\u001b[0m\n\u001b[1;32m    301\u001b[0m         \u001b[0;32melse\u001b[0m\u001b[0;34m:\u001b[0m\u001b[0;34m\u001b[0m\u001b[0;34m\u001b[0m\u001b[0m\n\u001b[1;32m    302\u001b[0m             \u001b[0;31m# We convert the audio (lossy if codec is lossy)\u001b[0m\u001b[0;34m\u001b[0m\u001b[0;34m\u001b[0m\u001b[0;34m\u001b[0m\u001b[0m\n\u001b[0;32m--> 303\u001b[0;31m             \u001b[0macodec\u001b[0m \u001b[0;34m=\u001b[0m \u001b[0mACODECS\u001b[0m\u001b[0;34m[\u001b[0m\u001b[0mself\u001b[0m\u001b[0;34m.\u001b[0m\u001b[0m_preferredcodec\u001b[0m\u001b[0;34m]\u001b[0m\u001b[0;34m\u001b[0m\u001b[0;34m\u001b[0m\u001b[0m\n\u001b[0m\u001b[1;32m    304\u001b[0m             \u001b[0mextension\u001b[0m \u001b[0;34m=\u001b[0m \u001b[0mself\u001b[0m\u001b[0;34m.\u001b[0m\u001b[0m_preferredcodec\u001b[0m\u001b[0;34m\u001b[0m\u001b[0;34m\u001b[0m\u001b[0m\n\u001b[1;32m    305\u001b[0m             \u001b[0mmore_opts\u001b[0m \u001b[0;34m=\u001b[0m \u001b[0;34m[\u001b[0m\u001b[0;34m]\u001b[0m\u001b[0;34m\u001b[0m\u001b[0;34m\u001b[0m\u001b[0m\n",
            "\u001b[0;31mKeyError\u001b[0m: 'waw'"
          ]
        }
      ]
    },
    {
      "cell_type": "code",
      "metadata": {
        "id": "MJfkOI1o_l3H"
      },
      "source": [
        "import requests\n",
        "chunk_size = 256\n",
        "\n",
        "# url = \"https://xtv.cz/s/stream/video/96f5de1_frei_nz_xtv.mp4?hd\"\n",
        "url = \"https://www.youtube.com/watch?v=E2PX6u4-oZw&t=279s\"\n",
        "r = requests.get(url, stream = True)\n",
        "\n",
        "with open(\"youtube.mp4\", \"wb\") as f:\n",
        "  for chunk in r.iter_content(chunk_size=chunk_size):\n",
        "    f.write(chunk)"
      ],
      "execution_count": null,
      "outputs": []
    },
    {
      "cell_type": "code",
      "metadata": {
        "id": "1NFKB43xtb-l",
        "colab": {
          "base_uri": "https://localhost:8080/",
          "height": 141
        },
        "outputId": "87e51c9e-48c2-4b2c-8177-89af331ae373"
      },
      "source": [
        "!pip install moviepy"
      ],
      "execution_count": null,
      "outputs": [
        {
          "output_type": "stream",
          "text": [
            "Requirement already satisfied: moviepy in /usr/local/lib/python3.6/dist-packages (0.2.3.5)\n",
            "Requirement already satisfied: decorator<5.0,>=4.0.2 in /usr/local/lib/python3.6/dist-packages (from moviepy) (4.4.2)\n",
            "Requirement already satisfied: tqdm<5.0,>=4.11.2 in /usr/local/lib/python3.6/dist-packages (from moviepy) (4.41.1)\n",
            "Requirement already satisfied: imageio<3.0,>=2.1.2 in /usr/local/lib/python3.6/dist-packages (from moviepy) (2.4.1)\n",
            "Requirement already satisfied: numpy in /usr/local/lib/python3.6/dist-packages (from moviepy) (1.18.5)\n",
            "Requirement already satisfied: pillow in /usr/local/lib/python3.6/dist-packages (from imageio<3.0,>=2.1.2->moviepy) (7.0.0)\n"
          ],
          "name": "stdout"
        }
      ]
    },
    {
      "cell_type": "code",
      "metadata": {
        "id": "jlDYTIYrtalf",
        "colab": {
          "base_uri": "https://localhost:8080/",
          "height": 488
        },
        "outputId": "6f6527a3-35de-4e25-bed5-774f80dd0702"
      },
      "source": [
        "import sys\n",
        "from moviepy.editor import *\n",
        "\n",
        "video = VideoFileClip(\"/content/YouTube.mp4\") # 2.\n",
        "audio = video.audio # 3.\n",
        "audio.write_audiofile(\"new.waw\") # 4."
      ],
      "execution_count": null,
      "outputs": [
        {
          "output_type": "error",
          "ename": "ValueError",
          "evalue": "ignored",
          "traceback": [
            "\u001b[0;31m---------------------------------------------------------------------------\u001b[0m",
            "\u001b[0;31mKeyError\u001b[0m                                  Traceback (most recent call last)",
            "\u001b[0;32m/usr/local/lib/python3.6/dist-packages/moviepy/audio/AudioClip.py\u001b[0m in \u001b[0;36mwrite_audiofile\u001b[0;34m(self, filename, fps, nbytes, buffersize, codec, bitrate, ffmpeg_params, write_logfile, verbose, progress_bar)\u001b[0m\n\u001b[1;32m    202\u001b[0m             \u001b[0;32mtry\u001b[0m\u001b[0;34m:\u001b[0m\u001b[0;34m\u001b[0m\u001b[0;34m\u001b[0m\u001b[0m\n\u001b[0;32m--> 203\u001b[0;31m                 \u001b[0mcodec\u001b[0m \u001b[0;34m=\u001b[0m \u001b[0mextensions_dict\u001b[0m\u001b[0;34m[\u001b[0m\u001b[0mext\u001b[0m\u001b[0;34m[\u001b[0m\u001b[0;36m1\u001b[0m\u001b[0;34m:\u001b[0m\u001b[0;34m]\u001b[0m\u001b[0;34m]\u001b[0m\u001b[0;34m[\u001b[0m\u001b[0;34m'codec'\u001b[0m\u001b[0;34m]\u001b[0m\u001b[0;34m[\u001b[0m\u001b[0;36m0\u001b[0m\u001b[0;34m]\u001b[0m\u001b[0;34m\u001b[0m\u001b[0;34m\u001b[0m\u001b[0m\n\u001b[0m\u001b[1;32m    204\u001b[0m             \u001b[0;32mexcept\u001b[0m \u001b[0mKeyError\u001b[0m\u001b[0;34m:\u001b[0m\u001b[0;34m\u001b[0m\u001b[0;34m\u001b[0m\u001b[0m\n",
            "\u001b[0;31mKeyError\u001b[0m: 'waw'",
            "\nDuring handling of the above exception, another exception occurred:\n",
            "\u001b[0;31mValueError\u001b[0m                                Traceback (most recent call last)",
            "\u001b[0;32m<ipython-input-33-3ebd18f4f327>\u001b[0m in \u001b[0;36m<module>\u001b[0;34m()\u001b[0m\n\u001b[1;32m      4\u001b[0m \u001b[0mvideo\u001b[0m \u001b[0;34m=\u001b[0m \u001b[0mVideoFileClip\u001b[0m\u001b[0;34m(\u001b[0m\u001b[0;34m\"/content/YouTube.mp4\"\u001b[0m\u001b[0;34m)\u001b[0m \u001b[0;31m# 2.\u001b[0m\u001b[0;34m\u001b[0m\u001b[0;34m\u001b[0m\u001b[0m\n\u001b[1;32m      5\u001b[0m \u001b[0maudio\u001b[0m \u001b[0;34m=\u001b[0m \u001b[0mvideo\u001b[0m\u001b[0;34m.\u001b[0m\u001b[0maudio\u001b[0m \u001b[0;31m# 3.\u001b[0m\u001b[0;34m\u001b[0m\u001b[0;34m\u001b[0m\u001b[0m\n\u001b[0;32m----> 6\u001b[0;31m \u001b[0maudio\u001b[0m\u001b[0;34m.\u001b[0m\u001b[0mwrite_audiofile\u001b[0m\u001b[0;34m(\u001b[0m\u001b[0;34m\"new.waw\"\u001b[0m\u001b[0;34m)\u001b[0m \u001b[0;31m# 4.\u001b[0m\u001b[0;34m\u001b[0m\u001b[0;34m\u001b[0m\u001b[0m\n\u001b[0m",
            "\u001b[0;32m<decorator-gen-195>\u001b[0m in \u001b[0;36mwrite_audiofile\u001b[0;34m(self, filename, fps, nbytes, buffersize, codec, bitrate, ffmpeg_params, write_logfile, verbose, progress_bar)\u001b[0m\n",
            "\u001b[0;32m/usr/local/lib/python3.6/dist-packages/moviepy/decorators.py\u001b[0m in \u001b[0;36mrequires_duration\u001b[0;34m(f, clip, *a, **k)\u001b[0m\n\u001b[1;32m     52\u001b[0m         \u001b[0;32mraise\u001b[0m \u001b[0mValueError\u001b[0m\u001b[0;34m(\u001b[0m\u001b[0;34m\"Attribute 'duration' not set\"\u001b[0m\u001b[0;34m)\u001b[0m\u001b[0;34m\u001b[0m\u001b[0;34m\u001b[0m\u001b[0m\n\u001b[1;32m     53\u001b[0m     \u001b[0;32melse\u001b[0m\u001b[0;34m:\u001b[0m\u001b[0;34m\u001b[0m\u001b[0;34m\u001b[0m\u001b[0m\n\u001b[0;32m---> 54\u001b[0;31m         \u001b[0;32mreturn\u001b[0m \u001b[0mf\u001b[0m\u001b[0;34m(\u001b[0m\u001b[0mclip\u001b[0m\u001b[0;34m,\u001b[0m \u001b[0;34m*\u001b[0m\u001b[0ma\u001b[0m\u001b[0;34m,\u001b[0m \u001b[0;34m**\u001b[0m\u001b[0mk\u001b[0m\u001b[0;34m)\u001b[0m\u001b[0;34m\u001b[0m\u001b[0;34m\u001b[0m\u001b[0m\n\u001b[0m\u001b[1;32m     55\u001b[0m \u001b[0;34m\u001b[0m\u001b[0m\n\u001b[1;32m     56\u001b[0m \u001b[0;34m\u001b[0m\u001b[0m\n",
            "\u001b[0;32m/usr/local/lib/python3.6/dist-packages/moviepy/audio/AudioClip.py\u001b[0m in \u001b[0;36mwrite_audiofile\u001b[0;34m(self, filename, fps, nbytes, buffersize, codec, bitrate, ffmpeg_params, write_logfile, verbose, progress_bar)\u001b[0m\n\u001b[1;32m    203\u001b[0m                 \u001b[0mcodec\u001b[0m \u001b[0;34m=\u001b[0m \u001b[0mextensions_dict\u001b[0m\u001b[0;34m[\u001b[0m\u001b[0mext\u001b[0m\u001b[0;34m[\u001b[0m\u001b[0;36m1\u001b[0m\u001b[0;34m:\u001b[0m\u001b[0;34m]\u001b[0m\u001b[0;34m]\u001b[0m\u001b[0;34m[\u001b[0m\u001b[0;34m'codec'\u001b[0m\u001b[0;34m]\u001b[0m\u001b[0;34m[\u001b[0m\u001b[0;36m0\u001b[0m\u001b[0;34m]\u001b[0m\u001b[0;34m\u001b[0m\u001b[0;34m\u001b[0m\u001b[0m\n\u001b[1;32m    204\u001b[0m             \u001b[0;32mexcept\u001b[0m \u001b[0mKeyError\u001b[0m\u001b[0;34m:\u001b[0m\u001b[0;34m\u001b[0m\u001b[0;34m\u001b[0m\u001b[0m\n\u001b[0;32m--> 205\u001b[0;31m                 raise ValueError(\"MoviePy couldn't find the codec associated \"\n\u001b[0m\u001b[1;32m    206\u001b[0m                                  \u001b[0;34m\"with the filename. Provide the 'codec' \"\u001b[0m\u001b[0;34m\u001b[0m\u001b[0;34m\u001b[0m\u001b[0m\n\u001b[1;32m    207\u001b[0m                                  \"parameter in write_audiofile.\")\n",
            "\u001b[0;31mValueError\u001b[0m: MoviePy couldn't find the codec associated with the filename. Provide the 'codec' parameter in write_audiofile."
          ]
        }
      ]
    },
    {
      "cell_type": "code",
      "metadata": {
        "id": "-ZozF8ybvxZG",
        "colab": {
          "base_uri": "https://localhost:8080/",
          "height": 34
        },
        "outputId": "8359cd80-b240-4e3a-9a4f-ce10f5df95de"
      },
      "source": [
        "!pip install pydub"
      ],
      "execution_count": null,
      "outputs": [
        {
          "output_type": "stream",
          "text": [
            "Requirement already satisfied: pydub in /usr/local/lib/python3.6/dist-packages (0.24.1)\n"
          ],
          "name": "stdout"
        }
      ]
    },
    {
      "cell_type": "code",
      "metadata": {
        "id": "UiPsCMnov02_",
        "colab": {
          "base_uri": "https://localhost:8080/",
          "height": 34
        },
        "outputId": "0b4b1667-0fa3-40f2-8960-705f6021e667"
      },
      "source": [
        "from os import path\n",
        "from pydub import AudioSegment\n",
        "\n",
        "# files                                                                         \n",
        "src = \"/content/#62 - Co je Chainlink-E2PX6u4-oZw.mp3\"\n",
        "dst = \"YouTubeop.waw\"\n",
        "\n",
        "# convert wav to mp3                                                            \n",
        "sound = AudioSegment.from_mp3(src)\n",
        "sound.export(dst, format=\"wav\")"
      ],
      "execution_count": null,
      "outputs": [
        {
          "output_type": "execute_result",
          "data": {
            "text/plain": [
              "<_io.BufferedRandom name='YouTubeop.waw'>"
            ]
          },
          "metadata": {
            "tags": []
          },
          "execution_count": 42
        }
      ]
    },
    {
      "cell_type": "code",
      "metadata": {
        "id": "tqJWKyJ4u4wb",
        "colab": {
          "base_uri": "https://localhost:8080/",
          "height": 159
        },
        "outputId": "ef513dee-48c3-42e7-e743-fd768cc65515"
      },
      "source": [
        "!pip3 install SpeechRecognition pydub"
      ],
      "execution_count": null,
      "outputs": [
        {
          "output_type": "stream",
          "text": [
            "Collecting SpeechRecognition\n",
            "\u001b[?25l  Downloading https://files.pythonhosted.org/packages/26/e1/7f5678cd94ec1234269d23756dbdaa4c8cfaed973412f88ae8adf7893a50/SpeechRecognition-3.8.1-py2.py3-none-any.whl (32.8MB)\n",
            "\u001b[K     |████████████████████████████████| 32.8MB 111kB/s \n",
            "\u001b[?25hCollecting pydub\n",
            "  Downloading https://files.pythonhosted.org/packages/7b/d1/fbfa79371a8cd9bb15c2e3c480d7e6e340ed5cc55005174e16f48418333a/pydub-0.24.1-py2.py3-none-any.whl\n",
            "Installing collected packages: SpeechRecognition, pydub\n",
            "Successfully installed SpeechRecognition-3.8.1 pydub-0.24.1\n"
          ],
          "name": "stdout"
        }
      ]
    },
    {
      "cell_type": "code",
      "metadata": {
        "id": "OKb2gWR-xyzp",
        "colab": {
          "base_uri": "https://localhost:8080/",
          "height": 34
        },
        "outputId": "9e555ab8-5160-4790-d50e-925911d42fc4"
      },
      "source": [
        "from pydub import AudioSegment\n",
        "t1 = 100 * 1000 #Works in milliseconds\n",
        "t2 = 110 * 1000\n",
        "newAudio = AudioSegment.from_wav(\"/content/YouTubeop.waw\")\n",
        "newAudio = newAudio[t1:t2]\n",
        "newAudio.export('youtube_pokus.wav', format=\"wav\")"
      ],
      "execution_count": null,
      "outputs": [
        {
          "output_type": "execute_result",
          "data": {
            "text/plain": [
              "<_io.BufferedRandom name='youtube_pokus.wav'>"
            ]
          },
          "metadata": {
            "tags": []
          },
          "execution_count": 43
        }
      ]
    },
    {
      "cell_type": "code",
      "metadata": {
        "id": "AsTvoRd9u2ji",
        "colab": {
          "base_uri": "https://localhost:8080/",
          "height": 54
        },
        "outputId": "bf3d9e23-8812-4408-b5cb-9c1ecf598f2c"
      },
      "source": [
        "import speech_recognition as sr\n",
        "filename = \"/content/youtube_pokus.wav\"\n",
        "r = sr.Recognizer()\n",
        "with sr.AudioFile(filename) as source:\n",
        "    # listen for the data (load audio to memory)\n",
        "    audio_data = r.record(source)\n",
        "    # recognize (convert from speech to text)\n",
        "    text = r.recognize_google(audio_data, language=\"cs-CZ\")\n",
        "    print(text)"
      ],
      "execution_count": null,
      "outputs": [
        {
          "output_type": "stream",
          "text": [
            "respektive jeho graf ve vztahu k Bitcoinu to vypadá Dle mého názoru docela dobře nebo ne čím to je Hele já si myslím že částečně určitě tím že už\n"
          ],
          "name": "stdout"
        }
      ]
    }
  ]
}