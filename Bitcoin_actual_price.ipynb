{
  "nbformat": 4,
  "nbformat_minor": 0,
  "metadata": {
    "colab": {
      "name": "Bitcoin_actual_price.ipynb",
      "provenance": [],
      "authorship_tag": "ABX9TyMpF8BCtBXDQY46MpvuLEhc",
      "include_colab_link": true
    },
    "kernelspec": {
      "name": "python3",
      "display_name": "Python 3"
    }
  },
  "cells": [
    {
      "cell_type": "markdown",
      "metadata": {
        "id": "view-in-github",
        "colab_type": "text"
      },
      "source": [
        "<a href=\"https://colab.research.google.com/github/valenja9/co_python_umi/blob/main/Bitcoin_actual_price.ipynb\" target=\"_parent\"><img src=\"https://colab.research.google.com/assets/colab-badge.svg\" alt=\"Open In Colab\"/></a>"
      ]
    },
    {
      "cell_type": "code",
      "metadata": {
        "id": "OkMyel7keYby"
      },
      "source": [
        "#Import libraries\n",
        "import requests\n",
        "from datetime import datetime\n",
        "from requests import Request, Session\n",
        "import json\n",
        "from requests.exceptions import ConnectionError, Timeout, TooManyRedirects\n",
        "from pprint import pprint"
      ],
      "execution_count": null,
      "outputs": []
    },
    {
      "cell_type": "code",
      "metadata": {
        "id": "qytLIcQ3epQ7"
      },
      "source": [
        "def get_latest_crypto_price(symbol):\n",
        "  url = 'https://pro-api.coinmarketcap.com/v1/cryptocurrency/quotes/latest'\n",
        "  parameters = {\n",
        "    'symbol':f'{symbol}'\n",
        "  }\n",
        "  headers = {\n",
        "    'Accepts': 'application/json',\n",
        "    'X-CMC_PRO_API_KEY': '46e19e3c-6bf8-4e03-87b1-82fb012beeeb',\n",
        "  }\n",
        "\n",
        "  session = Session()\n",
        "  session.headers.update(headers)\n",
        "\n",
        "  try:\n",
        "    response = session.get(url, params=parameters)\n",
        "    data = json.loads(response.text)\n",
        "    # pprint(data)\n",
        "  except (ConnectionError, Timeout, TooManyRedirects) as e:\n",
        "    print(e)\n",
        "\n",
        "  return float(data[\"data\"][parameters[\"symbol\"]][\"quote\"]['USD']['price'])"
      ],
      "execution_count": null,
      "outputs": []
    },
    {
      "cell_type": "code",
      "metadata": {
        "id": "dy6M-qt7evNr",
        "colab": {
          "base_uri": "https://localhost:8080/",
          "height": 34
        },
        "outputId": "5b2d6143-6b74-47aa-8ff3-adbb61054ac2"
      },
      "source": [
        "get_latest_crypto_price('BTC')"
      ],
      "execution_count": null,
      "outputs": [
        {
          "output_type": "execute_result",
          "data": {
            "text/plain": [
              "5202.04395321"
            ]
          },
          "metadata": {
            "tags": []
          },
          "execution_count": 34
        }
      ]
    }
  ]
}