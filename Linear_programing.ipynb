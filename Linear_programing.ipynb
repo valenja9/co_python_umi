{
  "nbformat": 4,
  "nbformat_minor": 0,
  "metadata": {
    "colab": {
      "name": "Linear_programing.ipynb",
      "provenance": [],
      "authorship_tag": "ABX9TyNduFl/ndc5EOkx5a/oE4gv",
      "include_colab_link": true
    },
    "kernelspec": {
      "name": "python3",
      "display_name": "Python 3"
    }
  },
  "cells": [
    {
      "cell_type": "markdown",
      "metadata": {
        "id": "view-in-github",
        "colab_type": "text"
      },
      "source": [
        "<a href=\"https://colab.research.google.com/github/valenja9/co_python_umi/blob/main/Linear_programing.ipynb\" target=\"_parent\"><img src=\"https://colab.research.google.com/assets/colab-badge.svg\" alt=\"Open In Colab\"/></a>"
      ]
    },
    {
      "cell_type": "markdown",
      "metadata": {
        "id": "NWRBq724i5Ib"
      },
      "source": [
        "# Úkol 1 - Svařované krabičky\n",
        "Máme firmu na výrobu svařovaných krabiček. Výrobce plechů nám dodává plech o šířce a a výšce b. Naším úkolem je zjistit, jak velké kusy v rozích odstřihnout, abychom maximalizovali objem krabičky. Krabička nemá víko, má jenom dno a čtyři strany (viz následující obrázek).\n",
        "\n",
        "Metal sheet\n",
        "\n",
        "Objem naší krabičky tedy bude:$$V(x) = x (a-2x) (b-2x) = abx - 2ax^2 - 2bx^2 + 4x^3$$A naše úloha tedy bude (předpokládejme, že $a \\leq b$):$$\\underset{x}{\\arg\\max} \\ V(x), \\ subject \\ to: \\ x\\in(0,\\frac{1}{2}a)$$To je jenom složite napsané, že hledáme takový parametr $x$, aby funkce $V(x)$ byla co možná největší. Přitom však $x$ musí být z intervalu $(0,\\frac{1}{2}a)$.\n",
        "\n",
        "Možná vám bude úloha ze začátku připadat složitá, ale ve skutečnosti je to středoškolská matematika. Vykreslíme si funkci objemu v závislosti na x pro zvolené a a b."
      ]
    },
    {
      "cell_type": "code",
      "metadata": {
        "id": "Eryil3_Bi0QS"
      },
      "source": [
        "import matplotlib.pyplot as plt\n",
        "import numpy as np"
      ],
      "execution_count": null,
      "outputs": []
    },
    {
      "cell_type": "code",
      "metadata": {
        "id": "3g-Iu4qii-s_",
        "colab": {
          "base_uri": "https://localhost:8080/",
          "height": 284
        },
        "outputId": "75a79f54-71c3-419f-a324-983413fb2031"
      },
      "source": [
        "a, b = 1., 2.\n",
        "x = np.arange(0., a/2, 0.01)\n",
        "v = x * (a - 2*x) * (b - 2*x)\n",
        "plt.plot(x, v)"
      ],
      "execution_count": null,
      "outputs": [
        {
          "output_type": "execute_result",
          "data": {
            "text/plain": [
              "[<matplotlib.lines.Line2D at 0x7f0d19be9240>]"
            ]
          },
          "metadata": {
            "tags": []
          },
          "execution_count": 2
        },
        {
          "output_type": "display_data",
          "data": {
            "image/png": "[encoded data removed]",
            "text/plain": [
              "<Figure size 432x288 with 1 Axes>"
            ]
          },
          "metadata": {
            "tags": [],
            "needs_background": "light"
          }
        }
      ]
    },
    {
      "cell_type": "markdown",
      "metadata": {
        "id": "Fhw6XtxljG4f"
      },
      "source": [
        "\n",
        "Optimální řešení se nacházi v bodě, kde je objem největší. Z matematického hlediska musíme vyřešit pouze 2 typy bodů:\n",
        "\n",
        "Začátek a konec intervalu intervalu ($x=0, x=\\frac{1}{2}a$)\n",
        "Body, prok teré platí $\\frac{dV(x)}{dx} = 0$ a zároveň jsou v našem v intervalu\n",
        "Derivace naší funkce objemu potom je:$$\\frac{dV(x)}{dx} =  ab-4ax-4bx+12x^2$$\n",
        "\n",
        "Zkusme si ji vykreslit a podívat se, kde je její hodnota přibližně $0$."
      ]
    },
    {
      "cell_type": "code",
      "metadata": {
        "id": "YqyZb3VGjFHA",
        "colab": {
          "base_uri": "https://localhost:8080/",
          "height": 282
        },
        "outputId": "dac9e4b5-f003-4983-a1a6-ca247c32e0d0"
      },
      "source": [
        "dv = a*b - 4*a*x - 4*b*x + 12*x*x\n",
        "plt.plot(x, dv)\n",
        "plt.axhline(0.0, color=\"r\")"
      ],
      "execution_count": null,
      "outputs": [
        {
          "output_type": "execute_result",
          "data": {
            "text/plain": [
              "<matplotlib.lines.Line2D at 0x7f0d19be96d8>"
            ]
          },
          "metadata": {
            "tags": []
          },
          "execution_count": 3
        },
        {
          "output_type": "display_data",
          "data": {
            "image/png": "[encoded data removed]",
            "text/plain": [
              "<Figure size 432x288 with 1 Axes>"
            ]
          },
          "metadata": {
            "tags": [],
            "needs_background": "light"
          }
        }
      ]
    },
    {
      "cell_type": "markdown",
      "metadata": {
        "id": "Cl-1FzCHjOCf"
      },
      "source": [
        "\n",
        "Tento příklad je samozřejmě tak jednoduchý, že ho můžeme vyřešit analyticky, je to polynom 2. řádu."
      ]
    },
    {
      "cell_type": "code",
      "metadata": {
        "id": "h9Y98OlnjO0m",
        "colab": {
          "base_uri": "https://localhost:8080/",
          "height": 34
        },
        "outputId": "19621bdd-ab8a-4fa3-dd43-f3dcd29b5403"
      },
      "source": [
        "# koeficienty kvadratického polynomu\n",
        "poly_a = 12.\n",
        "poly_b = -4*a - 4*b\n",
        "poly_c = a*b\n",
        "diskriminant = poly_b**2 - 4*poly_a*poly_c\n",
        "x1 = (-poly_b + np.sqrt(diskriminant))/2./poly_a \n",
        "x2 = (-poly_b - np.sqrt(diskriminant))/2./poly_a\n",
        "print(f\"roots are {x1:2f} and {x2:2f}\")"
      ],
      "execution_count": null,
      "outputs": [
        {
          "output_type": "stream",
          "text": [
            "roots are 0.788675 and 0.211325\n"
          ],
          "name": "stdout"
        }
      ]
    },
    {
      "cell_type": "markdown",
      "metadata": {
        "id": "6nuFrGIojVeC"
      },
      "source": [
        "Musíme ještě ověřit, který z kořenů patří a který nepatří do našeho intervalu $(0, \\frac{1}{2}a)$:"
      ]
    },
    {
      "cell_type": "code",
      "metadata": {
        "id": "fceCb375jSgG",
        "colab": {
          "base_uri": "https://localhost:8080/",
          "height": 34
        },
        "outputId": "49503850-d565-49b6-8835-43b6729fd404"
      },
      "source": [
        "solution = x1 if x1 >= 0 and x1 <= a/2 else x2\n",
        "solution"
      ],
      "execution_count": null,
      "outputs": [
        {
          "output_type": "execute_result",
          "data": {
            "text/plain": [
              "0.21132486540518713"
            ]
          },
          "metadata": {
            "tags": []
          },
          "execution_count": 5
        }
      ]
    },
    {
      "cell_type": "markdown",
      "metadata": {
        "id": "c-06FaNfjbE6"
      },
      "source": [
        "\n",
        "Zkusme zakreslit do grafu (funkci objemu jsem vynásobil 20 krát, aby byla v grafu pěkně vidět, protože nám jde hlavně o tvar):"
      ]
    },
    {
      "cell_type": "code",
      "metadata": {
        "id": "z5tymeEejb2h",
        "colab": {
          "base_uri": "https://localhost:8080/",
          "height": 280
        },
        "outputId": "074023ca-9a85-4814-db5c-6fe5de425f93"
      },
      "source": [
        "plt.figure()\n",
        "plt.plot(x, 20*v, label=\"20*V(x)\")\n",
        "plt.plot(x, dv, label=\"dV(x)\")\n",
        "plt.axvline(solution, color=\"g\", label=\"solution\")\n",
        "plt.axhline(0, color=\"r\", label=\"f(x)=0\")\n",
        "plt.legend()\n",
        "plt.xlabel(\"x\")\n",
        "plt.ylabel(\"20*V(x), dV(x)\")\n",
        "plt.show()\n"
      ],
      "execution_count": null,
      "outputs": [
        {
          "output_type": "display_data",
          "data": {
            "image/png": "[encoded data removed]",
            "text/plain": [
              "<Figure size 432x288 with 1 Axes>"
            ]
          },
          "metadata": {
            "tags": [],
            "needs_background": "light"
          }
        }
      ]
    },
    {
      "cell_type": "markdown",
      "metadata": {
        "id": "aRPfNnwpjhGy"
      },
      "source": [
        "\n",
        "Zkuste se zamyslet, jestli můžou nastat případy, kdy diskriminant bude záporný? Má tento postup nějaká úskalí?"
      ]
    },
    {
      "cell_type": "markdown",
      "metadata": {
        "id": "wR1VfYmCmEA7"
      },
      "source": [
        "# Receptura psích granulí¶\n",
        "Naším úkolem je optimalizovat složení psích granulí tak, aby bylo jejich složení co možná ekonomicky nejvýhodnější.\n",
        "\n",
        "cena surovin:\n",
        "\n",
        "obilí - \\$7.5 za kg\n",
        "mrkev - \\$9.2 za kg\n",
        "maso - \\$60.0 za kg\n",
        "Dále norma zakazuje, aby podíl obilí převyšoval 45% celkového složení a granule musí alespoň z 18% obsahovat maso."
      ]
    },
    {
      "cell_type": "code",
      "metadata": {
        "id": "6j16-0bcjX9i"
      },
      "source": [
        "import cvxpy as cp\n",
        "\n",
        "grain = cp.Variable()\n",
        "carrot = cp.Variable()\n",
        "flesh = cp.Variable()"
      ],
      "execution_count": null,
      "outputs": []
    },
    {
      "cell_type": "code",
      "metadata": {
        "id": "B9HFy8mNmLO0"
      },
      "source": [
        "\n",
        "prices = {\n",
        "    \"grain\": 7.5, # $ per kg\n",
        "    \"carrot\": 9.2, # $ per kg\n",
        "    \"flesh\": 60.0, # $ per kg\n",
        "}\n",
        "constraints = [\n",
        "    grain + carrot + flesh == 1.0, # all together has to be 100 %\n",
        "    grain >= 0.0, carrot >= 0.0, flesh >= 0.0, # negative % does not make sense\n",
        "    grain <= 0.45, flesh >=0.18, # norm for dog food\n",
        "]\n",
        "cost = prices[\"grain\"]*grain + prices[\"carrot\"]*carrot + prices[\"flesh\"]*flesh \n",
        "objective = cp.Minimize(cost)\n",
        "problem = cp.Problem(objective, constraints)"
      ],
      "execution_count": null,
      "outputs": []
    },
    {
      "cell_type": "code",
      "metadata": {
        "id": "0k7Jh8l4m-hL",
        "colab": {
          "base_uri": "https://localhost:8080/",
          "height": 1000
        },
        "outputId": "4a16802b-353b-4c89-8a9f-d5b5ee1c5696"
      },
      "source": [
        "dir(problem)"
      ],
      "execution_count": null,
      "outputs": [
        {
          "output_type": "execute_result",
          "data": {
            "text/plain": [
              "['REGISTERED_SOLVE_METHODS',\n",
              " '__abstractmethods__',\n",
              " '__add__',\n",
              " '__class__',\n",
              " '__delattr__',\n",
              " '__dict__',\n",
              " '__dir__',\n",
              " '__div__',\n",
              " '__doc__',\n",
              " '__eq__',\n",
              " '__format__',\n",
              " '__ge__',\n",
              " '__getattribute__',\n",
              " '__gt__',\n",
              " '__hash__',\n",
              " '__init__',\n",
              " '__init_subclass__',\n",
              " '__le__',\n",
              " '__lt__',\n",
              " '__module__',\n",
              " '__mul__',\n",
              " '__ne__',\n",
              " '__neg__',\n",
              " '__new__',\n",
              " '__radd__',\n",
              " '__reduce__',\n",
              " '__reduce_ex__',\n",
              " '__repr__',\n",
              " '__rmul__',\n",
              " '__rsub__',\n",
              " '__setattr__',\n",
              " '__sizeof__',\n",
              " '__str__',\n",
              " '__sub__',\n",
              " '__subclasshook__',\n",
              " '__truediv__',\n",
              " '__weakref__',\n",
              " '_abc_cache',\n",
              " '_abc_negative_cache',\n",
              " '_abc_negative_cache_version',\n",
              " '_abc_registry',\n",
              " '_cached_chain_key',\n",
              " '_clear_solution',\n",
              " '_constraints',\n",
              " '_construct_chains',\n",
              " '_find_candidate_solvers',\n",
              " '_intermediate_chain',\n",
              " '_objective',\n",
              " '_parallel_solve',\n",
              " '_separable_problems',\n",
              " '_size_metrics',\n",
              " '_solution',\n",
              " '_solve',\n",
              " '_solver_cache',\n",
              " '_solver_stats',\n",
              " '_solving_chain',\n",
              " '_status',\n",
              " '_value',\n",
              " 'args',\n",
              " 'atoms',\n",
              " 'canonical_form',\n",
              " 'constants',\n",
              " 'constraints',\n",
              " 'copy',\n",
              " 'expr',\n",
              " 'get_data',\n",
              " 'get_problem_data',\n",
              " 'is_dcp',\n",
              " 'is_dgp',\n",
              " 'is_dqcp',\n",
              " 'is_mixed_integer',\n",
              " 'is_qp',\n",
              " 'objective',\n",
              " 'parameters',\n",
              " 'register_solve',\n",
              " 'size_metrics',\n",
              " 'solution',\n",
              " 'solve',\n",
              " 'solver_stats',\n",
              " 'status',\n",
              " 'tree_copy',\n",
              " 'unpack',\n",
              " 'unpack_results',\n",
              " 'value',\n",
              " 'variables']"
            ]
          },
          "metadata": {
            "tags": []
          },
          "execution_count": 11
        }
      ]
    },
    {
      "cell_type": "code",
      "metadata": {
        "id": "CwmTSxEpnEZP",
        "colab": {
          "base_uri": "https://localhost:8080/",
          "height": 272
        },
        "outputId": "99f009f9-8027-4c1c-98d3-b70461f4bc0c"
      },
      "source": [
        "problem.solve(verbose=True)"
      ],
      "execution_count": null,
      "outputs": [
        {
          "output_type": "stream",
          "text": [
            "\n",
            "ECOS 2.0.7 - (C) embotech GmbH, Zurich Switzerland, 2012-15. Web: www.embotech.com/ECOS\n",
            "\n",
            "It     pcost       dcost      gap   pres   dres    k/t    mu     step   sigma     IR    |   BT\n",
            " 0  +2.180e+01  +1.821e+01  +2e+01  1e-02  2e-01  1e+00  3e+00    ---    ---    1  1  - |  -  - \n",
            " 1  +1.764e+01  +1.720e+01  +2e+00  1e-03  3e-02  2e-01  4e-01  0.8702  3e-02   0  0  0 |  0  0\n",
            " 2  +1.761e+01  +1.759e+01  +1e-01  6e-05  2e-03  8e-03  2e-02  0.9513  8e-04   0  0  0 |  0  0\n",
            " 3  +1.758e+01  +1.758e+01  +1e-03  7e-07  2e-05  9e-05  2e-04  0.9890  2e-04   1  0  0 |  0  0\n",
            " 4  +1.758e+01  +1.758e+01  +1e-05  8e-09  2e-07  1e-06  3e-06  0.9890  1e-04   1  0  0 |  0  0\n",
            " 5  +1.758e+01  +1.758e+01  +2e-07  9e-11  2e-09  1e-08  3e-08  0.9890  1e-04   1  0  0 |  0  0\n",
            "\n",
            "OPTIMAL (within feastol=2.1e-09, reltol=9.4e-09, abstol=1.7e-07).\n",
            "Runtime: 0.000465 seconds.\n",
            "\n"
          ],
          "name": "stdout"
        },
        {
          "output_type": "execute_result",
          "data": {
            "text/plain": [
              "17.579000038002548"
            ]
          },
          "metadata": {
            "tags": []
          },
          "execution_count": 12
        }
      ]
    },
    {
      "cell_type": "code",
      "metadata": {
        "id": "zC5jrrd3nJrG",
        "colab": {
          "base_uri": "https://localhost:8080/",
          "height": 85
        },
        "outputId": "7bf8f870-c899-4aad-bfdf-f522787ecab7"
      },
      "source": [
        "print(f\"\"\" Optimal dog food:\n",
        "grain: {grain.value*100:0.1f} %\n",
        "carrot: {carrot.value*100:0.1f} %\n",
        "flesh: {flesh.value*100:0.1f} %\"\"\")"
      ],
      "execution_count": null,
      "outputs": [
        {
          "output_type": "stream",
          "text": [
            " Optimal dog food:\n",
            "grain: 45.0 %\n",
            "carrot: 37.0 %\n",
            "flesh: 18.0 %\n"
          ],
          "name": "stdout"
        }
      ]
    },
    {
      "cell_type": "markdown",
      "metadata": {
        "id": "NPY5H9c3odF7"
      },
      "source": [
        "# Optimalizace bloku plynové elektrárny\n",
        "Naším úkolem je optimalizovat výkon bloku plynové elektrárny na následujích 24 hodin tak, abychom elektřinu prodali za co nejvyšší cenu:\n",
        "\n",
        "každá hodina bude mít jednu konstantní výkonovou úroveň\n",
        "minimální výkon je 40 MW a maximální výkon bloku je 180MW\n",
        "průměrný výkon musí být 80 MW\n",
        "z důvodů omezení sítě musí být průměrný výkon za prvních deset hodin 50MW\n",
        "z důvodů technologie plynového bloku nesmí být výkonová změna za jednu hodinu vyšší než 20 MW\n",
        "Cenová křivka je známa a zadána v proměné price."
      ]
    },
    {
      "cell_type": "code",
      "metadata": {
        "id": "-PqOyd6mofZP"
      },
      "source": [
        "import cvxpy as cp\n",
        "import numpy as np\n",
        "import matplotlib.pyplot as plt"
      ],
      "execution_count": null,
      "outputs": []
    },
    {
      "cell_type": "code",
      "metadata": {
        "id": "wu4oG2broidl"
      },
      "source": [
        "price = np.array([200, 160, 205, 210, 150, 180, 550, 600,\n",
        "                  400, 330, 160, 150, 160, 150, 350, 200, \n",
        "                  380, 500, 550, 210, 230, 200, 190, 180.,]) # price for every hour in CZK"
      ],
      "execution_count": null,
      "outputs": []
    },
    {
      "cell_type": "code",
      "metadata": {
        "id": "vWg07rMdokNW",
        "colab": {
          "base_uri": "https://localhost:8080/",
          "height": 279
        },
        "outputId": "a5fc1559-5718-4220-b295-f4d18b5216c9"
      },
      "source": [
        "plt.plot(price)\n",
        "plt.xlabel(\"hour\")\n",
        "plt.ylabel(\"price CZK\")\n",
        "plt.show()"
      ],
      "execution_count": null,
      "outputs": [
        {
          "output_type": "display_data",
          "data": {
            "image/png": "[encoded data removed]",
            "text/plain": [
              "<Figure size 432x288 with 1 Axes>"
            ]
          },
          "metadata": {
            "tags": [],
            "needs_background": "light"
          }
        }
      ]
    },
    {
      "cell_type": "code",
      "metadata": {
        "id": "FIIME-cJo-Q-",
        "colab": {
          "base_uri": "https://localhost:8080/",
          "height": 323
        },
        "outputId": "27193ee7-599d-46bf-eb9d-8bcd5bec9442"
      },
      "source": [
        "\n",
        "power = cp.Variable(24) #celkem 24 cen \n",
        "constraints = [\n",
        "    cp.sum(power) == 24 * 80.0, # average power\n",
        "    cp.sum(power[:10]) == 10 * 50, # average power first 10 hours\n",
        "    power >= 40., # minimal MW for block\n",
        "    power <=180., # maximal MW for block\n",
        "    power[1:] - power[:-1] <= 20.0, # change less then 20 MW one way\n",
        "    power[:-1] - power[1:] <= 20.0, # change less then 20 MW other way\n",
        "]\n",
        "objective = cp.Maximize(power * price)\n",
        "problem = cp.Problem(objective, constraints)\n",
        "problem.solve(verbose=True)"
      ],
      "execution_count": null,
      "outputs": [
        {
          "output_type": "stream",
          "text": [
            "\n",
            "ECOS 2.0.7 - (C) embotech GmbH, Zurich Switzerland, 2012-15. Web: www.embotech.com/ECOS\n",
            "\n",
            "It     pcost       dcost      gap   pres   dres    k/t    mu     step   sigma     IR    |   BT\n",
            " 0  -5.197e+05  -9.268e+05  +5e+05  3e-02  6e-09  1e+00  5e+03    ---    ---    1  1  - |  -  - \n",
            " 1  -5.846e+05  -7.756e+05  +2e+05  1e-02  5e-09  1e+03  2e+03  0.7404  3e-01   0  0  0 |  0  0\n",
            " 2  -5.919e+05  -6.483e+05  +7e+04  4e-03  2e-09  3e+02  7e+02  0.7108  2e-02   1  1  1 |  0  0\n",
            " 3  -5.933e+05  -6.080e+05  +2e+04  1e-03  8e-10  9e+01  2e+02  0.7531  2e-02   1  0  0 |  0  0\n",
            " 4  -5.937e+05  -5.970e+05  +4e+03  2e-04  4e-10  2e+01  4e+01  0.7820  1e-02   1  1  1 |  0  0\n",
            " 5  -5.938e+05  -5.938e+05  +6e+01  4e-06  2e-11  4e-01  7e-01  0.9890  4e-03   1  0  0 |  0  0\n",
            " 6  -5.938e+05  -5.938e+05  +7e-01  4e-08  6e-13  4e-03  7e-03  0.9890  1e-04   1  0  0 |  0  0\n",
            " 7  -5.938e+05  -5.938e+05  +8e-03  4e-10  1e-14  5e-05  8e-05  0.9890  1e-04   1  0  0 |  0  0\n",
            " 8  -5.938e+05  -5.938e+05  +8e-05  5e-12  2e-16  6e-07  9e-07  0.9890  1e-04   1  0  0 |  0  0\n",
            "\n",
            "OPTIMAL (within feastol=4.8e-12, reltol=1.4e-10, abstol=8.4e-05).\n",
            "Runtime: 0.001263 seconds.\n",
            "\n"
          ],
          "name": "stdout"
        },
        {
          "output_type": "execute_result",
          "data": {
            "text/plain": [
              "593793.8461484843"
            ]
          },
          "metadata": {
            "tags": []
          },
          "execution_count": 17
        }
      ]
    },
    {
      "cell_type": "code",
      "metadata": {
        "id": "iKWblyXQpXjm",
        "colab": {
          "base_uri": "https://localhost:8080/",
          "height": 279
        },
        "outputId": "1b32b5a5-7f5d-4226-e79a-501d1370bf8f"
      },
      "source": [
        "plt.plot(power.value)\n",
        "plt.xlabel(\"hour\")\n",
        "plt.ylabel(\"power [MW]\")\n",
        "plt.show()"
      ],
      "execution_count": null,
      "outputs": [
        {
          "output_type": "display_data",
          "data": {
            "image/png": "[encoded data removed]",
            "text/plain": [
              "<Figure size 432x288 with 1 Axes>"
            ]
          },
          "metadata": {
            "tags": [],
            "needs_background": "light"
          }
        }
      ]
    },
    {
      "cell_type": "markdown",
      "metadata": {
        "id": "cQddubNy3XKd"
      },
      "source": [
        "\n",
        "# Úkol cvxpy\n",
        "Pomocí knihovny cvxpy napiště kód pro nalezení řešení následující úlohy:\n",
        "\n",
        "Naše továrna vyrábí tři typy mobilů (označme je A, B, C).\n",
        "\n",
        "zisk za kus mobilu typu A bude každý měsíc konstantní (proměnná price_a)\n",
        "zisk za kus mobilu typu B se bude snižovat, protože o něj nebude zájem a bude se muset snižovat i jeho cena. Zisk za kus je uložený v proměné price_b\n",
        "zisk za kus mobilu typu C se naopak bude zvyšovat. Jedná se o nový model a očekává se rapidní zlepšení technologie výroby (hlavně zlevnění pomocí velkosériové výroby)\n",
        "Omezení továrny:\n",
        "\n",
        "Továrna není schopna vyrobit více, než 10000 kusů mobilů za měsíc\n",
        "Každá linka je trochu jiná, takže se každý měsíc musí vyrobit minimálně 2000 kusů od každého typu mobilu\n",
        "V druhé polovině roku nesmí být počet vyrobených modilů typu C více než 5000\n",
        "Výroba mobilů typu B nikdy nesmí překročit 4500 za měsíc\n",
        "V první polovině roku nesmí být počet vyrobených mobilů typu A více než 4000\n",
        "Naplánujte výrobu pro každý typ mobilu pro každý měsíc abyste maximalizovali celkový zisk továrny za rok. Řešení tedy bude, že pro každý měsíc budete mít 3 čísla (počty kusů) pro mobily typu A, B a C.\n",
        "\n",
        "Jaký bude celkový zisk továrny v CZK?"
      ]
    },
    {
      "cell_type": "code",
      "metadata": {
        "id": "jfXksu--oMTT",
        "colab": {
          "base_uri": "https://localhost:8080/",
          "height": 1000
        },
        "outputId": "4464619c-fe37-4aa4-9346-53c56d0f4178"
      },
      "source": [
        "#import knihoven\n",
        "import cvxpy as cp\n",
        "import matplotlib.pyplot as plt\n",
        "import numpy as np\n",
        "#-----------------------------------------------------------------------------------------------\n",
        "#Deklarační část\n",
        "#-----------------------------------------------------------------------------------------------\n",
        "A = cp.Variable()\n",
        "B = cp.Variable()\n",
        "C = cp.Variable()\n",
        "\n",
        "price_a = np.full(12, 325.)                        \n",
        "price_b = np.array([300, 300, 290, 275, 275, 280,\n",
        "                    260, 250, 230, 200, 210, 190.])\n",
        "price_c = np.array([100, 110, 98, 115, 200, 220,\n",
        "                    210, 500, 500, 490, 487, 550.])\n",
        "\n",
        "constraints_a = [\n",
        "              A + B + C == 1.0,\n",
        "              A >= 0.2, B >= 0.2, C >= 0.2, \n",
        "              B <= 0.45, A <=0.4, \n",
        "              ]\n",
        "              \n",
        "constraints_b = [\n",
        "              A + B + C == 1.0, \n",
        "              A >= 0.2, B >= 0.2, C >= 0.2, \n",
        "              B <= 0.45, C <=0.5, \n",
        "              ]\n",
        "\n",
        "def  trzby_funkce(value,price_model):\n",
        "  if price_model is None:\n",
        "    return np.round_(value,2)*10000\n",
        "  return np.round_(value,2)*10000*price_model\n",
        "\n",
        "\n",
        "#---------------------------------------------------------------------------------------\n",
        "def main():\n",
        "  trzby = 0\n",
        "  for e in range(0,12):  #cyklus vypoctu\n",
        "    if e+1 <= 6:        #e+1 je třeba zvětšít index o 1 kvůli počátání měsíců. Dle indexu hledám constraints \n",
        "      constraints = constraints_a\n",
        "    else:\n",
        "        constraints = constraints_b    \n",
        "    vysledek = lambda e :A*price_a[e] + B*price_b[e] + C*price_c[e] #Výsledek ceny za jeden měsíc pomocí anonymní funkce\n",
        "    objective = cp.Maximize(vysledek(e)) #volám anonymní funkci\n",
        "    problem = cp.Problem(objective, constraints)\n",
        "\n",
        "    problem.solve(verbose=False)\n",
        "    #výpočet tržeb za za rok k dannému měsíci.\n",
        "    trzby = trzby +  trzby_funkce(A.value,price_a[e])+ trzby_funkce(B.value,price_b[e])+trzby_funkce(C.value,price_c[e])\n",
        "  \n",
        "    print(f\"\"\"Mesic:{e+1}. Vyrobeno: a: {trzby_funkce(A.value,None)}  b: {trzby_funkce(B.value,None)} c: {trzby_funkce(C.value,None)}\"\"\")\n",
        "    print(f\"\"\"Trzby:\n",
        "    a: {trzby_funkce(A.value,price_a[e])} \n",
        "    b: {trzby_funkce(B.value,price_a[e])} \n",
        "    c: {trzby_funkce(C.value,price_a[e])} \n",
        "    Celkove trzby za mesic : {trzby_funkce(A.value,price_a[e])  + trzby_funkce(B.value,price_b[e])+trzby_funkce(C.value,price_c[e])} \"\"\")\n",
        "    print(f\"Celkove trzby v roce : {trzby} kč\")\n",
        "    print(80*'=')\n",
        "\n",
        "if __name__ == \"__main__\":\n",
        "   main()"
      ],
      "execution_count": null,
      "outputs": [
        {
          "output_type": "stream",
          "text": [
            "Mesic:1. Vyrobeno: a: 4000.0  b: 4000.0 c: 2000.0\n",
            "Trzby:\n",
            "    a: 1300000.0 \n",
            "    b: 1300000.0 \n",
            "    c: 650000.0 \n",
            "    Celkove trzby za mesic : 2700000.0 \n",
            "Celkove trzby v roce : 2700000.0 kč\n",
            "================================================================================\n",
            "Mesic:2. Vyrobeno: a: 4000.0  b: 4000.0 c: 2000.0\n",
            "Trzby:\n",
            "    a: 1300000.0 \n",
            "    b: 1300000.0 \n",
            "    c: 650000.0 \n",
            "    Celkove trzby za mesic : 2720000.0 \n",
            "Celkove trzby v roce : 5420000.0 kč\n",
            "================================================================================\n",
            "Mesic:3. Vyrobeno: a: 4000.0  b: 4000.0 c: 2000.0\n",
            "Trzby:\n",
            "    a: 1300000.0 \n",
            "    b: 1300000.0 \n",
            "    c: 650000.0 \n",
            "    Celkove trzby za mesic : 2656000.0 \n",
            "Celkove trzby v roce : 8076000.0 kč\n",
            "================================================================================\n",
            "Mesic:4. Vyrobeno: a: 4000.0  b: 4000.0 c: 2000.0\n",
            "Trzby:\n",
            "    a: 1300000.0 \n",
            "    b: 1300000.0 \n",
            "    c: 650000.0 \n",
            "    Celkove trzby za mesic : 2630000.0 \n",
            "Celkove trzby v roce : 10706000.0 kč\n",
            "================================================================================\n",
            "Mesic:5. Vyrobeno: a: 4000.0  b: 4000.0 c: 2000.0\n",
            "Trzby:\n",
            "    a: 1300000.0 \n",
            "    b: 1300000.0 \n",
            "    c: 650000.0 \n",
            "    Celkove trzby za mesic : 2800000.0 \n",
            "Celkove trzby v roce : 13506000.0 kč\n",
            "================================================================================\n",
            "Mesic:6. Vyrobeno: a: 4000.0  b: 4000.0 c: 2000.0\n",
            "Trzby:\n",
            "    a: 1300000.0 \n",
            "    b: 1300000.0 \n",
            "    c: 650000.0 \n",
            "    Celkove trzby za mesic : 2860000.0 \n",
            "Celkove trzby v roce : 16366000.0 kč\n",
            "================================================================================\n",
            "Mesic:7. Vyrobeno: a: 6000.0  b: 2000.0 c: 2000.0\n",
            "Trzby:\n",
            "    a: 1950000.0 \n",
            "    b: 650000.0 \n",
            "    c: 650000.0 \n",
            "    Celkove trzby za mesic : 2890000.0 \n",
            "Celkove trzby v roce : 19256000.0 kč\n",
            "================================================================================\n",
            "Mesic:8. Vyrobeno: a: 3000.0  b: 2000.0 c: 5000.0\n",
            "Trzby:\n",
            "    a: 975000.0 \n",
            "    b: 650000.0 \n",
            "    c: 1625000.0 \n",
            "    Celkove trzby za mesic : 3975000.0 \n",
            "Celkove trzby v roce : 23231000.0 kč\n",
            "================================================================================\n",
            "Mesic:9. Vyrobeno: a: 3000.0  b: 2000.0 c: 5000.0\n",
            "Trzby:\n",
            "    a: 975000.0 \n",
            "    b: 650000.0 \n",
            "    c: 1625000.0 \n",
            "    Celkove trzby za mesic : 3935000.0 \n",
            "Celkove trzby v roce : 27166000.0 kč\n",
            "================================================================================\n",
            "Mesic:10. Vyrobeno: a: 3000.0  b: 2000.0 c: 5000.0\n",
            "Trzby:\n",
            "    a: 975000.0 \n",
            "    b: 650000.0 \n",
            "    c: 1625000.0 \n",
            "    Celkove trzby za mesic : 3825000.0 \n",
            "Celkove trzby v roce : 30991000.0 kč\n",
            "================================================================================\n",
            "Mesic:11. Vyrobeno: a: 3000.0  b: 2000.0 c: 5000.0\n",
            "Trzby:\n",
            "    a: 975000.0 \n",
            "    b: 650000.0 \n",
            "    c: 1625000.0 \n",
            "    Celkove trzby za mesic : 3830000.0 \n",
            "Celkove trzby v roce : 34821000.0 kč\n",
            "================================================================================\n",
            "Mesic:12. Vyrobeno: a: 3000.0  b: 2000.0 c: 5000.0\n",
            "Trzby:\n",
            "    a: 975000.0 \n",
            "    b: 650000.0 \n",
            "    c: 1625000.0 \n",
            "    Celkove trzby za mesic : 4105000.0 \n",
            "Celkove trzby v roce : 38926000.0 kč\n",
            "================================================================================\n"
          ],
          "name": "stdout"
        }
      ]
    }
  ]
}