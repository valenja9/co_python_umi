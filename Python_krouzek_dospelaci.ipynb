{
  "nbformat": 4,
  "nbformat_minor": 0,
  "metadata": {
    "colab": {
      "name": "Python_krouzek_dospelaci.ipynb",
      "provenance": [],
      "authorship_tag": "ABX9TyNtg93jvnn0/Jnswm+pdlVY",
      "include_colab_link": true
    },
    "kernelspec": {
      "name": "python3",
      "display_name": "Python 3"
    }
  },
  "cells": [
    {
      "cell_type": "markdown",
      "metadata": {
        "id": "view-in-github",
        "colab_type": "text"
      },
      "source": [
        "<a href=\"https://colab.research.google.com/github/valenja9/co_python_umi/blob/main/Python_krouzek_dospelaci.ipynb\" target=\"_parent\"><img src=\"https://colab.research.google.com/assets/colab-badge.svg\" alt=\"Open In Colab\"/></a>"
      ]
    },
    {
      "cell_type": "markdown",
      "metadata": {
        "id": "Ie7PrSHYC6Dt"
      },
      "source": [
        "# Začínáme programovat"
      ]
    },
    {
      "cell_type": "code",
      "metadata": {
        "id": "yp4pS7-fDM5L"
      },
      "source": [
        "budu_ukladat_sem = \"Teď jsem uloži text do proměnne: budu_ukladat_sem\"\n",
        "print(budu_ukladat_sem)"
      ],
      "execution_count": 6,
      "outputs": []
    },
    {
      "cell_type": "code",
      "metadata": {
        "colab": {
          "base_uri": "https://localhost:8080/"
        },
        "id": "25LhumOfEJoX",
        "outputId": "34cbb0c3-65c1-4d4e-f9fc-353aa9d846f2"
      },
      "source": [
        "print(budu_ukladat_sem)"
      ],
      "execution_count": 4,
      "outputs": [
        {
          "output_type": "stream",
          "text": [
            "Teď jsem uloži text do proměnne: budu_ukladat_sem\n"
          ],
          "name": "stdout"
        }
      ]
    },
    {
      "cell_type": "code",
      "metadata": {
        "colab": {
          "base_uri": "https://localhost:8080/"
        },
        "id": "USwkfd7tEVGx",
        "outputId": "c474a2d3-afa8-4e94-9ddf-127103ea6d07"
      },
      "source": [
        "cislo = 50\r\n",
        "print(cislo)"
      ],
      "execution_count": 8,
      "outputs": [
        {
          "output_type": "stream",
          "text": [
            "50\n"
          ],
          "name": "stdout"
        }
      ]
    },
    {
      "cell_type": "code",
      "metadata": {
        "colab": {
          "base_uri": "https://localhost:8080/"
        },
        "id": "rVCSb9boGBPA",
        "outputId": "9d47426d-a9e3-401d-f647-923ed937db05"
      },
      "source": [
        "50 + 60"
      ],
      "execution_count": 10,
      "outputs": [
        {
          "output_type": "execute_result",
          "data": {
            "text/plain": [
              "110"
            ]
          },
          "metadata": {
            "tags": []
          },
          "execution_count": 10
        }
      ]
    },
    {
      "cell_type": "markdown",
      "metadata": {
        "id": "T99gfaPLGUkB"
      },
      "source": [
        "# Jednoducha kalkulacka\r\n"
      ]
    },
    {
      "cell_type": "code",
      "metadata": {
        "colab": {
          "base_uri": "https://localhost:8080/"
        },
        "id": "GbzkJlOLFx3j",
        "outputId": "90eee071-8a96-4547-c75b-fd91739c76dc"
      },
      "source": [
        "cislo1 = 10\r\n",
        "cislo2 = 60\r\n",
        "print(cislo1 + cislo2)"
      ],
      "execution_count": 13,
      "outputs": [
        {
          "output_type": "stream",
          "text": [
            "70\n"
          ],
          "name": "stdout"
        }
      ]
    },
    {
      "cell_type": "code",
      "metadata": {
        "colab": {
          "base_uri": "https://localhost:8080/"
        },
        "id": "HNmW6vjeGefz",
        "outputId": "7601c260-b097-43b8-f6cd-5055bbb9feeb"
      },
      "source": [
        "cislo1 = 20\r\n",
        "cislo2 = 30\r\n",
        "suma = cislo1 + cislo2\r\n",
        "print(suma) "
      ],
      "execution_count": 15,
      "outputs": [
        {
          "output_type": "stream",
          "text": [
            "50\n"
          ],
          "name": "stdout"
        }
      ]
    },
    {
      "cell_type": "code",
      "metadata": {
        "colab": {
          "base_uri": "https://localhost:8080/"
        },
        "id": "fXSCxRUeGrDA",
        "outputId": "c5640546-9411-4546-ac40-27161b0f7346"
      },
      "source": [
        "cislo1 = input(\"Zadej cislo: \")\r\n",
        "cislo2 = input(\"Zadej druhe cislo:\")\r\n",
        "suma = cislo1 + cislo2\r\n",
        "print(suma) "
      ],
      "execution_count": 16,
      "outputs": [
        {
          "output_type": "stream",
          "text": [
            "Zadej cislo: 5\n",
            "Zadej druhe cislo:69\n",
            "569\n"
          ],
          "name": "stdout"
        }
      ]
    },
    {
      "cell_type": "code",
      "metadata": {
        "colab": {
          "base_uri": "https://localhost:8080/"
        },
        "id": "2LRHQa7qHd85",
        "outputId": "331e8af2-2831-43c4-c838-915f6ecfc792"
      },
      "source": [
        "print(\"ahoj\" + \", jak se vede?\")"
      ],
      "execution_count": 18,
      "outputs": [
        {
          "output_type": "stream",
          "text": [
            "ahoj, jak se vede?\n"
          ],
          "name": "stdout"
        }
      ]
    },
    {
      "cell_type": "code",
      "metadata": {
        "id": "fOeip5fPIbyH"
      },
      "source": [
        "cislo1 = int(input(\"Zadej cislo: \"))\r\n",
        "cislo2 = int(input(\"Zadej druhe cislo:\"))\r\n",
        "suma = cislo1 + cislo2\r\n",
        "print(suma) "
      ],
      "execution_count": null,
      "outputs": []
    },
    {
      "cell_type": "code",
      "metadata": {
        "colab": {
          "base_uri": "https://localhost:8080/"
        },
        "id": "4CzcsEPpHwIy",
        "outputId": "c4698c92-7452-41ee-be27-69bfdc7d9332"
      },
      "source": [
        "cislo1 = float(input(\"Zadej cislo: \"))\r\n",
        "cislo2 = float(input(\"Zadej druhe cislo:\"))\r\n",
        "suma = cislo1 + cislo2\r\n",
        "print(suma) "
      ],
      "execution_count": 20,
      "outputs": [
        {
          "output_type": "stream",
          "text": [
            "Zadej cislo: 4.9\n",
            "Zadej druhe cislo:1\n",
            "5.9\n"
          ],
          "name": "stdout"
        }
      ]
    },
    {
      "cell_type": "code",
      "metadata": {
        "colab": {
          "base_uri": "https://localhost:8080/"
        },
        "id": "qGczgU6AIJzi",
        "outputId": "22cb6df1-7c2c-4433-e5ce-80829fff3b35"
      },
      "source": [
        "print(\"Ted budu zjistovat datovy typ:\", type(cislo1), \"Ted budu zjistovat datovy typ:\" , type(budu_ukladat_sem ))"
      ],
      "execution_count": 24,
      "outputs": [
        {
          "output_type": "stream",
          "text": [
            "Ted budu zjistovat datovy typ: <class 'float'> Ted budu zjistovat datovy typ: <class 'str'>\n"
          ],
          "name": "stdout"
        }
      ]
    },
    {
      "cell_type": "code",
      "metadata": {
        "colab": {
          "base_uri": "https://localhost:8080/"
        },
        "id": "ybcCSuGxJsde",
        "outputId": "28aadd91-99c9-4464-bc6a-aedbff6d203f"
      },
      "source": [
        "print(dir(budu_ukladat_sem))"
      ],
      "execution_count": 25,
      "outputs": [
        {
          "output_type": "stream",
          "text": [
            "['__add__', '__class__', '__contains__', '__delattr__', '__dir__', '__doc__', '__eq__', '__format__', '__ge__', '__getattribute__', '__getitem__', '__getnewargs__', '__gt__', '__hash__', '__init__', '__init_subclass__', '__iter__', '__le__', '__len__', '__lt__', '__mod__', '__mul__', '__ne__', '__new__', '__reduce__', '__reduce_ex__', '__repr__', '__rmod__', '__rmul__', '__setattr__', '__sizeof__', '__str__', '__subclasshook__', 'capitalize', 'casefold', 'center', 'count', 'encode', 'endswith', 'expandtabs', 'find', 'format', 'format_map', 'index', 'isalnum', 'isalpha', 'isdecimal', 'isdigit', 'isidentifier', 'islower', 'isnumeric', 'isprintable', 'isspace', 'istitle', 'isupper', 'join', 'ljust', 'lower', 'lstrip', 'maketrans', 'partition', 'replace', 'rfind', 'rindex', 'rjust', 'rpartition', 'rsplit', 'rstrip', 'split', 'splitlines', 'startswith', 'strip', 'swapcase', 'title', 'translate', 'upper', 'zfill']\n"
          ],
          "name": "stdout"
        }
      ]
    },
    {
      "cell_type": "code",
      "metadata": {
        "id": "KW-u-mgGKkbl"
      },
      "source": [
        "pes.zastekej()"
      ],
      "execution_count": null,
      "outputs": []
    },
    {
      "cell_type": "code",
      "metadata": {
        "colab": {
          "base_uri": "https://localhost:8080/"
        },
        "id": "e6RmFh84Kyjr",
        "outputId": "b57515d6-d5e5-4d18-e8f0-f22d3b719805"
      },
      "source": [
        "text = \"Dneska si tu hrajeme s textem. Zajima me kolik tu je celkem pismen a.\"\r\n",
        "print(text.count(\"a\"))"
      ],
      "execution_count": 26,
      "outputs": [
        {
          "output_type": "stream",
          "text": [
            "5\n"
          ],
          "name": "stdout"
        }
      ]
    },
    {
      "cell_type": "code",
      "metadata": {
        "colab": {
          "base_uri": "https://localhost:8080/"
        },
        "id": "2pZOzXz9LjRj",
        "outputId": "69f7db0f-6366-4c5a-9257-c24dff418004"
      },
      "source": [
        "print(text.upper())"
      ],
      "execution_count": 32,
      "outputs": [
        {
          "output_type": "stream",
          "text": [
            "PYTHON JE PYTHON\n"
          ],
          "name": "stdout"
        }
      ]
    },
    {
      "cell_type": "code",
      "metadata": {
        "colab": {
          "base_uri": "https://localhost:8080/"
        },
        "id": "76MVjtPLMCZO",
        "outputId": "fe5171f7-e54c-45ad-be3c-dd26a299a07c"
      },
      "source": [
        "text=\"Python je Python\"\r\n",
        "print(text.count(\"Python\"))"
      ],
      "execution_count": 29,
      "outputs": [
        {
          "output_type": "stream",
          "text": [
            "2\n"
          ],
          "name": "stdout"
        }
      ]
    },
    {
      "cell_type": "code",
      "metadata": {
        "colab": {
          "base_uri": "https://localhost:8080/"
        },
        "id": "lzsCm4qMMRB0",
        "outputId": "3f291a6c-69da-4bf2-8391-f6875353c553"
      },
      "source": [
        "print(text.lower())\r\n",
        "print(text)"
      ],
      "execution_count": 33,
      "outputs": [
        {
          "output_type": "stream",
          "text": [
            "python je python\n",
            "Python je Python\n"
          ],
          "name": "stdout"
        }
      ]
    }
  ]
}