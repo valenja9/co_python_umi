{
  "nbformat": 4,
  "nbformat_minor": 0,
  "metadata": {
    "colab": {
      "name": "Hackneme heureku.ipynb",
      "provenance": [],
      "authorship_tag": "ABX9TyPvAGRjOYPLIMqXkK45GjWk",
      "include_colab_link": true
    },
    "kernelspec": {
      "display_name": "Python 3",
      "name": "python3"
    }
  },
  "cells": [
    {
      "cell_type": "markdown",
      "metadata": {
        "id": "view-in-github",
        "colab_type": "text"
      },
      "source": [
        "<a href=\"https://colab.research.google.com/github/valenja9/co_python_umi/blob/main/Hackneme_heureku.ipynb\" target=\"_parent\"><img src=\"https://colab.research.google.com/assets/colab-badge.svg\" alt=\"Open In Colab\"/></a>"
      ]
    },
    {
      "cell_type": "markdown",
      "metadata": {
        "id": "pE7aHtsuAlc-"
      },
      "source": [
        "# Heureka scraper\r\n"
      ]
    },
    {
      "cell_type": "code",
      "metadata": {
        "id": "OaGtrVskqJMY"
      },
      "source": [
        "#1)knihovny\r\n",
        "import requests\r\n",
        "from bs4 import BeautifulSoup\r\n",
        "from urllib.parse import urljoin\r\n",
        "import pandas as pd"
      ],
      "execution_count": null,
      "outputs": []
    },
    {
      "cell_type": "code",
      "metadata": {
        "colab": {
          "base_uri": "https://localhost:8080/"
        },
        "id": "ZIN5NNZFAgM3",
        "outputId": "d0908ace-29d0-4828-c502-d16535ab0f33"
      },
      "source": [
        "#2)spravne zadani url\r\n",
        "hledam = input(\"Zadej co hledas na Heurece: \")\r\n",
        "spravne_zadane = hledam.replace(\" \",\"+\")\r\n",
        "url = f\"https://www.heureka.cz/?h%5Bfraze%5D={spravne_zadane}\""
      ],
      "execution_count": null,
      "outputs": [
        {
          "output_type": "stream",
          "text": [
            "Zadej co hledas na Heurece: baby yoda\n"
          ],
          "name": "stdout"
        }
      ]
    },
    {
      "cell_type": "code",
      "metadata": {
        "colab": {
          "base_uri": "https://localhost:8080/",
          "height": 35
        },
        "id": "DXpZAb-k8fz6",
        "outputId": "33ba1017-acba-4887-a14c-18e1d04a0f6b"
      },
      "source": [
        "hledam.replace(\" \",\"+\")"
      ],
      "execution_count": null,
      "outputs": [
        {
          "output_type": "execute_result",
          "data": {
            "application/vnd.google.colaboratory.intrinsic+json": {
              "type": "string"
            },
            "text/plain": [
              "'baby+yoda'"
            ]
          },
          "metadata": {
            "tags": []
          },
          "execution_count": 4
        }
      ]
    },
    {
      "cell_type": "code",
      "metadata": {
        "colab": {
          "base_uri": "https://localhost:8080/",
          "height": 35
        },
        "id": "0ducZO-mrHR1",
        "outputId": "90d3650d-10d4-4e73-c2e7-8fe6fabf5096"
      },
      "source": [
        "url"
      ],
      "execution_count": null,
      "outputs": [
        {
          "output_type": "execute_result",
          "data": {
            "application/vnd.google.colaboratory.intrinsic+json": {
              "type": "string"
            },
            "text/plain": [
              "'https://www.heureka.cz/?h%5Bfraze%5D=baby+yoda'"
            ]
          },
          "metadata": {
            "tags": []
          },
          "execution_count": 5
        }
      ]
    },
    {
      "cell_type": "code",
      "metadata": {
        "colab": {
          "base_uri": "https://localhost:8080/"
        },
        "id": "2eFEhDZvHhdq",
        "outputId": "588ca4b6-f138-47f0-d261-87a7076c3cd1"
      },
      "source": [
        "#funkce, ktera zobrabi nase menu\n",
        "def odkazy(odkaz):\n",
        "    \"\"\"Fukce, ktera mi vraci list url adres z daneho odkazu\"\"\"\n",
        "    r = requests.get(odkaz) #Stahneme informace z webu\n",
        "    html = r.text #Prevedeme html na textovou podobu\n",
        "    soup = BeautifulSoup(html, 'html.parser') # Vytvorime html\n",
        "    href_list = [] #Vytvorim novy list\n",
        "    for i, a_elem in enumerate(soup.select(\"a.js-serpSpamScore\")):\n",
        "        print(i,a_elem[\"href\"])\n",
        "        href = urljoin(odkaz, a_elem[\"href\"]) #Spojime puvodni adresu s odkazem na dalsi stranku\n",
        "        print(50*\"-\")\n",
        "        href_list.append(href)\n",
        "    return href_list\n",
        "\n",
        "print(\"Z tohohle muzes vybirat: \")\n",
        "print(50*\"-\")\n",
        "list_mých_informací = []\n",
        "list_odkazu = odkazy(url) #sem zadej adresu!"
      ],
      "execution_count": null,
      "outputs": [
        {
          "output_type": "stream",
          "text": [
            "Z tohohle muzes vybirat: \n",
            "--------------------------------------------------\n",
            "0 https://sberatelske-figurky.heureka.cz/funko-pop-star-wars-the-mandalorian-the-child-with-frog-baby-yoda/\n",
            "--------------------------------------------------\n",
            "1 https://sberatelske-figurky.heureka.cz/funko-pop-star-wars-the-mandalorian-the-child-with-frog-baby-yoda/\n",
            "--------------------------------------------------\n",
            "2 https://sberatelske-figurky.heureka.cz/funko-pop-star-wars-the-mandalorian-the-child-with-frog-baby-yoda/\n",
            "--------------------------------------------------\n",
            "3 https://figurky-zviratka.heureka.cz/hasbro-star-wars-the-mandalorian-the-child-baby-yoda-16-cm/\n",
            "--------------------------------------------------\n",
            "4 https://figurky-zviratka.heureka.cz/hasbro-star-wars-the-mandalorian-the-child-baby-yoda-16-cm/\n",
            "--------------------------------------------------\n",
            "5 https://figurky-zviratka.heureka.cz/hasbro-star-wars-the-mandalorian-the-child-baby-yoda-16-cm/\n",
            "--------------------------------------------------\n",
            "6 https://sberatelske-figurky.heureka.cz/funko-pop-star-wars-mandalorian-baby-yoda-the-child-with-cup-9-cm/\n",
            "--------------------------------------------------\n",
            "7 https://sberatelske-figurky.heureka.cz/funko-pop-star-wars-mandalorian-baby-yoda-the-child-with-cup-9-cm/\n",
            "--------------------------------------------------\n",
            "8 https://sberatelske-figurky.heureka.cz/funko-pop-star-wars-mandalorian-baby-yoda-the-child-with-cup-9-cm/\n",
            "--------------------------------------------------\n",
            "9 https://interaktivni-hracky.heureka.cz/hasbro-baby-yoda-interaktivni-kamarad/\n",
            "--------------------------------------------------\n",
            "10 https://interaktivni-hracky.heureka.cz/hasbro-baby-yoda-interaktivni-kamarad/\n",
            "--------------------------------------------------\n",
            "11 https://interaktivni-hracky.heureka.cz/hasbro-baby-yoda-interaktivni-kamarad/\n",
            "--------------------------------------------------\n",
            "12 https://sberatelske-figurky.heureka.cz/funko-pop-the-mandalorian-super-sized-star-wars-vinyl-baby-yoda-the-child-25-cm/\n",
            "--------------------------------------------------\n",
            "13 https://sberatelske-figurky.heureka.cz/funko-pop-the-mandalorian-super-sized-star-wars-vinyl-baby-yoda-the-child-25-cm/\n",
            "--------------------------------------------------\n",
            "14 https://sberatelske-figurky.heureka.cz/funko-pop-the-mandalorian-super-sized-star-wars-vinyl-baby-yoda-the-child-25-cm/\n",
            "--------------------------------------------------\n",
            "15 https://www.heureka.cz/exit/autabruder-cz/3953432675/?z=15\n",
            "--------------------------------------------------\n",
            "16 https://www.heureka.cz/exit/autabruder-cz/3953432675/?z=15\n",
            "--------------------------------------------------\n",
            "17 https://www.heureka.cz/exit/autabruder-cz/3953432675/?z=15\n",
            "--------------------------------------------------\n",
            "18 https://www.heureka.cz/exit/autabruder-cz/3953432675/?z=15\n",
            "--------------------------------------------------\n",
            "19 https://stolni-hry.heureka.cz/hasbro-monopoly-baby-yoda/\n",
            "--------------------------------------------------\n",
            "20 https://stolni-hry.heureka.cz/hasbro-monopoly-baby-yoda/\n",
            "--------------------------------------------------\n",
            "21 https://stolni-hry.heureka.cz/hasbro-monopoly-baby-yoda/\n",
            "--------------------------------------------------\n",
            "22 https://www.heureka.cz/exit/skritekvitek-cz/3933872857/?z=15\n",
            "--------------------------------------------------\n",
            "23 https://www.heureka.cz/exit/skritekvitek-cz/3933872857/?z=15\n",
            "--------------------------------------------------\n",
            "24 https://www.heureka.cz/exit/skritekvitek-cz/3933872857/?z=15\n",
            "--------------------------------------------------\n",
            "25 https://www.heureka.cz/exit/skritekvitek-cz/3933872857/?z=15\n",
            "--------------------------------------------------\n",
            "26 https://sberatelske-figurky.heureka.cz/funko-pop-star-wars-mandalorian-mandalorian-with-baby-yoda-child-25-cm-super-sized/\n",
            "--------------------------------------------------\n",
            "27 https://sberatelske-figurky.heureka.cz/funko-pop-star-wars-mandalorian-mandalorian-with-baby-yoda-child-25-cm-super-sized/\n",
            "--------------------------------------------------\n",
            "28 https://sberatelske-figurky.heureka.cz/funko-pop-star-wars-mandalorian-mandalorian-with-baby-yoda-child-25-cm-super-sized/\n",
            "--------------------------------------------------\n",
            "29 https://www.heureka.cz/exit/figures-cz/3966356120/?z=15\n",
            "--------------------------------------------------\n",
            "30 https://www.heureka.cz/exit/figures-cz/3966356120/?z=15\n",
            "--------------------------------------------------\n",
            "31 https://www.heureka.cz/exit/figures-cz/3966356120/?z=15\n",
            "--------------------------------------------------\n",
            "32 https://www.heureka.cz/exit/figures-cz/3966356120/?z=15\n",
            "--------------------------------------------------\n",
            "33 https://www.heureka.cz/exit/popplanet-cz/3945269375/?z=15\n",
            "--------------------------------------------------\n",
            "34 https://www.heureka.cz/exit/popplanet-cz/3945269375/?z=15\n",
            "--------------------------------------------------\n",
            "35 https://www.heureka.cz/exit/popplanet-cz/3945269375/?z=15\n",
            "--------------------------------------------------\n",
            "36 https://www.heureka.cz/exit/popplanet-cz/3945269375/?z=15\n",
            "--------------------------------------------------\n",
            "37 https://sberatelske-figurky.heureka.cz/funko-pop-moment-mandalorian-mandalorian-the-child-baby-yoda-15-cm/\n",
            "--------------------------------------------------\n",
            "38 https://sberatelske-figurky.heureka.cz/funko-pop-moment-mandalorian-mandalorian-the-child-baby-yoda-15-cm/\n",
            "--------------------------------------------------\n",
            "39 https://sberatelske-figurky.heureka.cz/funko-pop-moment-mandalorian-mandalorian-the-child-baby-yoda-15-cm/\n",
            "--------------------------------------------------\n",
            "40 https://puzzle.heureka.cz/ravensburger-165612-the-mandalorian-baby-yoda-500-dilku/\n",
            "--------------------------------------------------\n",
            "41 https://puzzle.heureka.cz/ravensburger-165612-the-mandalorian-baby-yoda-500-dilku/\n",
            "--------------------------------------------------\n",
            "42 https://puzzle.heureka.cz/ravensburger-165612-the-mandalorian-baby-yoda-500-dilku/\n",
            "--------------------------------------------------\n",
            "43 https://www.heureka.cz/exit/figures-cz/3873197962/?z=15\n",
            "--------------------------------------------------\n",
            "44 https://www.heureka.cz/exit/figures-cz/3873197962/?z=15\n",
            "--------------------------------------------------\n",
            "45 https://www.heureka.cz/exit/figures-cz/3873197962/?z=15\n",
            "--------------------------------------------------\n",
            "46 https://www.heureka.cz/exit/figures-cz/3873197962/?z=15\n",
            "--------------------------------------------------\n",
            "47 https://sberatelske-figurky.heureka.cz/funko-pop-star-wars-the-mandalorian-the-child-25-cm-baby-yoda/\n",
            "--------------------------------------------------\n",
            "48 https://sberatelske-figurky.heureka.cz/funko-pop-star-wars-the-mandalorian-the-child-25-cm-baby-yoda/\n",
            "--------------------------------------------------\n",
            "49 https://sberatelske-figurky.heureka.cz/funko-pop-star-wars-the-mandalorian-the-child-25-cm-baby-yoda/\n",
            "--------------------------------------------------\n",
            "50 https://www.heureka.cz/exit/dudlu-cz/3917661084/?z=15\n",
            "--------------------------------------------------\n",
            "51 https://www.heureka.cz/exit/dudlu-cz/3917661084/?z=15\n",
            "--------------------------------------------------\n",
            "52 https://www.heureka.cz/exit/dudlu-cz/3917661084/?z=15\n",
            "--------------------------------------------------\n",
            "53 https://www.heureka.cz/exit/dudlu-cz/3917661084/?z=15\n",
            "--------------------------------------------------\n",
            "54 https://www.heureka.cz/exit/figures-cz/3925817580/?z=15\n",
            "--------------------------------------------------\n",
            "55 https://www.heureka.cz/exit/figures-cz/3925817580/?z=15\n",
            "--------------------------------------------------\n",
            "56 https://www.heureka.cz/exit/figures-cz/3925817580/?z=15\n",
            "--------------------------------------------------\n",
            "57 https://www.heureka.cz/exit/figures-cz/3925817580/?z=15\n",
            "--------------------------------------------------\n",
            "58 https://www.heureka.cz/exit/figures-cz/3935120987/?z=15\n",
            "--------------------------------------------------\n",
            "59 https://www.heureka.cz/exit/figures-cz/3935120987/?z=15\n",
            "--------------------------------------------------\n",
            "60 https://www.heureka.cz/exit/figures-cz/3935120987/?z=15\n",
            "--------------------------------------------------\n",
            "61 https://www.heureka.cz/exit/figures-cz/3935120987/?z=15\n",
            "--------------------------------------------------\n",
            "62 https://panska-tricka.heureka.cz/fantasyobchod-tricko-star-wars-mandalorian-baby-yoda-sketch/\n",
            "--------------------------------------------------\n",
            "63 https://panska-tricka.heureka.cz/fantasyobchod-tricko-star-wars-mandalorian-baby-yoda-sketch/\n",
            "--------------------------------------------------\n",
            "64 https://panska-tricka.heureka.cz/fantasyobchod-tricko-star-wars-mandalorian-baby-yoda-sketch/\n",
            "--------------------------------------------------\n",
            "65 https://www.heureka.cz/exit/zando-cz/3695491640/?z=15\n",
            "--------------------------------------------------\n",
            "66 https://www.heureka.cz/exit/zando-cz/3695491640/?z=15\n",
            "--------------------------------------------------\n",
            "67 https://www.heureka.cz/exit/zando-cz/3695491640/?z=15\n",
            "--------------------------------------------------\n"
          ],
          "name": "stdout"
        }
      ]
    },
    {
      "cell_type": "code",
      "metadata": {
        "colab": {
          "base_uri": "https://localhost:8080/"
        },
        "id": "iXz6CnUptNPR",
        "outputId": "ab158abc-7b14-440f-ce30-943aa826a6fe"
      },
      "source": [
        "#Z tohohle budeme vybirat\r\n",
        "list_odkazu"
      ],
      "execution_count": null,
      "outputs": [
        {
          "output_type": "execute_result",
          "data": {
            "text/plain": [
              "['https://sberatelske-figurky.heureka.cz/funko-pop-star-wars-the-mandalorian-the-child-with-frog-baby-yoda/',\n",
              " 'https://sberatelske-figurky.heureka.cz/funko-pop-star-wars-the-mandalorian-the-child-with-frog-baby-yoda/',\n",
              " 'https://sberatelske-figurky.heureka.cz/funko-pop-star-wars-the-mandalorian-the-child-with-frog-baby-yoda/',\n",
              " 'https://figurky-zviratka.heureka.cz/hasbro-star-wars-the-mandalorian-the-child-baby-yoda-16-cm/',\n",
              " 'https://figurky-zviratka.heureka.cz/hasbro-star-wars-the-mandalorian-the-child-baby-yoda-16-cm/',\n",
              " 'https://figurky-zviratka.heureka.cz/hasbro-star-wars-the-mandalorian-the-child-baby-yoda-16-cm/',\n",
              " 'https://sberatelske-figurky.heureka.cz/funko-pop-star-wars-mandalorian-baby-yoda-the-child-with-cup-9-cm/',\n",
              " 'https://sberatelske-figurky.heureka.cz/funko-pop-star-wars-mandalorian-baby-yoda-the-child-with-cup-9-cm/',\n",
              " 'https://sberatelske-figurky.heureka.cz/funko-pop-star-wars-mandalorian-baby-yoda-the-child-with-cup-9-cm/',\n",
              " 'https://interaktivni-hracky.heureka.cz/hasbro-baby-yoda-interaktivni-kamarad/',\n",
              " 'https://interaktivni-hracky.heureka.cz/hasbro-baby-yoda-interaktivni-kamarad/',\n",
              " 'https://interaktivni-hracky.heureka.cz/hasbro-baby-yoda-interaktivni-kamarad/',\n",
              " 'https://sberatelske-figurky.heureka.cz/funko-pop-the-mandalorian-super-sized-star-wars-vinyl-baby-yoda-the-child-25-cm/',\n",
              " 'https://sberatelske-figurky.heureka.cz/funko-pop-the-mandalorian-super-sized-star-wars-vinyl-baby-yoda-the-child-25-cm/',\n",
              " 'https://sberatelske-figurky.heureka.cz/funko-pop-the-mandalorian-super-sized-star-wars-vinyl-baby-yoda-the-child-25-cm/',\n",
              " 'https://www.heureka.cz/exit/autabruder-cz/3953432675/?z=15',\n",
              " 'https://www.heureka.cz/exit/autabruder-cz/3953432675/?z=15',\n",
              " 'https://www.heureka.cz/exit/autabruder-cz/3953432675/?z=15',\n",
              " 'https://www.heureka.cz/exit/autabruder-cz/3953432675/?z=15',\n",
              " 'https://stolni-hry.heureka.cz/hasbro-monopoly-baby-yoda/',\n",
              " 'https://stolni-hry.heureka.cz/hasbro-monopoly-baby-yoda/',\n",
              " 'https://stolni-hry.heureka.cz/hasbro-monopoly-baby-yoda/',\n",
              " 'https://www.heureka.cz/exit/skritekvitek-cz/3933872857/?z=15',\n",
              " 'https://www.heureka.cz/exit/skritekvitek-cz/3933872857/?z=15',\n",
              " 'https://www.heureka.cz/exit/skritekvitek-cz/3933872857/?z=15',\n",
              " 'https://www.heureka.cz/exit/skritekvitek-cz/3933872857/?z=15',\n",
              " 'https://sberatelske-figurky.heureka.cz/funko-pop-star-wars-mandalorian-mandalorian-with-baby-yoda-child-25-cm-super-sized/',\n",
              " 'https://sberatelske-figurky.heureka.cz/funko-pop-star-wars-mandalorian-mandalorian-with-baby-yoda-child-25-cm-super-sized/',\n",
              " 'https://sberatelske-figurky.heureka.cz/funko-pop-star-wars-mandalorian-mandalorian-with-baby-yoda-child-25-cm-super-sized/',\n",
              " 'https://www.heureka.cz/exit/figures-cz/3966356120/?z=15',\n",
              " 'https://www.heureka.cz/exit/figures-cz/3966356120/?z=15',\n",
              " 'https://www.heureka.cz/exit/figures-cz/3966356120/?z=15',\n",
              " 'https://www.heureka.cz/exit/figures-cz/3966356120/?z=15',\n",
              " 'https://www.heureka.cz/exit/popplanet-cz/3945269375/?z=15',\n",
              " 'https://www.heureka.cz/exit/popplanet-cz/3945269375/?z=15',\n",
              " 'https://www.heureka.cz/exit/popplanet-cz/3945269375/?z=15',\n",
              " 'https://www.heureka.cz/exit/popplanet-cz/3945269375/?z=15',\n",
              " 'https://sberatelske-figurky.heureka.cz/funko-pop-moment-mandalorian-mandalorian-the-child-baby-yoda-15-cm/',\n",
              " 'https://sberatelske-figurky.heureka.cz/funko-pop-moment-mandalorian-mandalorian-the-child-baby-yoda-15-cm/',\n",
              " 'https://sberatelske-figurky.heureka.cz/funko-pop-moment-mandalorian-mandalorian-the-child-baby-yoda-15-cm/',\n",
              " 'https://puzzle.heureka.cz/ravensburger-165612-the-mandalorian-baby-yoda-500-dilku/',\n",
              " 'https://puzzle.heureka.cz/ravensburger-165612-the-mandalorian-baby-yoda-500-dilku/',\n",
              " 'https://puzzle.heureka.cz/ravensburger-165612-the-mandalorian-baby-yoda-500-dilku/',\n",
              " 'https://www.heureka.cz/exit/figures-cz/3873197962/?z=15',\n",
              " 'https://www.heureka.cz/exit/figures-cz/3873197962/?z=15',\n",
              " 'https://www.heureka.cz/exit/figures-cz/3873197962/?z=15',\n",
              " 'https://www.heureka.cz/exit/figures-cz/3873197962/?z=15',\n",
              " 'https://sberatelske-figurky.heureka.cz/funko-pop-star-wars-the-mandalorian-the-child-25-cm-baby-yoda/',\n",
              " 'https://sberatelske-figurky.heureka.cz/funko-pop-star-wars-the-mandalorian-the-child-25-cm-baby-yoda/',\n",
              " 'https://sberatelske-figurky.heureka.cz/funko-pop-star-wars-the-mandalorian-the-child-25-cm-baby-yoda/',\n",
              " 'https://www.heureka.cz/exit/dudlu-cz/3917661084/?z=15',\n",
              " 'https://www.heureka.cz/exit/dudlu-cz/3917661084/?z=15',\n",
              " 'https://www.heureka.cz/exit/dudlu-cz/3917661084/?z=15',\n",
              " 'https://www.heureka.cz/exit/dudlu-cz/3917661084/?z=15',\n",
              " 'https://www.heureka.cz/exit/figures-cz/3925817580/?z=15',\n",
              " 'https://www.heureka.cz/exit/figures-cz/3925817580/?z=15',\n",
              " 'https://www.heureka.cz/exit/figures-cz/3925817580/?z=15',\n",
              " 'https://www.heureka.cz/exit/figures-cz/3925817580/?z=15',\n",
              " 'https://www.heureka.cz/exit/figures-cz/3935120987/?z=15',\n",
              " 'https://www.heureka.cz/exit/figures-cz/3935120987/?z=15',\n",
              " 'https://www.heureka.cz/exit/figures-cz/3935120987/?z=15',\n",
              " 'https://www.heureka.cz/exit/figures-cz/3935120987/?z=15',\n",
              " 'https://panska-tricka.heureka.cz/fantasyobchod-tricko-star-wars-mandalorian-baby-yoda-sketch/',\n",
              " 'https://panska-tricka.heureka.cz/fantasyobchod-tricko-star-wars-mandalorian-baby-yoda-sketch/',\n",
              " 'https://panska-tricka.heureka.cz/fantasyobchod-tricko-star-wars-mandalorian-baby-yoda-sketch/',\n",
              " 'https://www.heureka.cz/exit/zando-cz/3695491640/?z=15',\n",
              " 'https://www.heureka.cz/exit/zando-cz/3695491640/?z=15',\n",
              " 'https://www.heureka.cz/exit/zando-cz/3695491640/?z=15']"
            ]
          },
          "metadata": {
            "tags": []
          },
          "execution_count": 10
        }
      ]
    },
    {
      "cell_type": "markdown",
      "metadata": {
        "id": "vQp8YJnT9yVn"
      },
      "source": [
        "#Nas hlavni kod"
      ]
    },
    {
      "cell_type": "code",
      "metadata": {
        "colab": {
          "base_uri": "https://localhost:8080/"
        },
        "id": "jzA-xmmhYh8r",
        "outputId": "257bb73c-4842-4665-ada7-cfd035721092"
      },
      "source": [
        "#Vytvoreni stazeni dat a vytvoreni polivky\r\n",
        "url =  list_odkazu[int(input(\"Zadej index tve volby: \"))]\r\n",
        "print(url)\r\n",
        "r = requests.get(url)\r\n",
        "html = r.text\r\n",
        "soup = BeautifulSoup(html, 'html.parser')\r\n",
        "\r\n",
        "\r\n",
        "#Data ulozime do slovniku   stahujeme()\r\n",
        "slovnik_vybranych_darku = {}\r\n",
        "for cena, jmeno, url_na_koupi in zip(soup.select(\"a.pricen\"), soup.select(\".logoshop a\"), soup.select(\"a.flat-button\")):\r\n",
        "  slovnik_vybranych_darku[jmeno.text]  = [int(cena.text[:-3])] + [jmeno.text] + [url_na_koupi[\"href\"] if \"#\" not in url_na_koupi[\"href\"] else url]\r\n",
        "slovnik_vybranych_darku"
      ],
      "execution_count": null,
      "outputs": [
        {
          "output_type": "stream",
          "text": [
            "Zadej index tve volby: 22\n",
            "https://sberatelske-figurky.heureka.cz/funko-pop-heroes-batman-forever-two-face-9-cm/\n"
          ],
          "name": "stdout"
        },
        {
          "output_type": "execute_result",
          "data": {
            "text/plain": [
              "{'': [337,\n",
              "  '',\n",
              "  'https://www.heureka.cz/exit/pipkin-cz/3885429753/?z=2&p=9&tb=0'],\n",
              " 'BabyMall.cz': [368,\n",
              "  'BabyMall.cz',\n",
              "  'https://www.heureka.cz/exit/megacomics-cz/3960718136/?z=2&p=24&tb=0'],\n",
              " 'Bílá Myš': [369,\n",
              "  'Bílá Myš',\n",
              "  'https://www.heureka.cz/exit/babymall-cz/3907667280/?z=2&p=25&tb=0'],\n",
              " 'CZC.cz': [399,\n",
              "  'CZC.cz',\n",
              "  'https://www.heureka.cz/exit/ludopolis-cz/3896379908/?z=2&p=28&tb=0'],\n",
              " 'EasyToys': [337,\n",
              "  'EasyToys',\n",
              "  'https://www.heureka.cz/exit/fonetip-cz/3977346902/?z=2&p=12&tb=0'],\n",
              " 'GameExpres.cz': [399,\n",
              "  'GameExpres.cz',\n",
              "  'https://www.heureka.cz/exit/xzone-cz/3786213214/?z=2&p=29&tb=0'],\n",
              " 'Gamebrand.cz': [390,\n",
              "  'Gamebrand.cz',\n",
              "  'https://www.heureka.cz/exit/bilamys-com/3968189258/?z=2&p=26&tb=0'],\n",
              " 'Herní svět': [339,\n",
              "  'Herní svět',\n",
              "  'https://www.heureka.cz/exit/puppepop-cz/3964101942/?z=2&p=15&tb=0'],\n",
              " 'HerníCentro.cz': [345,\n",
              "  'HerníCentro.cz',\n",
              "  'https://www.heureka.cz/exit/papirnictvioskarek-cz/3900313805/?z=2&p=17&tb=0'],\n",
              " 'Hračkárna.cz': [337,\n",
              "  'Hračkárna.cz',\n",
              "  'https://www.heureka.cz/exit/easytoys-cz/3977267913/?z=2&p=11&tb=0'],\n",
              " 'JRC Czech': [399,\n",
              "  'JRC Czech',\n",
              "  'https://sberatelske-figurky.heureka.cz/funko-pop-heroes-batman-forever-two-face-9-cm/'],\n",
              " 'Ludopolis': [394,\n",
              "  'Ludopolis',\n",
              "  'https://sberatelske-figurky.heureka.cz/funko-pop-heroes-batman-forever-two-face-9-cm/'],\n",
              " 'MegaComics': [359,\n",
              "  'MegaComics',\n",
              "  'https://www.heureka.cz/exit/modelina-cz/3978847777/?z=2&p=23&tb=0'],\n",
              " 'MegaHračky.cz': [357,\n",
              "  'MegaHračky.cz',\n",
              "  'https://www.heureka.cz/exit/popplanet-cz/3699430700/?z=2&p=21&tb=0'],\n",
              " 'Modelína.cz': [357,\n",
              "  'Modelína.cz',\n",
              "  'https://www.heureka.cz/exit/megahracky-cz/3977690669/?z=2&p=22&tb=0'],\n",
              " 'Mrakyhraček': [337,\n",
              "  'Mrakyhraček',\n",
              "  'https://www.heureka.cz/exit/hrackarna-cz/3977176302/?z=2&p=13&tb=0'],\n",
              " 'Oskárek': [339,\n",
              "  'Oskárek',\n",
              "  'https://www.heureka.cz/exit/herni-svet-cz/3857919349/?z=2&p=16&tb=0'],\n",
              " 'Pop Planet': [353,\n",
              "  'Pop Planet',\n",
              "  'https://www.heureka.cz/exit/rajhracky-cz/3884949317/?z=2&p=20&tb=0'],\n",
              " 'Puppepop': [339,\n",
              "  'Puppepop',\n",
              "  'https://www.heureka.cz/exit/minotaur-cz/3888814163/?z=2&p=14&tb=0'],\n",
              " 'Rajhracky.cz': [352,\n",
              "  'Rajhracky.cz',\n",
              "  'https://www.heureka.cz/exit/svetkomiksu-cz/3918296645/?z=2&p=19&tb=0'],\n",
              " 'Svět Komiksu': [350,\n",
              "  'Svět Komiksu',\n",
              "  'https://www.heureka.cz/exit/hernicentro-cz/3905499041/?z=2&p=18&tb=0'],\n",
              " 'minotaur.cz': [339,\n",
              "  'minotaur.cz',\n",
              "  'https://www.heureka.cz/exit/mrakyhracek-cz/3977010872/?z=2&p=10&tb=0'],\n",
              " 'xzone.cz': [399,\n",
              "  'xzone.cz',\n",
              "  'https://www.heureka.cz/exit/gamebrand-cz/3897237748/?z=2&p=27&tb=0']}"
            ]
          },
          "metadata": {
            "tags": []
          },
          "execution_count": 116
        }
      ]
    },
    {
      "cell_type": "code",
      "metadata": {
        "colab": {
          "base_uri": "https://localhost:8080/"
        },
        "id": "PdijMR-aQfSy",
        "outputId": "33453e67-4f92-4214-96e9-c027686edc95"
      },
      "source": [
        "slovnik_vybranych_darku"
      ],
      "execution_count": null,
      "outputs": [
        {
          "output_type": "execute_result",
          "data": {
            "text/plain": [
              "{'': [337,\n",
              "  '',\n",
              "  'https://www.heureka.cz/exit/pipkin-cz/3885429753/?z=2&p=9&tb=0'],\n",
              " 'BabyMall.cz': [368,\n",
              "  'BabyMall.cz',\n",
              "  'https://www.heureka.cz/exit/megacomics-cz/3960718136/?z=2&p=24&tb=0'],\n",
              " 'Bílá Myš': [369,\n",
              "  'Bílá Myš',\n",
              "  'https://www.heureka.cz/exit/babymall-cz/3907667280/?z=2&p=25&tb=0'],\n",
              " 'CZC.cz': [399,\n",
              "  'CZC.cz',\n",
              "  'https://www.heureka.cz/exit/ludopolis-cz/3896379908/?z=2&p=28&tb=0'],\n",
              " 'EasyToys': [337,\n",
              "  'EasyToys',\n",
              "  'https://www.heureka.cz/exit/fonetip-cz/3977346902/?z=2&p=12&tb=0'],\n",
              " 'GameExpres.cz': [399,\n",
              "  'GameExpres.cz',\n",
              "  'https://www.heureka.cz/exit/xzone-cz/3786213214/?z=2&p=29&tb=0'],\n",
              " 'Gamebrand.cz': [390,\n",
              "  'Gamebrand.cz',\n",
              "  'https://www.heureka.cz/exit/bilamys-com/3968189258/?z=2&p=26&tb=0'],\n",
              " 'Herní svět': [339,\n",
              "  'Herní svět',\n",
              "  'https://www.heureka.cz/exit/puppepop-cz/3964101942/?z=2&p=15&tb=0'],\n",
              " 'HerníCentro.cz': [345,\n",
              "  'HerníCentro.cz',\n",
              "  'https://www.heureka.cz/exit/papirnictvioskarek-cz/3900313805/?z=2&p=17&tb=0'],\n",
              " 'Hračkárna.cz': [337,\n",
              "  'Hračkárna.cz',\n",
              "  'https://www.heureka.cz/exit/easytoys-cz/3977267913/?z=2&p=11&tb=0'],\n",
              " 'JRC Czech': [399,\n",
              "  'JRC Czech',\n",
              "  'https://sberatelske-figurky.heureka.cz/funko-pop-heroes-batman-forever-two-face-9-cm/'],\n",
              " 'Ludopolis': [394,\n",
              "  'Ludopolis',\n",
              "  'https://sberatelske-figurky.heureka.cz/funko-pop-heroes-batman-forever-two-face-9-cm/'],\n",
              " 'MegaComics': [359,\n",
              "  'MegaComics',\n",
              "  'https://www.heureka.cz/exit/modelina-cz/3978847777/?z=2&p=23&tb=0'],\n",
              " 'MegaHračky.cz': [357,\n",
              "  'MegaHračky.cz',\n",
              "  'https://www.heureka.cz/exit/popplanet-cz/3699430700/?z=2&p=21&tb=0'],\n",
              " 'Modelína.cz': [357,\n",
              "  'Modelína.cz',\n",
              "  'https://www.heureka.cz/exit/megahracky-cz/3977690669/?z=2&p=22&tb=0'],\n",
              " 'Mrakyhraček': [337,\n",
              "  'Mrakyhraček',\n",
              "  'https://www.heureka.cz/exit/hrackarna-cz/3977176302/?z=2&p=13&tb=0'],\n",
              " 'Oskárek': [339,\n",
              "  'Oskárek',\n",
              "  'https://www.heureka.cz/exit/herni-svet-cz/3857919349/?z=2&p=16&tb=0'],\n",
              " 'Pop Planet': [353,\n",
              "  'Pop Planet',\n",
              "  'https://www.heureka.cz/exit/rajhracky-cz/3884949317/?z=2&p=20&tb=0'],\n",
              " 'Puppepop': [339,\n",
              "  'Puppepop',\n",
              "  'https://www.heureka.cz/exit/minotaur-cz/3888814163/?z=2&p=14&tb=0'],\n",
              " 'Rajhracky.cz': [352,\n",
              "  'Rajhracky.cz',\n",
              "  'https://www.heureka.cz/exit/svetkomiksu-cz/3918296645/?z=2&p=19&tb=0'],\n",
              " 'Svět Komiksu': [350,\n",
              "  'Svět Komiksu',\n",
              "  'https://www.heureka.cz/exit/hernicentro-cz/3905499041/?z=2&p=18&tb=0'],\n",
              " 'minotaur.cz': [339,\n",
              "  'minotaur.cz',\n",
              "  'https://www.heureka.cz/exit/mrakyhracek-cz/3977010872/?z=2&p=10&tb=0'],\n",
              " 'xzone.cz': [399,\n",
              "  'xzone.cz',\n",
              "  'https://www.heureka.cz/exit/gamebrand-cz/3897237748/?z=2&p=27&tb=0']}"
            ]
          },
          "metadata": {
            "tags": []
          },
          "execution_count": 117
        }
      ]
    },
    {
      "cell_type": "code",
      "metadata": {
        "colab": {
          "base_uri": "https://localhost:8080/"
        },
        "id": "UjwFu6elRZYN",
        "outputId": "6056f370-dacd-452f-f89e-66a9ef077e70"
      },
      "source": [
        "len(soup.select(\"a.pricen\"))"
      ],
      "execution_count": null,
      "outputs": [
        {
          "output_type": "execute_result",
          "data": {
            "text/plain": [
              "5"
            ]
          },
          "metadata": {
            "tags": []
          },
          "execution_count": 60
        }
      ]
    },
    {
      "cell_type": "code",
      "metadata": {
        "id": "mkWrsne0-Ifx"
      },
      "source": [
        "url_na_koupi[\"href\"] if \"#\" not in url_na_koupi[\"href\"] else url"
      ],
      "execution_count": null,
      "outputs": []
    },
    {
      "cell_type": "code",
      "metadata": {
        "colab": {
          "base_uri": "https://localhost:8080/",
          "height": 35
        },
        "id": "eYgM2xhy2E8J",
        "outputId": "2b83e5a8-bec9-49f5-e446-7dea2d7fcad0"
      },
      "source": [
        "'399 Kč'[:-3]"
      ],
      "execution_count": null,
      "outputs": [
        {
          "output_type": "execute_result",
          "data": {
            "application/vnd.google.colaboratory.intrinsic+json": {
              "type": "string"
            },
            "text/plain": [
              "'399'"
            ]
          },
          "metadata": {
            "tags": []
          },
          "execution_count": 259
        }
      ]
    },
    {
      "cell_type": "code",
      "metadata": {
        "colab": {
          "base_uri": "https://localhost:8080/"
        },
        "id": "AAUryeRF1Llc",
        "outputId": "05f23cc0-c46d-40f3-b81e-84718ed6a904"
      },
      "source": [
        "slovnik_vybranych_darku"
      ],
      "execution_count": null,
      "outputs": [
        {
          "output_type": "execute_result",
          "data": {
            "text/plain": [
              "{}"
            ]
          },
          "metadata": {
            "tags": []
          },
          "execution_count": 96
        }
      ]
    },
    {
      "cell_type": "code",
      "metadata": {
        "colab": {
          "base_uri": "https://localhost:8080/",
          "height": 202
        },
        "id": "S9OAm_XtpfgS",
        "outputId": "119a80b2-c947-4586-de4b-24ed1f237415"
      },
      "source": [
        "pd.DataFrame(slovnik_vybranych_darku, index=[\"Cena\", \"Jmeno obchodu\",\"url_adresa\"])"
      ],
      "execution_count": null,
      "outputs": [
        {
          "output_type": "execute_result",
          "data": {
            "text/html": [
              "<div>\n",
              "<style scoped>\n",
              "    .dataframe tbody tr th:only-of-type {\n",
              "        vertical-align: middle;\n",
              "    }\n",
              "\n",
              "    .dataframe tbody tr th {\n",
              "        vertical-align: top;\n",
              "    }\n",
              "\n",
              "    .dataframe thead th {\n",
              "        text-align: right;\n",
              "    }\n",
              "</style>\n",
              "<table border=\"1\" class=\"dataframe\">\n",
              "  <thead>\n",
              "    <tr style=\"text-align: right;\">\n",
              "      <th></th>\n",
              "      <th></th>\n",
              "      <th>EasyToys</th>\n",
              "      <th>Hračkárna.cz</th>\n",
              "      <th>Mrakyhraček</th>\n",
              "      <th>minotaur.cz</th>\n",
              "      <th>Puppepop</th>\n",
              "      <th>Herní svět</th>\n",
              "      <th>Oskárek</th>\n",
              "      <th>HerníCentro.cz</th>\n",
              "      <th>Svět Komiksu</th>\n",
              "      <th>Rajhracky.cz</th>\n",
              "      <th>Pop Planet</th>\n",
              "      <th>MegaHračky.cz</th>\n",
              "      <th>Modelína.cz</th>\n",
              "      <th>MegaComics</th>\n",
              "      <th>BabyMall.cz</th>\n",
              "      <th>Bílá Myš</th>\n",
              "      <th>Gamebrand.cz</th>\n",
              "      <th>Ludopolis</th>\n",
              "      <th>xzone.cz</th>\n",
              "      <th>CZC.cz</th>\n",
              "      <th>JRC Czech</th>\n",
              "      <th>GameExpres.cz</th>\n",
              "    </tr>\n",
              "  </thead>\n",
              "  <tbody>\n",
              "    <tr>\n",
              "      <th>Cena</th>\n",
              "      <td>337</td>\n",
              "      <td>337</td>\n",
              "      <td>337</td>\n",
              "      <td>337</td>\n",
              "      <td>339</td>\n",
              "      <td>339</td>\n",
              "      <td>339</td>\n",
              "      <td>339</td>\n",
              "      <td>345</td>\n",
              "      <td>350</td>\n",
              "      <td>352</td>\n",
              "      <td>353</td>\n",
              "      <td>357</td>\n",
              "      <td>357</td>\n",
              "      <td>359</td>\n",
              "      <td>368</td>\n",
              "      <td>369</td>\n",
              "      <td>390</td>\n",
              "      <td>394</td>\n",
              "      <td>399</td>\n",
              "      <td>399</td>\n",
              "      <td>399</td>\n",
              "      <td>399</td>\n",
              "    </tr>\n",
              "    <tr>\n",
              "      <th>Jmeno obchodu</th>\n",
              "      <td></td>\n",
              "      <td>EasyToys</td>\n",
              "      <td>Hračkárna.cz</td>\n",
              "      <td>Mrakyhraček</td>\n",
              "      <td>minotaur.cz</td>\n",
              "      <td>Puppepop</td>\n",
              "      <td>Herní svět</td>\n",
              "      <td>Oskárek</td>\n",
              "      <td>HerníCentro.cz</td>\n",
              "      <td>Svět Komiksu</td>\n",
              "      <td>Rajhracky.cz</td>\n",
              "      <td>Pop Planet</td>\n",
              "      <td>MegaHračky.cz</td>\n",
              "      <td>Modelína.cz</td>\n",
              "      <td>MegaComics</td>\n",
              "      <td>BabyMall.cz</td>\n",
              "      <td>Bílá Myš</td>\n",
              "      <td>Gamebrand.cz</td>\n",
              "      <td>Ludopolis</td>\n",
              "      <td>xzone.cz</td>\n",
              "      <td>CZC.cz</td>\n",
              "      <td>JRC Czech</td>\n",
              "      <td>GameExpres.cz</td>\n",
              "    </tr>\n",
              "    <tr>\n",
              "      <th>url_adresa</th>\n",
              "      <td>https://www.heureka.cz/exit/pipkin-cz/38854297...</td>\n",
              "      <td>https://www.heureka.cz/exit/fonetip-cz/3977346...</td>\n",
              "      <td>https://www.heureka.cz/exit/easytoys-cz/397726...</td>\n",
              "      <td>https://www.heureka.cz/exit/hrackarna-cz/39771...</td>\n",
              "      <td>https://www.heureka.cz/exit/mrakyhracek-cz/397...</td>\n",
              "      <td>https://www.heureka.cz/exit/minotaur-cz/388881...</td>\n",
              "      <td>https://www.heureka.cz/exit/puppepop-cz/396410...</td>\n",
              "      <td>https://www.heureka.cz/exit/herni-svet-cz/3857...</td>\n",
              "      <td>https://www.heureka.cz/exit/papirnictvioskarek...</td>\n",
              "      <td>https://www.heureka.cz/exit/hernicentro-cz/390...</td>\n",
              "      <td>https://www.heureka.cz/exit/svetkomiksu-cz/391...</td>\n",
              "      <td>https://www.heureka.cz/exit/rajhracky-cz/38849...</td>\n",
              "      <td>https://www.heureka.cz/exit/popplanet-cz/36994...</td>\n",
              "      <td>https://www.heureka.cz/exit/megahracky-cz/3977...</td>\n",
              "      <td>https://www.heureka.cz/exit/modelina-cz/397884...</td>\n",
              "      <td>https://www.heureka.cz/exit/megacomics-cz/3960...</td>\n",
              "      <td>https://www.heureka.cz/exit/babymall-cz/390766...</td>\n",
              "      <td>https://www.heureka.cz/exit/bilamys-com/396818...</td>\n",
              "      <td>https://sberatelske-figurky.heureka.cz/funko-p...</td>\n",
              "      <td>https://www.heureka.cz/exit/gamebrand-cz/38972...</td>\n",
              "      <td>https://www.heureka.cz/exit/ludopolis-cz/38963...</td>\n",
              "      <td>https://sberatelske-figurky.heureka.cz/funko-p...</td>\n",
              "      <td>https://www.heureka.cz/exit/xzone-cz/378621321...</td>\n",
              "    </tr>\n",
              "  </tbody>\n",
              "</table>\n",
              "</div>"
            ],
            "text/plain": [
              "                                                                  ...                                      GameExpres.cz\n",
              "Cena                                                         337  ...                                                399\n",
              "Jmeno obchodu                                                     ...                                      GameExpres.cz\n",
              "url_adresa     https://www.heureka.cz/exit/pipkin-cz/38854297...  ...  https://www.heureka.cz/exit/xzone-cz/378621321...\n",
              "\n",
              "[3 rows x 23 columns]"
            ]
          },
          "metadata": {
            "tags": []
          },
          "execution_count": 118
        }
      ]
    },
    {
      "cell_type": "code",
      "metadata": {
        "id": "DybBLgAvw_2d"
      },
      "source": [
        "moje_data = pd.DataFrame(slovnik_vybranych_darku).T #index=[\"Cena\", \"Jmeno obchodu\",\"url_adresa\"]"
      ],
      "execution_count": null,
      "outputs": []
    },
    {
      "cell_type": "code",
      "metadata": {
        "colab": {
          "background_save": true,
          "base_uri": "https://localhost:8080/",
          "height": 708
        },
        "id": "nbJqdN1k-u98",
        "outputId": "2f643dbe-e7b5-4624-fb55-74df278f26b1"
      },
      "source": [
        "moje_data"
      ],
      "execution_count": null,
      "outputs": [
        {
          "output_type": "execute_result",
          "data": {
            "text/html": [
              "<div>\n",
              "<style scoped>\n",
              "    .dataframe tbody tr th:only-of-type {\n",
              "        vertical-align: middle;\n",
              "    }\n",
              "\n",
              "    .dataframe tbody tr th {\n",
              "        vertical-align: top;\n",
              "    }\n",
              "\n",
              "    .dataframe thead th {\n",
              "        text-align: right;\n",
              "    }\n",
              "</style>\n",
              "<table border=\"1\" class=\"dataframe\">\n",
              "  <thead>\n",
              "    <tr style=\"text-align: right;\">\n",
              "      <th></th>\n",
              "      <th>Cena</th>\n",
              "      <th>Jmeno obchodu</th>\n",
              "      <th>url_adresa</th>\n",
              "    </tr>\n",
              "  </thead>\n",
              "  <tbody>\n",
              "    <tr>\n",
              "      <th></th>\n",
              "      <td>337</td>\n",
              "      <td></td>\n",
              "      <td>https://www.heureka.cz/exit/pipkin-cz/38854297...</td>\n",
              "    </tr>\n",
              "    <tr>\n",
              "      <th>EasyToys</th>\n",
              "      <td>337</td>\n",
              "      <td>EasyToys</td>\n",
              "      <td>https://www.heureka.cz/exit/fonetip-cz/3977346...</td>\n",
              "    </tr>\n",
              "    <tr>\n",
              "      <th>Hračkárna.cz</th>\n",
              "      <td>337</td>\n",
              "      <td>Hračkárna.cz</td>\n",
              "      <td>https://www.heureka.cz/exit/easytoys-cz/397726...</td>\n",
              "    </tr>\n",
              "    <tr>\n",
              "      <th>Mrakyhraček</th>\n",
              "      <td>337</td>\n",
              "      <td>Mrakyhraček</td>\n",
              "      <td>https://www.heureka.cz/exit/hrackarna-cz/39771...</td>\n",
              "    </tr>\n",
              "    <tr>\n",
              "      <th>minotaur.cz</th>\n",
              "      <td>339</td>\n",
              "      <td>minotaur.cz</td>\n",
              "      <td>https://www.heureka.cz/exit/mrakyhracek-cz/397...</td>\n",
              "    </tr>\n",
              "    <tr>\n",
              "      <th>Puppepop</th>\n",
              "      <td>339</td>\n",
              "      <td>Puppepop</td>\n",
              "      <td>https://www.heureka.cz/exit/minotaur-cz/388881...</td>\n",
              "    </tr>\n",
              "    <tr>\n",
              "      <th>Herní svět</th>\n",
              "      <td>339</td>\n",
              "      <td>Herní svět</td>\n",
              "      <td>https://www.heureka.cz/exit/puppepop-cz/396410...</td>\n",
              "    </tr>\n",
              "    <tr>\n",
              "      <th>Oskárek</th>\n",
              "      <td>339</td>\n",
              "      <td>Oskárek</td>\n",
              "      <td>https://www.heureka.cz/exit/herni-svet-cz/3857...</td>\n",
              "    </tr>\n",
              "    <tr>\n",
              "      <th>HerníCentro.cz</th>\n",
              "      <td>345</td>\n",
              "      <td>HerníCentro.cz</td>\n",
              "      <td>https://www.heureka.cz/exit/papirnictvioskarek...</td>\n",
              "    </tr>\n",
              "    <tr>\n",
              "      <th>Svět Komiksu</th>\n",
              "      <td>350</td>\n",
              "      <td>Svět Komiksu</td>\n",
              "      <td>https://www.heureka.cz/exit/hernicentro-cz/390...</td>\n",
              "    </tr>\n",
              "    <tr>\n",
              "      <th>Rajhracky.cz</th>\n",
              "      <td>352</td>\n",
              "      <td>Rajhracky.cz</td>\n",
              "      <td>https://www.heureka.cz/exit/svetkomiksu-cz/391...</td>\n",
              "    </tr>\n",
              "    <tr>\n",
              "      <th>Pop Planet</th>\n",
              "      <td>353</td>\n",
              "      <td>Pop Planet</td>\n",
              "      <td>https://www.heureka.cz/exit/rajhracky-cz/38849...</td>\n",
              "    </tr>\n",
              "    <tr>\n",
              "      <th>MegaHračky.cz</th>\n",
              "      <td>357</td>\n",
              "      <td>MegaHračky.cz</td>\n",
              "      <td>https://www.heureka.cz/exit/popplanet-cz/36994...</td>\n",
              "    </tr>\n",
              "    <tr>\n",
              "      <th>Modelína.cz</th>\n",
              "      <td>357</td>\n",
              "      <td>Modelína.cz</td>\n",
              "      <td>https://www.heureka.cz/exit/megahracky-cz/3977...</td>\n",
              "    </tr>\n",
              "    <tr>\n",
              "      <th>MegaComics</th>\n",
              "      <td>359</td>\n",
              "      <td>MegaComics</td>\n",
              "      <td>https://www.heureka.cz/exit/modelina-cz/397884...</td>\n",
              "    </tr>\n",
              "    <tr>\n",
              "      <th>BabyMall.cz</th>\n",
              "      <td>368</td>\n",
              "      <td>BabyMall.cz</td>\n",
              "      <td>https://www.heureka.cz/exit/megacomics-cz/3960...</td>\n",
              "    </tr>\n",
              "    <tr>\n",
              "      <th>Bílá Myš</th>\n",
              "      <td>369</td>\n",
              "      <td>Bílá Myš</td>\n",
              "      <td>https://www.heureka.cz/exit/babymall-cz/390766...</td>\n",
              "    </tr>\n",
              "    <tr>\n",
              "      <th>Gamebrand.cz</th>\n",
              "      <td>390</td>\n",
              "      <td>Gamebrand.cz</td>\n",
              "      <td>https://www.heureka.cz/exit/bilamys-com/396818...</td>\n",
              "    </tr>\n",
              "    <tr>\n",
              "      <th>Ludopolis</th>\n",
              "      <td>394</td>\n",
              "      <td>Ludopolis</td>\n",
              "      <td>https://sberatelske-figurky.heureka.cz/funko-p...</td>\n",
              "    </tr>\n",
              "    <tr>\n",
              "      <th>xzone.cz</th>\n",
              "      <td>399</td>\n",
              "      <td>xzone.cz</td>\n",
              "      <td>https://www.heureka.cz/exit/gamebrand-cz/38972...</td>\n",
              "    </tr>\n",
              "    <tr>\n",
              "      <th>CZC.cz</th>\n",
              "      <td>399</td>\n",
              "      <td>CZC.cz</td>\n",
              "      <td>https://www.heureka.cz/exit/ludopolis-cz/38963...</td>\n",
              "    </tr>\n",
              "    <tr>\n",
              "      <th>JRC Czech</th>\n",
              "      <td>399</td>\n",
              "      <td>JRC Czech</td>\n",
              "      <td>https://sberatelske-figurky.heureka.cz/funko-p...</td>\n",
              "    </tr>\n",
              "    <tr>\n",
              "      <th>GameExpres.cz</th>\n",
              "      <td>399</td>\n",
              "      <td>GameExpres.cz</td>\n",
              "      <td>https://www.heureka.cz/exit/xzone-cz/378621321...</td>\n",
              "    </tr>\n",
              "  </tbody>\n",
              "</table>\n",
              "</div>"
            ],
            "text/plain": [
              "               Cena  ...                                         url_adresa\n",
              "                337  ...  https://www.heureka.cz/exit/pipkin-cz/38854297...\n",
              "EasyToys        337  ...  https://www.heureka.cz/exit/fonetip-cz/3977346...\n",
              "Hračkárna.cz    337  ...  https://www.heureka.cz/exit/easytoys-cz/397726...\n",
              "Mrakyhraček     337  ...  https://www.heureka.cz/exit/hrackarna-cz/39771...\n",
              "minotaur.cz     339  ...  https://www.heureka.cz/exit/mrakyhracek-cz/397...\n",
              "Puppepop        339  ...  https://www.heureka.cz/exit/minotaur-cz/388881...\n",
              "Herní svět      339  ...  https://www.heureka.cz/exit/puppepop-cz/396410...\n",
              "Oskárek         339  ...  https://www.heureka.cz/exit/herni-svet-cz/3857...\n",
              "HerníCentro.cz  345  ...  https://www.heureka.cz/exit/papirnictvioskarek...\n",
              "Svět Komiksu    350  ...  https://www.heureka.cz/exit/hernicentro-cz/390...\n",
              "Rajhracky.cz    352  ...  https://www.heureka.cz/exit/svetkomiksu-cz/391...\n",
              "Pop Planet      353  ...  https://www.heureka.cz/exit/rajhracky-cz/38849...\n",
              "MegaHračky.cz   357  ...  https://www.heureka.cz/exit/popplanet-cz/36994...\n",
              "Modelína.cz     357  ...  https://www.heureka.cz/exit/megahracky-cz/3977...\n",
              "MegaComics      359  ...  https://www.heureka.cz/exit/modelina-cz/397884...\n",
              "BabyMall.cz     368  ...  https://www.heureka.cz/exit/megacomics-cz/3960...\n",
              "Bílá Myš        369  ...  https://www.heureka.cz/exit/babymall-cz/390766...\n",
              "Gamebrand.cz    390  ...  https://www.heureka.cz/exit/bilamys-com/396818...\n",
              "Ludopolis       394  ...  https://sberatelske-figurky.heureka.cz/funko-p...\n",
              "xzone.cz        399  ...  https://www.heureka.cz/exit/gamebrand-cz/38972...\n",
              "CZC.cz          399  ...  https://www.heureka.cz/exit/ludopolis-cz/38963...\n",
              "JRC Czech       399  ...  https://sberatelske-figurky.heureka.cz/funko-p...\n",
              "GameExpres.cz   399  ...  https://www.heureka.cz/exit/xzone-cz/378621321...\n",
              "\n",
              "[23 rows x 3 columns]"
            ]
          },
          "metadata": {
            "tags": []
          },
          "execution_count": 0
        }
      ]
    },
    {
      "cell_type": "code",
      "metadata": {
        "id": "8gIxnj8e5EgL"
      },
      "source": [
        "kde_najdu, url_odkaz, hledam, cena = moje_data.sort_values(\"Cena\").index[0], moje_data.sort_values(\"Cena\").url_adresa[0], hledam,  moje_data.sort_values(\"Cena\").Cena[0]"
      ],
      "execution_count": null,
      "outputs": []
    },
    {
      "cell_type": "markdown",
      "metadata": {
        "id": "dTndNbI_9C9O"
      },
      "source": [
        "# Vytvorime si text"
      ]
    },
    {
      "cell_type": "code",
      "metadata": {
        "id": "obd-ovK_5Xhz"
      },
      "source": [
        "jmeno = \"\"\r\n",
        "prijmeni = \"\" \r\n",
        "vek = \"\"\r\n",
        "dopis_jeziskovi = f\"\"\"Mily Jezisku! Jmenu ji se {jemno} {prijmeni}Pral bych si k Vanocum tohle: {hledam}. Trochu jsem si zagooglil a vim, kde muzes usetrit: {kde_najdu}. Ne ze bys to potreboval, ale treba se to bude hodit 🙂 Tenhle darek najdes za prijemnou cenu: {cena} na tehle adrese: {url_odkaz}. Dekuju a preju Ti vsechno nejlepsi k narozeninam! 🙂\"\"\""
      ],
      "execution_count": null,
      "outputs": []
    },
    {
      "cell_type": "code",
      "metadata": {
        "colab": {
          "base_uri": "https://localhost:8080/",
          "height": 51
        },
        "id": "s7aPPRaI6oHQ",
        "outputId": "0981aa2d-7df1-4dba-bb2e-699cb639193a"
      },
      "source": [
        "dopis_jeziskovi"
      ],
      "execution_count": null,
      "outputs": [
        {
          "output_type": "execute_result",
          "data": {
            "application/vnd.google.colaboratory.intrinsic+json": {
              "type": "string"
            },
            "text/plain": [
              "'Ahoj chci k Vanocum tohle: baby yoda trochu jsem zagooglil a vim kde muzes usetrit: Heureka, najdes to tam za prijemnou cenu: 379 v kc. hledej na tehle adrese: https://sberatelske-figurky.heureka.cz/funko-pop-star-wars-mandalorian-the-child-9-cm/'"
            ]
          },
          "metadata": {
            "tags": []
          },
          "execution_count": 307
        }
      ]
    },
    {
      "cell_type": "markdown",
      "metadata": {
        "id": "WjvTdgiC85tk"
      },
      "source": [
        "# Vytvor soubory pro Jeziska"
      ]
    },
    {
      "cell_type": "code",
      "metadata": {
        "id": "AIaEPih55zrz"
      },
      "source": [
        "with open(\"dopic_jezisek\", \"w\") as file:\r\n",
        "  write_file = file.write(dopis_jeziskovi)"
      ],
      "execution_count": null,
      "outputs": []
    },
    {
      "cell_type": "code",
      "metadata": {
        "id": "XiNCAxgp7OBm"
      },
      "source": [
        "#Jeziskovy posli celkem dva soubory.... txt file + csv file"
      ],
      "execution_count": null,
      "outputs": []
    },
    {
      "cell_type": "code",
      "metadata": {
        "id": "bvhs0f1j7ZBc"
      },
      "source": [
        "moje_data.sort_values(\"Cena\").to_csv(\"Data_pro_jeziska\")"
      ],
      "execution_count": null,
      "outputs": []
    },
    {
      "cell_type": "code",
      "metadata": {
        "id": "YNE1XyYOAZOI"
      },
      "source": [
        ""
      ],
      "execution_count": null,
      "outputs": []
    }
  ]
}